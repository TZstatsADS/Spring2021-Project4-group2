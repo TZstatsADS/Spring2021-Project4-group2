{
 "cells": [
  {
   "cell_type": "markdown",
   "id": "creative-accessory",
   "metadata": {},
   "source": [
    "# STAT5243 Project 4: Causal Inference"
   ]
  },
  {
   "cell_type": "markdown",
   "id": "random-jenny",
   "metadata": {},
   "source": [
    "**Group 2:**\n",
    "\n",
    "    Wendy Doan\n",
    "    Yibai Liu\n",
    "    Yiwen Fang\n",
    "    Shuqi Yu\n",
    "    Zhihang Xia"
   ]
  },
  {
   "cell_type": "markdown",
   "id": "entire-trade",
   "metadata": {},
   "source": [
    "## Exploring the data"
   ]
  },
  {
   "cell_type": "code",
   "execution_count": 1,
   "id": "complicated-acrylic",
   "metadata": {},
   "outputs": [],
   "source": [
    "import numpy as np\n",
    "import pandas as pd\n",
    "import matplotlib.pyplot as plt"
   ]
  },
  {
   "cell_type": "code",
   "execution_count": 2,
   "id": "lesser-better",
   "metadata": {},
   "outputs": [],
   "source": [
    "highDim_dataset = pd.read_csv('../data/highDim_dataset.csv')\n",
    "lowDim_dataset = pd.read_csv('../data/lowDim_dataset.csv')"
   ]
  },
  {
   "cell_type": "code",
   "execution_count": 3,
   "id": "shared-sensitivity",
   "metadata": {},
   "outputs": [
    {
     "data": {
      "text/plain": [
       "(2000, 187)"
      ]
     },
     "execution_count": 3,
     "metadata": {},
     "output_type": "execute_result"
    }
   ],
   "source": [
    "highDim_dataset.shape"
   ]
  },
  {
   "cell_type": "code",
   "execution_count": 4,
   "id": "arctic-douglas",
   "metadata": {},
   "outputs": [
    {
     "data": {
      "text/html": [
       "<div>\n",
       "<style scoped>\n",
       "    .dataframe tbody tr th:only-of-type {\n",
       "        vertical-align: middle;\n",
       "    }\n",
       "\n",
       "    .dataframe tbody tr th {\n",
       "        vertical-align: top;\n",
       "    }\n",
       "\n",
       "    .dataframe thead th {\n",
       "        text-align: right;\n",
       "    }\n",
       "</style>\n",
       "<table border=\"1\" class=\"dataframe\">\n",
       "  <thead>\n",
       "    <tr style=\"text-align: right;\">\n",
       "      <th></th>\n",
       "      <th>Y</th>\n",
       "      <th>A</th>\n",
       "      <th>V1</th>\n",
       "      <th>V2</th>\n",
       "      <th>V3</th>\n",
       "      <th>V4</th>\n",
       "      <th>V5</th>\n",
       "      <th>V6</th>\n",
       "      <th>V7</th>\n",
       "      <th>V8</th>\n",
       "      <th>...</th>\n",
       "      <th>V176</th>\n",
       "      <th>V177</th>\n",
       "      <th>V178</th>\n",
       "      <th>V179</th>\n",
       "      <th>V180</th>\n",
       "      <th>V181</th>\n",
       "      <th>V182</th>\n",
       "      <th>V183</th>\n",
       "      <th>V184</th>\n",
       "      <th>V185</th>\n",
       "    </tr>\n",
       "  </thead>\n",
       "  <tbody>\n",
       "    <tr>\n",
       "      <th>0</th>\n",
       "      <td>41.224513</td>\n",
       "      <td>0</td>\n",
       "      <td>0</td>\n",
       "      <td>1</td>\n",
       "      <td>4</td>\n",
       "      <td>18</td>\n",
       "      <td>17</td>\n",
       "      <td>-1</td>\n",
       "      <td>1</td>\n",
       "      <td>0.75</td>\n",
       "      <td>...</td>\n",
       "      <td>8</td>\n",
       "      <td>10</td>\n",
       "      <td>8</td>\n",
       "      <td>9</td>\n",
       "      <td>8</td>\n",
       "      <td>-1</td>\n",
       "      <td>-1</td>\n",
       "      <td>-1</td>\n",
       "      <td>-1</td>\n",
       "      <td>-1</td>\n",
       "    </tr>\n",
       "    <tr>\n",
       "      <th>1</th>\n",
       "      <td>40.513875</td>\n",
       "      <td>0</td>\n",
       "      <td>0</td>\n",
       "      <td>0</td>\n",
       "      <td>1</td>\n",
       "      <td>10</td>\n",
       "      <td>6</td>\n",
       "      <td>-1</td>\n",
       "      <td>10</td>\n",
       "      <td>0.35</td>\n",
       "      <td>...</td>\n",
       "      <td>6</td>\n",
       "      <td>5</td>\n",
       "      <td>6</td>\n",
       "      <td>8</td>\n",
       "      <td>5</td>\n",
       "      <td>-1</td>\n",
       "      <td>-1</td>\n",
       "      <td>-1</td>\n",
       "      <td>-1</td>\n",
       "      <td>-1</td>\n",
       "    </tr>\n",
       "    <tr>\n",
       "      <th>2</th>\n",
       "      <td>38.495476</td>\n",
       "      <td>0</td>\n",
       "      <td>0</td>\n",
       "      <td>0</td>\n",
       "      <td>16</td>\n",
       "      <td>8</td>\n",
       "      <td>4</td>\n",
       "      <td>4</td>\n",
       "      <td>4</td>\n",
       "      <td>0.40</td>\n",
       "      <td>...</td>\n",
       "      <td>-1</td>\n",
       "      <td>-1</td>\n",
       "      <td>-1</td>\n",
       "      <td>-1</td>\n",
       "      <td>-1</td>\n",
       "      <td>-1</td>\n",
       "      <td>-1</td>\n",
       "      <td>-1</td>\n",
       "      <td>-1</td>\n",
       "      <td>-1</td>\n",
       "    </tr>\n",
       "    <tr>\n",
       "      <th>3</th>\n",
       "      <td>33.001889</td>\n",
       "      <td>0</td>\n",
       "      <td>1</td>\n",
       "      <td>0</td>\n",
       "      <td>3</td>\n",
       "      <td>10</td>\n",
       "      <td>2</td>\n",
       "      <td>-1</td>\n",
       "      <td>5</td>\n",
       "      <td>0.41</td>\n",
       "      <td>...</td>\n",
       "      <td>-1</td>\n",
       "      <td>-1</td>\n",
       "      <td>-1</td>\n",
       "      <td>-1</td>\n",
       "      <td>-1</td>\n",
       "      <td>-1</td>\n",
       "      <td>-1</td>\n",
       "      <td>-1</td>\n",
       "      <td>-1</td>\n",
       "      <td>-1</td>\n",
       "    </tr>\n",
       "    <tr>\n",
       "      <th>4</th>\n",
       "      <td>37.043603</td>\n",
       "      <td>0</td>\n",
       "      <td>1</td>\n",
       "      <td>1</td>\n",
       "      <td>11</td>\n",
       "      <td>21</td>\n",
       "      <td>10</td>\n",
       "      <td>10</td>\n",
       "      <td>20</td>\n",
       "      <td>0.43</td>\n",
       "      <td>...</td>\n",
       "      <td>6</td>\n",
       "      <td>8</td>\n",
       "      <td>7</td>\n",
       "      <td>7</td>\n",
       "      <td>7</td>\n",
       "      <td>6</td>\n",
       "      <td>7</td>\n",
       "      <td>6</td>\n",
       "      <td>6</td>\n",
       "      <td>7</td>\n",
       "    </tr>\n",
       "  </tbody>\n",
       "</table>\n",
       "<p>5 rows × 187 columns</p>\n",
       "</div>"
      ],
      "text/plain": [
       "           Y  A  V1  V2  V3  V4  V5  V6  V7    V8  ...  V176  V177  V178  \\\n",
       "0  41.224513  0   0   1   4  18  17  -1   1  0.75  ...     8    10     8   \n",
       "1  40.513875  0   0   0   1  10   6  -1  10  0.35  ...     6     5     6   \n",
       "2  38.495476  0   0   0  16   8   4   4   4  0.40  ...    -1    -1    -1   \n",
       "3  33.001889  0   1   0   3  10   2  -1   5  0.41  ...    -1    -1    -1   \n",
       "4  37.043603  0   1   1  11  21  10  10  20  0.43  ...     6     8     7   \n",
       "\n",
       "   V179  V180  V181  V182  V183  V184  V185  \n",
       "0     9     8    -1    -1    -1    -1    -1  \n",
       "1     8     5    -1    -1    -1    -1    -1  \n",
       "2    -1    -1    -1    -1    -1    -1    -1  \n",
       "3    -1    -1    -1    -1    -1    -1    -1  \n",
       "4     7     7     6     7     6     6     7  \n",
       "\n",
       "[5 rows x 187 columns]"
      ]
     },
     "execution_count": 4,
     "metadata": {},
     "output_type": "execute_result"
    }
   ],
   "source": [
    "highDim_dataset.head()"
   ]
  },
  {
   "cell_type": "code",
   "execution_count": 5,
   "id": "typical-samoa",
   "metadata": {},
   "outputs": [
    {
     "data": {
      "text/plain": [
       "(500, 24)"
      ]
     },
     "execution_count": 5,
     "metadata": {},
     "output_type": "execute_result"
    }
   ],
   "source": [
    "lowDim_dataset.shape"
   ]
  },
  {
   "cell_type": "code",
   "execution_count": 6,
   "id": "classified-evanescence",
   "metadata": {},
   "outputs": [
    {
     "data": {
      "text/html": [
       "<div>\n",
       "<style scoped>\n",
       "    .dataframe tbody tr th:only-of-type {\n",
       "        vertical-align: middle;\n",
       "    }\n",
       "\n",
       "    .dataframe tbody tr th {\n",
       "        vertical-align: top;\n",
       "    }\n",
       "\n",
       "    .dataframe thead th {\n",
       "        text-align: right;\n",
       "    }\n",
       "</style>\n",
       "<table border=\"1\" class=\"dataframe\">\n",
       "  <thead>\n",
       "    <tr style=\"text-align: right;\">\n",
       "      <th></th>\n",
       "      <th>Y</th>\n",
       "      <th>A</th>\n",
       "      <th>V1</th>\n",
       "      <th>V2</th>\n",
       "      <th>V3</th>\n",
       "      <th>V4</th>\n",
       "      <th>V5</th>\n",
       "      <th>V6</th>\n",
       "      <th>V7</th>\n",
       "      <th>V8</th>\n",
       "      <th>...</th>\n",
       "      <th>V13</th>\n",
       "      <th>V14</th>\n",
       "      <th>V15</th>\n",
       "      <th>V16</th>\n",
       "      <th>V17</th>\n",
       "      <th>V18</th>\n",
       "      <th>V19</th>\n",
       "      <th>V20</th>\n",
       "      <th>V21</th>\n",
       "      <th>V22</th>\n",
       "    </tr>\n",
       "  </thead>\n",
       "  <tbody>\n",
       "    <tr>\n",
       "      <th>0</th>\n",
       "      <td>30.486999</td>\n",
       "      <td>0</td>\n",
       "      <td>0.00</td>\n",
       "      <td>0.00</td>\n",
       "      <td>0.00</td>\n",
       "      <td>0.0</td>\n",
       "      <td>0.0</td>\n",
       "      <td>0.00</td>\n",
       "      <td>0.0</td>\n",
       "      <td>0.00</td>\n",
       "      <td>...</td>\n",
       "      <td>0.0</td>\n",
       "      <td>0.00</td>\n",
       "      <td>0.00</td>\n",
       "      <td>0.0</td>\n",
       "      <td>0.00</td>\n",
       "      <td>0.0</td>\n",
       "      <td>0.00</td>\n",
       "      <td>0.00</td>\n",
       "      <td>9.09</td>\n",
       "      <td>1.149622</td>\n",
       "    </tr>\n",
       "    <tr>\n",
       "      <th>1</th>\n",
       "      <td>18.208417</td>\n",
       "      <td>0</td>\n",
       "      <td>0.00</td>\n",
       "      <td>0.00</td>\n",
       "      <td>0.00</td>\n",
       "      <td>0.0</td>\n",
       "      <td>0.0</td>\n",
       "      <td>0.00</td>\n",
       "      <td>0.0</td>\n",
       "      <td>1.40</td>\n",
       "      <td>...</td>\n",
       "      <td>0.7</td>\n",
       "      <td>0.00</td>\n",
       "      <td>1.40</td>\n",
       "      <td>0.0</td>\n",
       "      <td>1.40</td>\n",
       "      <td>0.0</td>\n",
       "      <td>0.00</td>\n",
       "      <td>0.00</td>\n",
       "      <td>0.00</td>\n",
       "      <td>2.887702</td>\n",
       "    </tr>\n",
       "    <tr>\n",
       "      <th>2</th>\n",
       "      <td>13.485040</td>\n",
       "      <td>0</td>\n",
       "      <td>0.00</td>\n",
       "      <td>0.00</td>\n",
       "      <td>0.00</td>\n",
       "      <td>0.0</td>\n",
       "      <td>0.0</td>\n",
       "      <td>0.00</td>\n",
       "      <td>0.0</td>\n",
       "      <td>0.00</td>\n",
       "      <td>...</td>\n",
       "      <td>0.0</td>\n",
       "      <td>0.00</td>\n",
       "      <td>3.57</td>\n",
       "      <td>0.0</td>\n",
       "      <td>0.00</td>\n",
       "      <td>0.0</td>\n",
       "      <td>0.00</td>\n",
       "      <td>0.00</td>\n",
       "      <td>0.00</td>\n",
       "      <td>0.000000</td>\n",
       "    </tr>\n",
       "    <tr>\n",
       "      <th>3</th>\n",
       "      <td>25.699678</td>\n",
       "      <td>1</td>\n",
       "      <td>2.38</td>\n",
       "      <td>0.00</td>\n",
       "      <td>0.00</td>\n",
       "      <td>0.0</td>\n",
       "      <td>0.0</td>\n",
       "      <td>0.00</td>\n",
       "      <td>0.0</td>\n",
       "      <td>0.00</td>\n",
       "      <td>...</td>\n",
       "      <td>0.0</td>\n",
       "      <td>0.00</td>\n",
       "      <td>2.38</td>\n",
       "      <td>0.0</td>\n",
       "      <td>2.38</td>\n",
       "      <td>0.0</td>\n",
       "      <td>0.00</td>\n",
       "      <td>0.00</td>\n",
       "      <td>0.00</td>\n",
       "      <td>0.405465</td>\n",
       "    </tr>\n",
       "    <tr>\n",
       "      <th>4</th>\n",
       "      <td>23.752968</td>\n",
       "      <td>0</td>\n",
       "      <td>0.15</td>\n",
       "      <td>0.15</td>\n",
       "      <td>0.05</td>\n",
       "      <td>0.1</td>\n",
       "      <td>0.0</td>\n",
       "      <td>0.42</td>\n",
       "      <td>0.1</td>\n",
       "      <td>0.95</td>\n",
       "      <td>...</td>\n",
       "      <td>0.0</td>\n",
       "      <td>0.36</td>\n",
       "      <td>3.16</td>\n",
       "      <td>0.0</td>\n",
       "      <td>1.58</td>\n",
       "      <td>0.0</td>\n",
       "      <td>0.52</td>\n",
       "      <td>0.31</td>\n",
       "      <td>0.00</td>\n",
       "      <td>1.574639</td>\n",
       "    </tr>\n",
       "  </tbody>\n",
       "</table>\n",
       "<p>5 rows × 24 columns</p>\n",
       "</div>"
      ],
      "text/plain": [
       "           Y  A    V1    V2    V3   V4   V5    V6   V7    V8  ...  V13   V14  \\\n",
       "0  30.486999  0  0.00  0.00  0.00  0.0  0.0  0.00  0.0  0.00  ...  0.0  0.00   \n",
       "1  18.208417  0  0.00  0.00  0.00  0.0  0.0  0.00  0.0  1.40  ...  0.7  0.00   \n",
       "2  13.485040  0  0.00  0.00  0.00  0.0  0.0  0.00  0.0  0.00  ...  0.0  0.00   \n",
       "3  25.699678  1  2.38  0.00  0.00  0.0  0.0  0.00  0.0  0.00  ...  0.0  0.00   \n",
       "4  23.752968  0  0.15  0.15  0.05  0.1  0.0  0.42  0.1  0.95  ...  0.0  0.36   \n",
       "\n",
       "    V15  V16   V17  V18   V19   V20   V21       V22  \n",
       "0  0.00  0.0  0.00  0.0  0.00  0.00  9.09  1.149622  \n",
       "1  1.40  0.0  1.40  0.0  0.00  0.00  0.00  2.887702  \n",
       "2  3.57  0.0  0.00  0.0  0.00  0.00  0.00  0.000000  \n",
       "3  2.38  0.0  2.38  0.0  0.00  0.00  0.00  0.405465  \n",
       "4  3.16  0.0  1.58  0.0  0.52  0.31  0.00  1.574639  \n",
       "\n",
       "[5 rows x 24 columns]"
      ]
     },
     "execution_count": 6,
     "metadata": {},
     "output_type": "execute_result"
    }
   ],
   "source": [
    "lowDim_dataset.head()"
   ]
  },
  {
   "cell_type": "code",
   "execution_count": 7,
   "id": "angry-boundary",
   "metadata": {},
   "outputs": [
    {
     "data": {
      "image/png": "[encoded data removed]",
      "text/plain": [
       "<Figure size 432x288 with 1 Axes>"
      ]
     },
     "metadata": {
      "needs_background": "light"
     },
     "output_type": "display_data"
    }
   ],
   "source": [
    "plt.plot(highDim_dataset[highDim_dataset.A == 1].Y, 'o', label=\"Treatment\")\n",
    "plt.plot(highDim_dataset[highDim_dataset.A == 0].Y, 'ro', label=\"Control\")\n",
    "plt.title(\"High-dimension data distribution\")\n",
    "plt.ylabel(\"Y\")\n",
    "plt.legend()\n",
    "plt.show()"
   ]
  },
  {
   "cell_type": "markdown",
   "id": "micro-basis",
   "metadata": {},
   "source": [
    "plt.plot(lowDim_dataset[lowDim_dataset.A == 1].Y, 'o', label='Treatment')\n",
    "plt.plot(lowDim_dataset[lowDim_dataset.A == 0].Y, 'ro', label = 'Control')\n",
    "plt.title(\"Low-dimension data distribution\")\n",
    "plt.ylabel(\"Y\")\n",
    "plt.legend()\n",
    "plt.show()"
   ]
  },
  {
   "cell_type": "markdown",
   "id": "pressing-mozambique",
   "metadata": {},
   "source": [
    "## Native ATE"
   ]
  },
  {
   "cell_type": "code",
   "execution_count": 8,
   "id": "assigned-senegal",
   "metadata": {},
   "outputs": [],
   "source": [
    "def ATE(dataset):\n",
    "    return dataset[dataset[\"A\"] == 1][\"Y\"].mean() - dataset[dataset[\"A\"] == 0][\"Y\"].mean()\n",
    "    return np.average(dataset[dataset.A == 1].Y) - np.average(dataset[dataset.A == 0].Y)"
   ]
  },
  {
   "cell_type": "code",
   "execution_count": 9,
   "id": "seasonal-cardiff",
   "metadata": {},
   "outputs": [
    {
     "data": {
      "text/plain": [
       "-75.17133436876794"
      ]
     },
     "execution_count": 9,
     "metadata": {},
     "output_type": "execute_result"
    }
   ],
   "source": [
    "ATE(highDim_dataset)"
   ]
  },
  {
   "cell_type": "code",
   "execution_count": 10,
   "id": "grave-kelly",
   "metadata": {},
   "outputs": [
    {
     "data": {
      "text/plain": [
       "10.60206866191568"
      ]
     },
     "execution_count": 10,
     "metadata": {},
     "output_type": "execute_result"
    }
   ],
   "source": [
    "ATE(lowDim_dataset)"
   ]
  },
  {
   "cell_type": "markdown",
   "id": "separated-acquisition",
   "metadata": {},
   "source": [
    "## Propensity score - boosted stumps (GBM)"
   ]
  },
  {
   "cell_type": "markdown",
   "id": "global-hungarian",
   "metadata": {},
   "source": [
    "**High Dim no weight**"
   ]
  },
  {
   "cell_type": "code",
   "execution_count": 11,
   "id": "derived-trial",
   "metadata": {},
   "outputs": [],
   "source": [
    "from sklearn.model_selection import train_test_split"
   ]
  },
  {
   "cell_type": "code",
   "execution_count": 12,
   "id": "controversial-cameroon",
   "metadata": {},
   "outputs": [],
   "source": [
    "def my_train_test_split(dataset):\n",
    "    X = dataset.drop(['Y', 'A'], axis=1)\n",
    "    A = dataset['A']\n",
    "    X_train, X_test, A_train, A_test = train_test_split(X, A, test_size=0.2, random_state=42)\n",
    "    return X_train, X_test, A_train, A_test"
   ]
  },
  {
   "cell_type": "markdown",
   "id": "voluntary-scotland",
   "metadata": {},
   "source": [
    "**Grid search**"
   ]
  },
  {
   "cell_type": "code",
   "execution_count": 13,
   "id": "explicit-crown",
   "metadata": {},
   "outputs": [],
   "source": [
    "from sklearn.model_selection import GridSearchCV"
   ]
  },
  {
   "cell_type": "code",
   "execution_count": 14,
   "id": "variable-ground",
   "metadata": {},
   "outputs": [],
   "source": [
    "param_grid = {\n",
    "              'learning_rate': [0.05, 0.01],\n",
    "              'max_depth': [3, 5],\n",
    "              'min_samples_split': [2,],\n",
    "              'n_estimators': [100],\n",
    "              'min_samples_leaf': [1, 3]\n",
    "              }"
   ]
  },
  {
   "cell_type": "code",
   "execution_count": 15,
   "id": "seasonal-apparel",
   "metadata": {},
   "outputs": [],
   "source": [
    "def grid_search(X, A, model, param_grid=param_grid, cv=5, print_step = True, sample_weight=None):\n",
    "    \"\"\"\n",
    "    Takes a baseline model and does grid search among parameters in the param_grid with cross validation.\n",
    "    Returns the model with best hyparameters after searching\n",
    "    \n",
    "    Inputs:\n",
    "    -------\n",
    "    X: feature set for fitting the model\n",
    "    y: target for predictions\n",
    "    model: an sklearn estimator object\n",
    "    param_grid: dict, a dictionary that contains possible search values for parameters\n",
    "    print_step: bool, whether to print detailed scores for each combination of parameters;\n",
    "                set print_step=False to only report the best combination of parameters and the best scores\n",
    "    sample_weight:np.array, instance weights, optional\n",
    "    \n",
    "    \n",
    "    Output:\n",
    "    -------\n",
    "    The sklearn estimator object with hyperparameters set to be the best parameters from search \n",
    "    \"\"\"\n",
    "    if sample_weight is None:\n",
    "        clf = GridSearchCV(model, param_grid, cv=cv, n_jobs=-1).fit(X, A)\n",
    "    else:\n",
    "        clf = GridSearchCV(model, param_grid, cv=cv, n_jobs=-1).fit(X, A, sample_weight = sample_weight)\n",
    "    print(\"Best accuracy: %0.3f\" % (clf.best_score_))\n",
    "    print()\n",
    "    print(\"Best parameters: %r\" % clf.best_params_)\n",
    "    print('-'*30)\n",
    "    if print_step:\n",
    "        means = clf.cv_results_['mean_test_score']\n",
    "        stds = clf.cv_results_['std_test_score']\n",
    "        for mean, std, params in zip(means, stds, clf.cv_results_['params']):\n",
    "        \t\tprint(\"%0.3f (+/-%0.03f) for %r\" % (mean, std * 2, params))\n",
    "        print('-'*30)\n",
    "\n",
    "    return(model.set_params(**clf.best_params_))"
   ]
  },
  {
   "cell_type": "markdown",
   "id": "juvenile-stamp",
   "metadata": {},
   "source": [
    "**High Dim no weight**"
   ]
  },
  {
   "cell_type": "code",
   "execution_count": 16,
   "id": "inside-intelligence",
   "metadata": {},
   "outputs": [],
   "source": [
    "from sklearn.ensemble import GradientBoostingClassifier"
   ]
  },
  {
   "cell_type": "code",
   "execution_count": 17,
   "id": "differential-behavior",
   "metadata": {},
   "outputs": [],
   "source": [
    "X_train, X_test, A_train, A_test = my_train_test_split(highDim_dataset)"
   ]
  },
  {
   "cell_type": "code",
   "execution_count": 18,
   "id": "complicated-exclusion",
   "metadata": {},
   "outputs": [],
   "source": [
    "# gbm_high_no_weight = grid_search(X_train, A_train, model=GradientBoostingClassifier(random_state=0), sample_weight=None)"
   ]
  },
  {
   "cell_type": "code",
   "execution_count": 19,
   "id": "fantastic-symphony",
   "metadata": {},
   "outputs": [
    {
     "data": {
      "text/plain": [
       "0.7325"
      ]
     },
     "execution_count": 19,
     "metadata": {},
     "output_type": "execute_result"
    }
   ],
   "source": [
    "# Best params from grid search\n",
    "# best_params_high_no_weight = {'learning_rate': 0.05, 'max_depth': 3, 'min_samples_leaf': 3, 'min_samples_split': 2, 'n_estimators': 100}\n",
    "\n",
    "# Emperical best params\n",
    "best_params_high_no_weight = {'learning_rate': 0.01, 'max_depth': 3, 'min_samples_leaf': 3, 'min_samples_split': 2, 'n_estimators': 100}\n",
    "gbm_high_no_weight = GradientBoostingClassifier(random_state=0).set_params(**best_params_high_no_weight)\n",
    "clf = gbm_high_no_weight.fit(X_train, A_train, sample_weight=None)\n",
    "clf.score(X_test, A_test)"
   ]
  },
  {
   "cell_type": "code",
   "execution_count": 20,
   "id": "chronic-junction",
   "metadata": {},
   "outputs": [
    {
     "data": {
      "text/plain": [
       "array([0.31110791, 0.27882681, 0.24175831, ..., 0.32230458, 0.44546939,\n",
       "       0.23874014])"
      ]
     },
     "execution_count": 20,
     "metadata": {},
     "output_type": "execute_result"
    }
   ],
   "source": [
    "X = highDim_dataset.drop(['Y', 'A'], axis=1)\n",
    "ps_highDim_dataset_no_weight = clf.predict_proba(X)[:, 1]\n",
    "ps_highDim_dataset_no_weight"
   ]
  },
  {
   "cell_type": "markdown",
   "id": "tutorial-character",
   "metadata": {},
   "source": [
    "**Low Dim no weight**"
   ]
  },
  {
   "cell_type": "code",
   "execution_count": 21,
   "id": "middle-writing",
   "metadata": {},
   "outputs": [],
   "source": [
    "X_train, X_test, A_train, A_test = my_train_test_split(lowDim_dataset)"
   ]
  },
  {
   "cell_type": "code",
   "execution_count": 22,
   "id": "cognitive-basics",
   "metadata": {},
   "outputs": [
    {
     "name": "stdout",
     "output_type": "stream",
     "text": [
      "Best accuracy: 0.790\n",
      "\n",
      "Best parameters: {'learning_rate': 0.05, 'max_depth': 3, 'min_samples_leaf': 3, 'min_samples_split': 2, 'n_estimators': 100}\n",
      "------------------------------\n",
      "0.780 (+/-0.037) for {'learning_rate': 0.05, 'max_depth': 3, 'min_samples_leaf': 1, 'min_samples_split': 2, 'n_estimators': 100}\n",
      "0.790 (+/-0.029) for {'learning_rate': 0.05, 'max_depth': 3, 'min_samples_leaf': 3, 'min_samples_split': 2, 'n_estimators': 100}\n",
      "0.770 (+/-0.062) for {'learning_rate': 0.05, 'max_depth': 5, 'min_samples_leaf': 1, 'min_samples_split': 2, 'n_estimators': 100}\n",
      "0.760 (+/-0.062) for {'learning_rate': 0.05, 'max_depth': 5, 'min_samples_leaf': 3, 'min_samples_split': 2, 'n_estimators': 100}\n",
      "0.785 (+/-0.040) for {'learning_rate': 0.01, 'max_depth': 3, 'min_samples_leaf': 1, 'min_samples_split': 2, 'n_estimators': 100}\n",
      "0.787 (+/-0.032) for {'learning_rate': 0.01, 'max_depth': 3, 'min_samples_leaf': 3, 'min_samples_split': 2, 'n_estimators': 100}\n",
      "0.782 (+/-0.046) for {'learning_rate': 0.01, 'max_depth': 5, 'min_samples_leaf': 1, 'min_samples_split': 2, 'n_estimators': 100}\n",
      "0.780 (+/-0.044) for {'learning_rate': 0.01, 'max_depth': 5, 'min_samples_leaf': 3, 'min_samples_split': 2, 'n_estimators': 100}\n",
      "------------------------------\n"
     ]
    }
   ],
   "source": [
    "gbm_low_no_weight = grid_search(X_train, A_train, model=GradientBoostingClassifier(random_state=0), sample_weight=None)"
   ]
  },
  {
   "cell_type": "code",
   "execution_count": 23,
   "id": "numerous-socket",
   "metadata": {},
   "outputs": [
    {
     "data": {
      "text/plain": [
       "0.85"
      ]
     },
     "execution_count": 23,
     "metadata": {},
     "output_type": "execute_result"
    }
   ],
   "source": [
    "# Best params from grid search\n",
    "# best_params_high_no_weight = {'learning_rate': 0.05, 'max_depth': 3, 'min_samples_leaf': 3, 'min_samples_split': 2, 'n_estimators': 100}\n",
    "\n",
    "# Emperical best params\n",
    "best_params_low_no_weight = {'learning_rate': 0.05, 'max_depth': 3, 'min_samples_leaf': 3, 'min_samples_split': 2, 'n_estimators': 100}\n",
    "gbm_low_no_weight = GradientBoostingClassifier(random_state=0).set_params(**best_params_low_no_weight)\n",
    "clf = gbm_low_no_weight.fit(X_train, A_train, sample_weight=None)\n",
    "clf.score(X_test, A_test)"
   ]
  },
  {
   "cell_type": "code",
   "execution_count": 24,
   "id": "improving-boulder",
   "metadata": {},
   "outputs": [
    {
     "data": {
      "text/plain": [
       "array([0.08970879, 0.25204711, 0.14523418, 0.58805548, 0.23587105,\n",
       "       0.13746068, 0.15502656, 0.15096585, 0.09032899, 0.42539141])"
      ]
     },
     "execution_count": 24,
     "metadata": {},
     "output_type": "execute_result"
    }
   ],
   "source": [
    "X = lowDim_dataset.drop(['Y', 'A'], axis=1)\n",
    "ps_lowDim_dataset_no_weight = clf.predict_proba(X)[:, 1]\n",
    "ps_lowDim_dataset_no_weight[:10]"
   ]
  },
  {
   "cell_type": "markdown",
   "id": "confident-thong",
   "metadata": {},
   "source": [
    "**High Dim with weight**"
   ]
  },
  {
   "cell_type": "code",
   "execution_count": 25,
   "id": "asian-sentence",
   "metadata": {},
   "outputs": [],
   "source": [
    "def get_sample_weight(dataset):\n",
    "    weight_0 = dataset.shape[0] / dataset[dataset[\"A\"]==0].shape[0]\n",
    "    weight_1 = dataset.shape[0] / dataset[dataset[\"A\"]==1].shape[0]\n",
    "    res = dataset['A'].to_frame()\n",
    "    res[res['A'] == 0] = weight_0\n",
    "    res[res['A'] == 1] = weight_1\n",
    "    res = res['A']\n",
    "    return res"
   ]
  },
  {
   "cell_type": "code",
   "execution_count": 26,
   "id": "french-grounds",
   "metadata": {},
   "outputs": [],
   "source": [
    "X_train, X_test, A_train, A_test = my_train_test_split(highDim_dataset)\n",
    "A_train_pd = A_train.to_frame()\n",
    "sample_weight = get_sample_weight(A_train_pd)"
   ]
  },
  {
   "cell_type": "code",
   "execution_count": 27,
   "id": "changing-publicity",
   "metadata": {},
   "outputs": [
    {
     "name": "stdout",
     "output_type": "stream",
     "text": [
      "Best accuracy: 0.665\n",
      "\n",
      "Best parameters: {'learning_rate': 0.05, 'max_depth': 5, 'min_samples_leaf': 3, 'min_samples_split': 2, 'n_estimators': 100}\n",
      "------------------------------\n",
      "0.641 (+/-0.067) for {'learning_rate': 0.05, 'max_depth': 3, 'min_samples_leaf': 1, 'min_samples_split': 2, 'n_estimators': 100}\n",
      "0.647 (+/-0.057) for {'learning_rate': 0.05, 'max_depth': 3, 'min_samples_leaf': 3, 'min_samples_split': 2, 'n_estimators': 100}\n",
      "0.653 (+/-0.049) for {'learning_rate': 0.05, 'max_depth': 5, 'min_samples_leaf': 1, 'min_samples_split': 2, 'n_estimators': 100}\n",
      "0.665 (+/-0.034) for {'learning_rate': 0.05, 'max_depth': 5, 'min_samples_leaf': 3, 'min_samples_split': 2, 'n_estimators': 100}\n",
      "0.660 (+/-0.037) for {'learning_rate': 0.01, 'max_depth': 3, 'min_samples_leaf': 1, 'min_samples_split': 2, 'n_estimators': 100}\n",
      "0.662 (+/-0.044) for {'learning_rate': 0.01, 'max_depth': 3, 'min_samples_leaf': 3, 'min_samples_split': 2, 'n_estimators': 100}\n",
      "0.648 (+/-0.055) for {'learning_rate': 0.01, 'max_depth': 5, 'min_samples_leaf': 1, 'min_samples_split': 2, 'n_estimators': 100}\n",
      "0.654 (+/-0.050) for {'learning_rate': 0.01, 'max_depth': 5, 'min_samples_leaf': 3, 'min_samples_split': 2, 'n_estimators': 100}\n",
      "------------------------------\n"
     ]
    }
   ],
   "source": [
    "gbm_high_weight = grid_search(X_train, A_train, model=GradientBoostingClassifier(random_state=0), sample_weight=sample_weight)"
   ]
  },
  {
   "cell_type": "code",
   "execution_count": 28,
   "id": "technical-settlement",
   "metadata": {},
   "outputs": [
    {
     "data": {
      "text/plain": [
       "0.71"
      ]
     },
     "execution_count": 28,
     "metadata": {},
     "output_type": "execute_result"
    }
   ],
   "source": [
    "# Best params from grid search\n",
    "# best_params_high_no_weight = {'learning_rate': 0.05, 'max_depth': 5, 'min_samples_leaf': 3, 'min_samples_split': 2, 'n_estimators': 100}\n",
    "\n",
    "# Emperical best params\n",
    "best_params_high_weight = {'learning_rate': 0.01, 'max_depth': 3, 'min_samples_leaf': 3, 'min_samples_split': 2, 'n_estimators': 100}\n",
    "gbm_high_weight = GradientBoostingClassifier(random_state=0).set_params(**best_params_high_weight)\n",
    "clf = gbm_high_weight.fit(X_train, A_train, sample_weight=sample_weight)\n",
    "clf.score(X_test, A_test)"
   ]
  },
  {
   "cell_type": "code",
   "execution_count": 29,
   "id": "concrete-malpractice",
   "metadata": {},
   "outputs": [
    {
     "data": {
      "text/plain": [
       "array([0.46973956, 0.45464985, 0.42052396, ..., 0.48332783, 0.65652928,\n",
       "       0.37731091])"
      ]
     },
     "execution_count": 29,
     "metadata": {},
     "output_type": "execute_result"
    }
   ],
   "source": [
    "X = highDim_dataset.drop(['Y', 'A'], axis=1)\n",
    "ps_highDim_dataset_weight = clf.predict_proba(X)[:, 1]\n",
    "ps_highDim_dataset_weight"
   ]
  },
  {
   "cell_type": "markdown",
   "id": "compact-dynamics",
   "metadata": {},
   "source": [
    "**Low Dim with weight**"
   ]
  },
  {
   "cell_type": "code",
   "execution_count": 30,
   "id": "minimal-chile",
   "metadata": {},
   "outputs": [],
   "source": [
    "X_train, X_test, A_train, A_test = my_train_test_split(lowDim_dataset)\n",
    "A_train_pd = A_train.to_frame()\n",
    "sample_weight = get_sample_weight(A_train_pd)"
   ]
  },
  {
   "cell_type": "code",
   "execution_count": 31,
   "id": "anticipated-basics",
   "metadata": {},
   "outputs": [
    {
     "name": "stdout",
     "output_type": "stream",
     "text": [
      "Best accuracy: 0.732\n",
      "\n",
      "Best parameters: {'learning_rate': 0.05, 'max_depth': 5, 'min_samples_leaf': 3, 'min_samples_split': 2, 'n_estimators': 100}\n",
      "------------------------------\n",
      "0.705 (+/-0.058) for {'learning_rate': 0.05, 'max_depth': 3, 'min_samples_leaf': 1, 'min_samples_split': 2, 'n_estimators': 100}\n",
      "0.718 (+/-0.051) for {'learning_rate': 0.05, 'max_depth': 3, 'min_samples_leaf': 3, 'min_samples_split': 2, 'n_estimators': 100}\n",
      "0.720 (+/-0.049) for {'learning_rate': 0.05, 'max_depth': 5, 'min_samples_leaf': 1, 'min_samples_split': 2, 'n_estimators': 100}\n",
      "0.732 (+/-0.102) for {'learning_rate': 0.05, 'max_depth': 5, 'min_samples_leaf': 3, 'min_samples_split': 2, 'n_estimators': 100}\n",
      "0.705 (+/-0.020) for {'learning_rate': 0.01, 'max_depth': 3, 'min_samples_leaf': 1, 'min_samples_split': 2, 'n_estimators': 100}\n",
      "0.702 (+/-0.033) for {'learning_rate': 0.01, 'max_depth': 3, 'min_samples_leaf': 3, 'min_samples_split': 2, 'n_estimators': 100}\n",
      "0.710 (+/-0.046) for {'learning_rate': 0.01, 'max_depth': 5, 'min_samples_leaf': 1, 'min_samples_split': 2, 'n_estimators': 100}\n",
      "0.703 (+/-0.029) for {'learning_rate': 0.01, 'max_depth': 5, 'min_samples_leaf': 3, 'min_samples_split': 2, 'n_estimators': 100}\n",
      "------------------------------\n"
     ]
    }
   ],
   "source": [
    "gbm_low_weight = grid_search(X_train, A_train, model=GradientBoostingClassifier(random_state=0), sample_weight=sample_weight)"
   ]
  },
  {
   "cell_type": "code",
   "execution_count": 32,
   "id": "electronic-biodiversity",
   "metadata": {},
   "outputs": [
    {
     "data": {
      "text/plain": [
       "0.73"
      ]
     },
     "execution_count": 32,
     "metadata": {},
     "output_type": "execute_result"
    }
   ],
   "source": [
    "# Best params from grid search\n",
    "# best_params_high_no_weight = {'learning_rate': 0.05, 'max_depth': 5, 'min_samples_leaf': 3, 'min_samples_split': 2, 'n_estimators': 100}\n",
    "\n",
    "# Emperical best params\n",
    "best_params_low_weight = {'learning_rate': 0.05, 'max_depth': 5, 'min_samples_leaf': 3, 'min_samples_split': 2, 'n_estimators': 100}\n",
    "gbm_low_weight = GradientBoostingClassifier(random_state=0).set_params(**best_params_low_weight)\n",
    "clf = gbm_low_weight.fit(X_train, A_train, sample_weight=sample_weight)\n",
    "clf.score(X_test, A_test)"
   ]
  },
  {
   "cell_type": "code",
   "execution_count": 33,
   "id": "subtle-promotion",
   "metadata": {},
   "outputs": [
    {
     "data": {
      "text/plain": [
       "array([0.09713332, 0.23000355, 0.24673798, 0.86722555, 0.29346645,\n",
       "       0.25764207, 0.27517224, 0.41844066, 0.11225396, 0.49999157])"
      ]
     },
     "execution_count": 33,
     "metadata": {},
     "output_type": "execute_result"
    }
   ],
   "source": [
    "X = lowDim_dataset.drop(['Y', 'A'], axis=1)\n",
    "ps_lowDim_dataset_weight = clf.predict_proba(X)[:, 1]\n",
    "ps_lowDim_dataset_weight[:10]"
   ]
  },
  {
   "cell_type": "markdown",
   "id": "danish-evolution",
   "metadata": {},
   "source": [
    "## Stratification"
   ]
  },
  {
   "cell_type": "code",
   "execution_count": 34,
   "id": "vocational-moldova",
   "metadata": {},
   "outputs": [],
   "source": [
    "import copy"
   ]
  },
  {
   "cell_type": "code",
   "execution_count": 35,
   "id": "original-kelly",
   "metadata": {},
   "outputs": [],
   "source": [
    "def ATE_stratification(ps, dataset, k):\n",
    "    my_stratification = pd.qcut(ps, k, duplicates='drop')\n",
    "    dataset_copy = copy.copy(dataset)\n",
    "    dataset_copy['my_stratification'] = my_stratification\n",
    "    df = dataset_copy[['A', 'my_stratification', 'Y']].groupby(['A', 'my_stratification']).mean()\n",
    "    \n",
    "    k = len(my_stratification.categories)\n",
    "    res = 0\n",
    "    for category in my_stratification.categories:\n",
    "            res += df.loc[pd.IndexSlice[(1, category)]] - df.loc[pd.IndexSlice[(0, category)]]\n",
    "    res = res / k\n",
    "    return res"
   ]
  },
  {
   "cell_type": "markdown",
   "id": "worst-territory",
   "metadata": {},
   "source": [
    "**ATE + stratification + high dim + no weight**"
   ]
  },
  {
   "cell_type": "code",
   "execution_count": 36,
   "id": "fixed-nigeria",
   "metadata": {},
   "outputs": [],
   "source": [
    "ATE_stratification_high_no_weight = ATE_stratification(ps_highDim_dataset_no_weight, highDim_dataset, 5)\n",
    "ATE_stratification_high_no_weight = ATE_stratification_high_no_weight['Y']"
   ]
  },
  {
   "cell_type": "code",
   "execution_count": 37,
   "id": "unable-hampton",
   "metadata": {},
   "outputs": [
    {
     "data": {
      "text/plain": [
       "-55.30192804319612"
      ]
     },
     "execution_count": 37,
     "metadata": {},
     "output_type": "execute_result"
    }
   ],
   "source": [
    "ATE_stratification_high_no_weight"
   ]
  },
  {
   "cell_type": "markdown",
   "id": "medium-retailer",
   "metadata": {},
   "source": [
    "**ATE + stratification + low dim + no weight**"
   ]
  },
  {
   "cell_type": "code",
   "execution_count": 38,
   "id": "excessive-ultimate",
   "metadata": {},
   "outputs": [],
   "source": [
    "ATE_stratification_low_no_weight = ATE_stratification(ps_lowDim_dataset_no_weight, lowDim_dataset, 5)\n",
    "ATE_stratification_low_no_weight = ATE_stratification_low_no_weight['Y']"
   ]
  },
  {
   "cell_type": "code",
   "execution_count": 39,
   "id": "popular-yellow",
   "metadata": {},
   "outputs": [
    {
     "data": {
      "text/plain": [
       "2.104586421116532"
      ]
     },
     "execution_count": 39,
     "metadata": {},
     "output_type": "execute_result"
    }
   ],
   "source": [
    "ATE_stratification_low_no_weight"
   ]
  },
  {
   "cell_type": "markdown",
   "id": "generic-approval",
   "metadata": {},
   "source": [
    "**ATE + stratification + high dim + weight**"
   ]
  },
  {
   "cell_type": "code",
   "execution_count": 40,
   "id": "collect-money",
   "metadata": {},
   "outputs": [],
   "source": [
    "ATE_stratification_high_weight = ATE_stratification(ps_highDim_dataset_weight, highDim_dataset, 5)\n",
    "ATE_stratification_high_weight = ATE_stratification_high_weight['Y']"
   ]
  },
  {
   "cell_type": "code",
   "execution_count": 41,
   "id": "nominated-assurance",
   "metadata": {},
   "outputs": [
    {
     "data": {
      "text/plain": [
       "-57.74912051902113"
      ]
     },
     "execution_count": 41,
     "metadata": {},
     "output_type": "execute_result"
    }
   ],
   "source": [
    "ATE_stratification_high_weight"
   ]
  },
  {
   "cell_type": "markdown",
   "id": "selective-meaning",
   "metadata": {},
   "source": [
    "**ATE + stratification + low dim + weight**"
   ]
  },
  {
   "cell_type": "code",
   "execution_count": 42,
   "id": "expanded-handy",
   "metadata": {},
   "outputs": [],
   "source": [
    "ATE_stratification_low_weight = ATE_stratification(ps_lowDim_dataset_weight, lowDim_dataset, 5)\n",
    "ATE_stratification_low_weight = ATE_stratification_low_weight['Y']"
   ]
  },
  {
   "cell_type": "code",
   "execution_count": 43,
   "id": "handy-express",
   "metadata": {
    "scrolled": true
   },
   "outputs": [
    {
     "data": {
      "text/plain": [
       "4.867125539998884"
      ]
     },
     "execution_count": 43,
     "metadata": {},
     "output_type": "execute_result"
    }
   ],
   "source": [
    "ATE_stratification_low_weight"
   ]
  },
  {
   "cell_type": "markdown",
   "id": "compliant-giant",
   "metadata": {},
   "source": [
    "## Comparison"
   ]
  },
  {
   "cell_type": "code",
   "execution_count": 44,
   "id": "loose-holly",
   "metadata": {},
   "outputs": [],
   "source": [
    "high_true_ATE = -54.8558\n",
    "low_true_ATE = 2.0901\n",
    "\n",
    "def evaluate(true_value, estimate_value):\n",
    "    absolute_error = abs(true_value - estimate_value)\n",
    "    relative_error = absolute_error / abs(true_value)\n",
    "    return round(absolute_error,2), format(relative_error,'.2%')"
   ]
  },
  {
   "cell_type": "markdown",
   "id": "therapeutic-commander",
   "metadata": {},
   "source": [
    "**High Dim**"
   ]
  },
  {
   "cell_type": "code",
   "execution_count": 45,
   "id": "english-headquarters",
   "metadata": {},
   "outputs": [
    {
     "name": "stdout",
     "output_type": "stream",
     "text": [
      "Comparison High Dim:\n"
     ]
    },
    {
     "data": {
      "text/html": [
       "<div>\n",
       "<style scoped>\n",
       "    .dataframe tbody tr th:only-of-type {\n",
       "        vertical-align: middle;\n",
       "    }\n",
       "\n",
       "    .dataframe tbody tr th {\n",
       "        vertical-align: top;\n",
       "    }\n",
       "\n",
       "    .dataframe thead th {\n",
       "        text-align: right;\n",
       "    }\n",
       "</style>\n",
       "<table border=\"1\" class=\"dataframe\">\n",
       "  <thead>\n",
       "    <tr style=\"text-align: right;\">\n",
       "      <th></th>\n",
       "      <th>Algorithm</th>\n",
       "      <th>ATE Estimated</th>\n",
       "      <th>ATE True</th>\n",
       "      <th>Absolute Error</th>\n",
       "      <th>Relative Error</th>\n",
       "    </tr>\n",
       "  </thead>\n",
       "  <tbody>\n",
       "    <tr>\n",
       "      <th>0</th>\n",
       "      <td>Stratification + no weight</td>\n",
       "      <td>-55.301928</td>\n",
       "      <td>-54.8558</td>\n",
       "      <td>0.45</td>\n",
       "      <td>0.81%</td>\n",
       "    </tr>\n",
       "    <tr>\n",
       "      <th>1</th>\n",
       "      <td>Stratification + weight</td>\n",
       "      <td>-57.749121</td>\n",
       "      <td>-54.8558</td>\n",
       "      <td>2.89</td>\n",
       "      <td>5.01%</td>\n",
       "    </tr>\n",
       "  </tbody>\n",
       "</table>\n",
       "</div>"
      ],
      "text/plain": [
       "                    Algorithm  ATE Estimated  ATE True  Absolute Error  \\\n",
       "0  Stratification + no weight     -55.301928  -54.8558            0.45   \n",
       "1     Stratification + weight     -57.749121  -54.8558            2.89   \n",
       "\n",
       "  Relative Error  \n",
       "0          0.81%  \n",
       "1          5.01%  "
      ]
     },
     "execution_count": 45,
     "metadata": {},
     "output_type": "execute_result"
    }
   ],
   "source": [
    "comparison_high = pd.DataFrame({'Algorithm':['Stratification + no weight','Stratification + weight'],\n",
    "             'ATE Estimated':[ATE_stratification_high_no_weight, ATE_stratification_high_weight],\n",
    "             'ATE True':[high_true_ATE, high_true_ATE],\n",
    "             'Absolute Error':[evaluate(ATE_stratification_high_no_weight, high_true_ATE)[0], evaluate(ATE_stratification_high_weight, high_true_ATE)[0]],\n",
    "             'Relative Error':[evaluate(ATE_stratification_high_no_weight, high_true_ATE)[1], evaluate(ATE_stratification_high_weight, high_true_ATE)[1]]})\n",
    "\n",
    "print(\"Comparison High Dim:\");comparison_high"
   ]
  },
  {
   "cell_type": "markdown",
   "id": "freelance-mumbai",
   "metadata": {},
   "source": [
    "**Low Dim**"
   ]
  },
  {
   "cell_type": "code",
   "execution_count": 46,
   "id": "marine-excerpt",
   "metadata": {
    "scrolled": true
   },
   "outputs": [
    {
     "name": "stdout",
     "output_type": "stream",
     "text": [
      "Comparison Low Dim:\n"
     ]
    },
    {
     "data": {
      "text/html": [
       "<div>\n",
       "<style scoped>\n",
       "    .dataframe tbody tr th:only-of-type {\n",
       "        vertical-align: middle;\n",
       "    }\n",
       "\n",
       "    .dataframe tbody tr th {\n",
       "        vertical-align: top;\n",
       "    }\n",
       "\n",
       "    .dataframe thead th {\n",
       "        text-align: right;\n",
       "    }\n",
       "</style>\n",
       "<table border=\"1\" class=\"dataframe\">\n",
       "  <thead>\n",
       "    <tr style=\"text-align: right;\">\n",
       "      <th></th>\n",
       "      <th>Algorithm</th>\n",
       "      <th>ATE Estimated</th>\n",
       "      <th>ATE True</th>\n",
       "      <th>Absolute Error</th>\n",
       "      <th>Relative Error</th>\n",
       "    </tr>\n",
       "  </thead>\n",
       "  <tbody>\n",
       "    <tr>\n",
       "      <th>0</th>\n",
       "      <td>Stratification + no weight</td>\n",
       "      <td>2.104586</td>\n",
       "      <td>2.0901</td>\n",
       "      <td>0.01</td>\n",
       "      <td>0.69%</td>\n",
       "    </tr>\n",
       "    <tr>\n",
       "      <th>1</th>\n",
       "      <td>Stratification + weight</td>\n",
       "      <td>4.867126</td>\n",
       "      <td>2.0901</td>\n",
       "      <td>2.78</td>\n",
       "      <td>57.06%</td>\n",
       "    </tr>\n",
       "  </tbody>\n",
       "</table>\n",
       "</div>"
      ],
      "text/plain": [
       "                    Algorithm  ATE Estimated  ATE True  Absolute Error  \\\n",
       "0  Stratification + no weight       2.104586    2.0901            0.01   \n",
       "1     Stratification + weight       4.867126    2.0901            2.78   \n",
       "\n",
       "  Relative Error  \n",
       "0          0.69%  \n",
       "1         57.06%  "
      ]
     },
     "execution_count": 46,
     "metadata": {},
     "output_type": "execute_result"
    }
   ],
   "source": [
    "comparison_low = pd.DataFrame({'Algorithm':['Stratification + no weight','Stratification + weight'],\n",
    "             'ATE Estimated':[ATE_stratification_low_no_weight, ATE_stratification_low_weight],\n",
    "             'ATE True':[low_true_ATE, low_true_ATE],\n",
    "             'Absolute Error':[evaluate(ATE_stratification_low_no_weight, low_true_ATE)[0], evaluate(ATE_stratification_low_weight, low_true_ATE)[0]],\n",
    "             'Relative Error':[evaluate(ATE_stratification_low_no_weight, low_true_ATE)[1], evaluate(ATE_stratification_low_weight, low_true_ATE)[1]]})\n",
    "\n",
    "print(\"Comparison Low Dim:\");comparison_low"
   ]
  },
  {
   "cell_type": "markdown",
   "id": "presidential-norwegian",
   "metadata": {},
   "source": [
    "## Propensity score - XGBoost"
   ]
  },
  {
   "cell_type": "markdown",
   "id": "global-hungarian",
   "metadata": {},
   "source": [
    "**High Dim no weight**"
   ]
  },
  {
   "cell_type": "code",
   "execution_count": 47,
   "id": "derived-trial",
   "metadata": {},
   "outputs": [],
   "source": [
    "import xgboost as xgb"
   ]
  },
  {
   "cell_type": "code",
   "execution_count": 48,
   "id": "controversial-cameroon",
   "metadata": {},
   "outputs": [],
   "source": [
    "from sklearn.model_selection import train_test_split\n",
    "def my_train_test_split(dataset):\n",
    "    X = dataset.drop(['Y', 'A'], axis=1)\n",
    "    A = dataset['A']\n",
    "    X_train, X_test, A_train, A_test = train_test_split(X, A, test_size=0.2, random_state=42)\n",
    "    return X_train, X_test, A_train, A_test"
   ]
  },
  {
   "cell_type": "code",
   "execution_count": 49,
   "id": "differential-behavior",
   "metadata": {},
   "outputs": [],
   "source": [
    "X_train, X_test, A_train, A_test = my_train_test_split(highDim_dataset)"
   ]
  },
  {
   "cell_type": "code",
   "execution_count": 50,
   "id": "funny-cargo",
   "metadata": {},
   "outputs": [
    {
     "name": "stdout",
     "output_type": "stream",
     "text": [
      "[20:24:40] WARNING: C:/Users/Administrator/workspace/xgboost-win64_release_1.3.0/src/learner.cc:1061: Starting in XGBoost 1.3.0, the default evaluation metric used with the objective 'binary:logistic' was changed from 'error' to 'logloss'. Explicitly set eval_metric if you'd like to restore the old behavior.\n"
     ]
    },
    {
     "data": {
      "text/plain": [
       "array([0.40015417, 0.281916  , 0.18018569, 0.37845495, 0.17649843,\n",
       "       0.2533552 , 0.2571183 , 0.3122097 , 0.18977067, 0.21978733],\n",
       "      dtype=float32)"
      ]
     },
     "execution_count": 50,
     "metadata": {},
     "output_type": "execute_result"
    }
   ],
   "source": [
    "xg_reg = xgb.XGBRegressor(objective ='binary:logistic', colsample_bytree = 0.3, learning_rate = 0.1,\n",
    "                max_depth = 5, alpha = 10, n_estimators = 100)\n",
    "xg_reg.fit(X_train,A_train)\n",
    "preds = xg_reg.predict(X_test)\n",
    "preds[:10]"
   ]
  },
  {
   "cell_type": "code",
   "execution_count": 51,
   "id": "private-asthma",
   "metadata": {},
   "outputs": [
    {
     "name": "stdout",
     "output_type": "stream",
     "text": [
      "Precision = 0.6896451666390316\n",
      "Recall = 0.6330909090909091\n",
      "Accuracy = 0.7325\n"
     ]
    }
   ],
   "source": [
    "import numpy as np\n",
    "from sklearn.metrics import precision_score, recall_score, accuracy_score\n",
    "\n",
    "best_preds = np.asarray([0 if pred < 0.5 else 1 for pred in preds])\n",
    "\n",
    "print(\"Precision = {}\".format(precision_score(A_test, best_preds, average='macro')))\n",
    "print(\"Recall = {}\".format(recall_score(A_test, best_preds, average='macro')))\n",
    "print(\"Accuracy = {}\".format(accuracy_score(A_test, best_preds)))"
   ]
  },
  {
   "cell_type": "code",
   "execution_count": 52,
   "id": "answering-result",
   "metadata": {},
   "outputs": [
    {
     "data": {
      "text/plain": [
       "array([0.1717711 , 0.25502563, 0.19881049, 0.38320482, 0.18657911,\n",
       "       0.5637501 , 0.8292694 , 0.48240748, 0.3164081 , 0.11326066],\n",
       "      dtype=float32)"
      ]
     },
     "execution_count": 52,
     "metadata": {},
     "output_type": "execute_result"
    }
   ],
   "source": [
    "X = highDim_dataset.drop(['Y', 'A'], axis=1)\n",
    "ps_highDim_dataset_no_weight_xgb = xg_reg.predict(X)\n",
    "ps_highDim_dataset_no_weight_xgb[:10]"
   ]
  },
  {
   "cell_type": "markdown",
   "id": "global-hungarian",
   "metadata": {},
   "source": [
    "**Low Dim no weight**"
   ]
  },
  {
   "cell_type": "code",
   "execution_count": 53,
   "id": "derived-trial",
   "metadata": {},
   "outputs": [],
   "source": [
    "import xgboost as xgb"
   ]
  },
  {
   "cell_type": "code",
   "execution_count": 54,
   "id": "controversial-cameroon",
   "metadata": {},
   "outputs": [],
   "source": [
    "from sklearn.model_selection import train_test_split\n",
    "def my_train_test_split(dataset):\n",
    "    X = dataset.drop(['Y', 'A'], axis=1)\n",
    "    A = dataset['A']\n",
    "    X_train, X_test, A_train, A_test = train_test_split(X, A, test_size=0.2, random_state=42)\n",
    "    return X_train, X_test, A_train, A_test"
   ]
  },
  {
   "cell_type": "code",
   "execution_count": 55,
   "id": "differential-behavior",
   "metadata": {},
   "outputs": [],
   "source": [
    "X_train, X_test, A_train, A_test = my_train_test_split(lowDim_dataset)"
   ]
  },
  {
   "cell_type": "code",
   "execution_count": 56,
   "id": "weighted-future",
   "metadata": {},
   "outputs": [
    {
     "name": "stdout",
     "output_type": "stream",
     "text": [
      "[20:24:40] WARNING: C:/Users/Administrator/workspace/xgboost-win64_release_1.3.0/src/learner.cc:1061: Starting in XGBoost 1.3.0, the default evaluation metric used with the objective 'binary:logistic' was changed from 'error' to 'logloss'. Explicitly set eval_metric if you'd like to restore the old behavior.\n"
     ]
    },
    {
     "data": {
      "text/plain": [
       "array([0.1672144 , 0.25339943, 0.16648383, 0.1593098 , 0.28977913,\n",
       "       0.31898925, 0.22027805, 0.22662276, 0.16942306, 0.16233224,\n",
       "       0.36723396, 0.26817468, 0.19891565, 0.25337294, 0.20277698,\n",
       "       0.16470914, 0.1593098 , 0.23062348, 0.16648383, 0.18709084,\n",
       "       0.25337294, 0.1593098 , 0.17399363, 0.24475782, 0.28417623,\n",
       "       0.191087  , 0.21343656, 0.19936015, 0.18113245, 0.16889499,\n",
       "       0.25693482, 0.16459881, 0.16470914, 0.1672144 , 0.16942306,\n",
       "       0.16470914, 0.18953812, 0.16470914, 0.1672144 , 0.22840573,\n",
       "       0.28774536, 0.27108628, 0.18995391, 0.20424084, 0.20222066,\n",
       "       0.22743712, 0.16470914, 0.16739325, 0.20720845, 0.16391309,\n",
       "       0.2558146 , 0.18088639, 0.18168955, 0.16470914, 0.16137318,\n",
       "       0.24163187, 0.1593098 , 0.17501204, 0.17933163, 0.40573183,\n",
       "       0.16391309, 0.24810891, 0.2125904 , 0.26536003, 0.1593098 ,\n",
       "       0.1593098 , 0.18156832, 0.22599018, 0.1593098 , 0.16923074,\n",
       "       0.17509377, 0.27246448, 0.17196116, 0.38855892, 0.26760116,\n",
       "       0.1593098 , 0.17717493, 0.1593098 , 0.23646438, 0.28655466,\n",
       "       0.22637133, 0.16470914, 0.1593098 , 0.1593098 , 0.19308749,\n",
       "       0.21135093, 0.4021992 , 0.1593098 , 0.18537624, 0.29327363,\n",
       "       0.1868133 , 0.17399363, 0.17125216, 0.23704599, 0.30732697,\n",
       "       0.1593098 , 0.16470914, 0.3566781 , 0.1593098 , 0.2717057 ],\n",
       "      dtype=float32)"
      ]
     },
     "execution_count": 56,
     "metadata": {},
     "output_type": "execute_result"
    }
   ],
   "source": [
    "xg_reg = xgb.XGBRegressor(objective ='binary:logistic', colsample_bytree = 0.3, learning_rate = 0.1,\n",
    "                max_depth = 5, alpha = 10, n_estimators = 100)\n",
    "xg_reg.fit(X_train,A_train)\n",
    "preds = xg_reg.predict(X_test)\n",
    "preds"
   ]
  },
  {
   "cell_type": "code",
   "execution_count": 57,
   "id": "grave-masters",
   "metadata": {},
   "outputs": [],
   "source": [
    "import numpy as np\n",
    "from sklearn.metrics import precision_score, recall_score, accuracy_score\n",
    "\n",
    "best_preds = np.asarray([0 if pred < 0.5 else 1 for pred in preds])\n",
    "\n",
    "# print(\"Precision = {}\".format(precision_score(A_test, best_preds, average='macro')))\n",
    "# print(\"Recall = {}\".format(recall_score(A_test, best_preds, average='macro')))\n",
    "# print(\"Accuracy = {}\".format(accuracy_score(A_test, best_preds)))"
   ]
  },
  {
   "cell_type": "code",
   "execution_count": 58,
   "id": "quarterly-insight",
   "metadata": {},
   "outputs": [
    {
     "data": {
      "text/plain": [
       "array([0.16470914, 0.27527818, 0.16942306, 0.33286095, 0.23704599,\n",
       "       0.16942306, 0.1593098 , 0.1593098 , 0.1714855 , 0.36723396],\n",
       "      dtype=float32)"
      ]
     },
     "execution_count": 58,
     "metadata": {},
     "output_type": "execute_result"
    }
   ],
   "source": [
    "X = lowDim_dataset.drop(['Y', 'A'], axis=1)\n",
    "ps_lowDim_dataset_no_weight_xgb = xg_reg.predict(X)\n",
    "ps_lowDim_dataset_no_weight_xgb[:10]"
   ]
  },
  {
   "cell_type": "markdown",
   "id": "danish-evolution",
   "metadata": {},
   "source": [
    "## Stratification - XGBoost"
   ]
  },
  {
   "cell_type": "code",
   "execution_count": 59,
   "id": "vocational-moldova",
   "metadata": {},
   "outputs": [],
   "source": [
    "import copy"
   ]
  },
  {
   "cell_type": "code",
   "execution_count": 60,
   "id": "original-kelly",
   "metadata": {},
   "outputs": [],
   "source": [
    "def ATE_stratification(ps, dataset, k):\n",
    "    my_stratification = pd.qcut(ps, k, duplicates='drop')\n",
    "    dataset_copy = copy.copy(dataset)\n",
    "    dataset_copy['my_stratification'] = my_stratification\n",
    "    df = dataset_copy[['A', 'my_stratification', 'Y']].groupby(['A', 'my_stratification']).mean()\n",
    "    \n",
    "    k = len(my_stratification.categories)\n",
    "    res = 0\n",
    "    for category in my_stratification.categories:\n",
    "            res += df.loc[pd.IndexSlice[(1, category)]] - df.loc[pd.IndexSlice[(0, category)]]\n",
    "    res = res / k\n",
    "    return res"
   ]
  },
  {
   "cell_type": "markdown",
   "id": "worst-territory",
   "metadata": {},
   "source": [
    "**ATE + stratification + high dim + no weight**"
   ]
  },
  {
   "cell_type": "code",
   "execution_count": 61,
   "id": "fixed-nigeria",
   "metadata": {},
   "outputs": [],
   "source": [
    "ATE_stratification_high_no_weight_xgb = ATE_stratification(ps_highDim_dataset_no_weight_xgb, highDim_dataset, 5)\n",
    "ATE_stratification_high_no_weight_xgb = ATE_stratification_high_no_weight_xgb['Y']"
   ]
  },
  {
   "cell_type": "code",
   "execution_count": 62,
   "id": "unable-hampton",
   "metadata": {},
   "outputs": [
    {
     "data": {
      "text/plain": [
       "-51.108772760621704"
      ]
     },
     "execution_count": 62,
     "metadata": {},
     "output_type": "execute_result"
    }
   ],
   "source": [
    "ATE_stratification_high_no_weight_xgb"
   ]
  },
  {
   "cell_type": "markdown",
   "id": "medium-retailer",
   "metadata": {},
   "source": [
    "**ATE + stratification + low dim + no weight**"
   ]
  },
  {
   "cell_type": "code",
   "execution_count": 63,
   "id": "excessive-ultimate",
   "metadata": {},
   "outputs": [],
   "source": [
    "ATE_stratification_low_no_weight_xgb = ATE_stratification(ps_lowDim_dataset_no_weight_xgb, lowDim_dataset, 5)\n",
    "ATE_stratification_low_no_weight_xgb = ATE_stratification_low_no_weight_xgb['Y']"
   ]
  },
  {
   "cell_type": "code",
   "execution_count": 64,
   "id": "popular-yellow",
   "metadata": {},
   "outputs": [
    {
     "data": {
      "text/plain": [
       "2.3223561770147887"
      ]
     },
     "execution_count": 64,
     "metadata": {},
     "output_type": "execute_result"
    }
   ],
   "source": [
    "ATE_stratification_low_no_weight_xgb"
   ]
  },
  {
   "cell_type": "markdown",
   "id": "compliant-giant",
   "metadata": {},
   "source": [
    "## Comparison - XGBoost"
   ]
  },
  {
   "cell_type": "code",
   "execution_count": 65,
   "id": "loose-holly",
   "metadata": {},
   "outputs": [],
   "source": [
    "high_true_ATE = -54.8558\n",
    "low_true_ATE = 2.0901\n",
    "\n",
    "def evaluate(true_value, estimate_value):\n",
    "    absolute_error = abs(true_value - estimate_value)\n",
    "    relative_error = absolute_error / abs(true_value)\n",
    "    return round(absolute_error,2), format(relative_error,'.2%')"
   ]
  },
  {
   "cell_type": "markdown",
   "id": "therapeutic-commander",
   "metadata": {},
   "source": [
    "**High Dim**"
   ]
  },
  {
   "cell_type": "code",
   "execution_count": 66,
   "id": "english-headquarters",
   "metadata": {},
   "outputs": [
    {
     "name": "stdout",
     "output_type": "stream",
     "text": [
      "Comparison High Dim:\n"
     ]
    },
    {
     "data": {
      "text/html": [
       "<div>\n",
       "<style scoped>\n",
       "    .dataframe tbody tr th:only-of-type {\n",
       "        vertical-align: middle;\n",
       "    }\n",
       "\n",
       "    .dataframe tbody tr th {\n",
       "        vertical-align: top;\n",
       "    }\n",
       "\n",
       "    .dataframe thead th {\n",
       "        text-align: right;\n",
       "    }\n",
       "</style>\n",
       "<table border=\"1\" class=\"dataframe\">\n",
       "  <thead>\n",
       "    <tr style=\"text-align: right;\">\n",
       "      <th></th>\n",
       "      <th>Algorithm</th>\n",
       "      <th>ATE Estimated</th>\n",
       "      <th>ATE True</th>\n",
       "      <th>Absolute Error</th>\n",
       "      <th>Relative Error</th>\n",
       "    </tr>\n",
       "  </thead>\n",
       "  <tbody>\n",
       "    <tr>\n",
       "      <th>0</th>\n",
       "      <td>Stratification + no weight</td>\n",
       "      <td>-51.108773</td>\n",
       "      <td>-54.8558</td>\n",
       "      <td>3.75</td>\n",
       "      <td>7.33%</td>\n",
       "    </tr>\n",
       "  </tbody>\n",
       "</table>\n",
       "</div>"
      ],
      "text/plain": [
       "                    Algorithm  ATE Estimated  ATE True  Absolute Error  \\\n",
       "0  Stratification + no weight     -51.108773  -54.8558            3.75   \n",
       "\n",
       "  Relative Error  \n",
       "0          7.33%  "
      ]
     },
     "execution_count": 66,
     "metadata": {},
     "output_type": "execute_result"
    }
   ],
   "source": [
    "comparison_high = pd.DataFrame({'Algorithm':['Stratification + no weight'],\n",
    "             'ATE Estimated':[ATE_stratification_high_no_weight_xgb],\n",
    "             'ATE True':[high_true_ATE],\n",
    "             'Absolute Error':[evaluate(ATE_stratification_high_no_weight_xgb, high_true_ATE)[0]],\n",
    "             'Relative Error':[evaluate(ATE_stratification_high_no_weight_xgb, high_true_ATE)[1]]})\n",
    "\n",
    "print(\"Comparison High Dim:\");comparison_high"
   ]
  },
  {
   "cell_type": "markdown",
   "id": "freelance-mumbai",
   "metadata": {},
   "source": [
    "**Low Dim**"
   ]
  },
  {
   "cell_type": "code",
   "execution_count": 67,
   "id": "marine-excerpt",
   "metadata": {
    "scrolled": false
   },
   "outputs": [
    {
     "name": "stdout",
     "output_type": "stream",
     "text": [
      "Comparison High Dim:\n"
     ]
    },
    {
     "data": {
      "text/html": [
       "<div>\n",
       "<style scoped>\n",
       "    .dataframe tbody tr th:only-of-type {\n",
       "        vertical-align: middle;\n",
       "    }\n",
       "\n",
       "    .dataframe tbody tr th {\n",
       "        vertical-align: top;\n",
       "    }\n",
       "\n",
       "    .dataframe thead th {\n",
       "        text-align: right;\n",
       "    }\n",
       "</style>\n",
       "<table border=\"1\" class=\"dataframe\">\n",
       "  <thead>\n",
       "    <tr style=\"text-align: right;\">\n",
       "      <th></th>\n",
       "      <th>Algorithm</th>\n",
       "      <th>ATE Estimated</th>\n",
       "      <th>ATE True</th>\n",
       "      <th>Absolute Error</th>\n",
       "      <th>Relative Error</th>\n",
       "    </tr>\n",
       "  </thead>\n",
       "  <tbody>\n",
       "    <tr>\n",
       "      <th>0</th>\n",
       "      <td>Stratification + no weight</td>\n",
       "      <td>2.322356</td>\n",
       "      <td>2.0901</td>\n",
       "      <td>0.23</td>\n",
       "      <td>10.00%</td>\n",
       "    </tr>\n",
       "  </tbody>\n",
       "</table>\n",
       "</div>"
      ],
      "text/plain": [
       "                    Algorithm  ATE Estimated  ATE True  Absolute Error  \\\n",
       "0  Stratification + no weight       2.322356    2.0901            0.23   \n",
       "\n",
       "  Relative Error  \n",
       "0         10.00%  "
      ]
     },
     "execution_count": 67,
     "metadata": {},
     "output_type": "execute_result"
    }
   ],
   "source": [
    "comparison_low = pd.DataFrame({'Algorithm':['Stratification + no weight'],\n",
    "             'ATE Estimated':[ATE_stratification_low_no_weight_xgb],\n",
    "             'ATE True':[low_true_ATE],\n",
    "             'Absolute Error':[evaluate(ATE_stratification_low_no_weight_xgb, low_true_ATE)[0]],\n",
    "             'Relative Error':[evaluate(ATE_stratification_low_no_weight_xgb, low_true_ATE)[1]]})\n",
    "\n",
    "print(\"Comparison High Dim:\");comparison_low"
   ]
  },
  {
   "cell_type": "code",
   "execution_count": null,
   "id": "formed-chaos",
   "metadata": {},
   "outputs": [],
   "source": []
  }
 ],
 "metadata": {
  "kernelspec": {
   "display_name": "Python 3",
   "language": "python",
   "name": "python3"
  },
  "language_info": {
   "codemirror_mode": {
    "name": "ipython",
    "version": 3
   },
   "file_extension": ".py",
   "mimetype": "text/x-python",
   "name": "python",
   "nbconvert_exporter": "python",
   "pygments_lexer": "ipython3",
   "version": "3.8.3"
  }
 },
 "nbformat": 4,
 "nbformat_minor": 5
}
