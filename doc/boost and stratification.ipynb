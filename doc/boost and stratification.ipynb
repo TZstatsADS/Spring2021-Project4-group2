{
 "cells": [
  {
   "cell_type": "code",
   "execution_count": 1,
   "metadata": {},
   "outputs": [],
   "source": [
    "import pandas as pd\n",
    "import numpy as np\n",
    "from sklearn.linear_model import LogisticRegression\n",
    "from sklearn.linear_model import LinearRegression\n",
    "import copy\n",
    "from sklearn.ensemble import AdaBoostClassifier\n",
    "from sklearn.model_selection import GridSearchCV"
   ]
  },
  {
   "cell_type": "code",
   "execution_count": 2,
   "metadata": {},
   "outputs": [],
   "source": [
    "def Stratification(data, ps):\n",
    "    data_copy = data.copy()[['A', 'Y']]\n",
    "    stratum = pd.qcut(x=ps, q=[0, .2, .4, .6, .8, 1.], labels=False)\n",
    "    data_copy['stratum'] = stratum\n",
    "\n",
    "    ATE = 0\n",
    "    N = data_copy.shape[0]\n",
    "    for j in range(5):\n",
    "        data_new = data_copy[data_copy.stratum == j]\n",
    "        Nj = data_new.shape[0]\n",
    "        \n",
    "        data_use1 = data_new[data_new['A'] == 1]\n",
    "        N1j = data_use1.shape[0]\n",
    "        s1 = sum(data_use1.A * data_use1.Y) / N1j\n",
    "        \n",
    "        data_use2 = data_new[data_new['A'] == 0]\n",
    "        N0j = data_use2.shape[0]\n",
    "        s2 = sum((1 - data_use2.A) * data_use2.Y) / N0j\n",
    "        \n",
    "        ATE = ATE + (Nj/N) * (s1 - s2)\n",
    "    return ATE"
   ]
  },
  {
   "cell_type": "code",
   "execution_count": 3,
   "metadata": {},
   "outputs": [],
   "source": [
    "highDim_data = pd.read_csv('../data/highDim_dataset.csv')\n",
    "lowDim_data = pd.read_csv('../data/lowDim_dataset.csv')"
   ]
  },
  {
   "cell_type": "code",
   "execution_count": 4,
   "metadata": {},
   "outputs": [
    {
     "data": {
      "text/plain": [
       "{'learning_rate': 0.01, 'n_estimators': 50}"
      ]
     },
     "execution_count": 4,
     "metadata": {},
     "output_type": "execute_result"
    }
   ],
   "source": [
    "X=lowDim_data.iloc[:,2:].values\n",
    "A=lowDim_data['A'].values\n",
    "Y=lowDim_data['Y'].values\n",
    "params = {'learning_rate':[0.01,0.05,0.1,0.5], 'n_estimators':[50,100,150]}\n",
    "gscv = GridSearchCV(AdaBoostClassifier(),params,cv=5).fit(X,A)\n",
    "gscv.best_params_"
   ]
  },
  {
   "cell_type": "code",
   "execution_count": 5,
   "metadata": {},
   "outputs": [],
   "source": [
    "gbm = AdaBoostClassifier(learning_rate = 0.01, n_estimators = 50).fit(X,A)\n",
    "ps_low = gbm.predict_proba(X)[:,1]\n",
    "ps_low = pd.DataFrame(ps_low).rank(method='first')\n",
    "ps_low = np.array(ps_low[0])"
   ]
  },
  {
   "cell_type": "code",
   "execution_count": 6,
   "metadata": {},
   "outputs": [
    {
     "data": {
      "text/plain": [
       "4.5606235232602526"
      ]
     },
     "execution_count": 6,
     "metadata": {},
     "output_type": "execute_result"
    }
   ],
   "source": [
    "Stratification(lowDim_data, ps_low)"
   ]
  },
  {
   "cell_type": "code",
   "execution_count": 7,
   "metadata": {},
   "outputs": [
    {
     "data": {
      "text/plain": [
       "{'learning_rate': 0.1, 'n_estimators': 150}"
      ]
     },
     "execution_count": 7,
     "metadata": {},
     "output_type": "execute_result"
    }
   ],
   "source": [
    "X=highDim_data.iloc[:,2:].values\n",
    "A=highDim_data['A'].values\n",
    "Y=highDim_data['Y'].values\n",
    "params = {'learning_rate':[0.01,0.05,0.1,0.5], 'n_estimators':[50,100,150]}\n",
    "gscv = GridSearchCV(AdaBoostClassifier(),params,cv=5).fit(X,A)\n",
    "gscv.best_params_"
   ]
  },
  {
   "cell_type": "code",
   "execution_count": 8,
   "metadata": {},
   "outputs": [],
   "source": [
    "gbm = AdaBoostClassifier(learning_rate = 0.1, n_estimators = 150).fit(X,A)\n",
    "ps_high = gbm.predict_proba(X)[:,1]\n",
    "ps_high = pd.DataFrame(ps_high).rank(method='first')\n",
    "ps_high = np.array(ps_high[0])"
   ]
  },
  {
   "cell_type": "code",
   "execution_count": 9,
   "metadata": {},
   "outputs": [
    {
     "data": {
      "text/plain": [
       "-54.47440250301423"
      ]
     },
     "execution_count": 9,
     "metadata": {},
     "output_type": "execute_result"
    }
   ],
   "source": [
    "Stratification(highDim_data, ps_high)"
   ]
  },
  {
   "cell_type": "code",
   "execution_count": 10,
   "metadata": {},
   "outputs": [],
   "source": [
    "# High Dim\n",
    "T_H = np.array(highDim_data[['A']]).ravel()\n",
    "X_H = highDim_data.iloc[:,2:]\n",
    "\n",
    "# none penalty\n",
    "lgr_H_none = LogisticRegression(penalty='none', max_iter=10000).fit(X_H, T_H)\n",
    "ps_high_none = lgr_H_none.predict_proba(X_H)[:,1]\n",
    "\n",
    "# OVR + L1 penalty\n",
    "lgr_H_l1 = LogisticRegression(solver='liblinear', penalty='l1', max_iter=10000).fit(X_H, T_H)\n",
    "ps_high_l1 = lgr_H_l1.predict_proba(X_H)[:,1]\n",
    "\n",
    "# l2 penalty\n",
    "lgr_H_l2 = LogisticRegression(penalty='l2', max_iter=10000).fit(X_H, T_H)\n",
    "ps_high_l2 = lgr_H_l2.predict_proba(X_H)[:,1]"
   ]
  },
  {
   "cell_type": "code",
   "execution_count": 11,
   "metadata": {},
   "outputs": [],
   "source": [
    "# Low Dim\n",
    "T_L = np.array(lowDim_data[['A']]).ravel()\n",
    "X_L = lowDim_data.iloc[:,2:]\n",
    "\n",
    "lgr_L_none = LogisticRegression(penalty='none', max_iter=10000).fit(X_L, T_L)\n",
    "ps_low_none = lgr_L_none.predict_proba(X_L)[:,1]\n",
    "\n",
    "lgr_L_l1 = LogisticRegression(solver='liblinear', penalty='l1', max_iter=10000).fit(X_L, T_L)\n",
    "ps_low_l1 = lgr_L_l1.predict_proba(X_L)[:,1]\n",
    "\n",
    "\n",
    "lgr_L_l2 = LogisticRegression(penalty='l2', max_iter=10000).fit(X_L, T_L)\n",
    "ps_low_l2 = lgr_L_l2.predict_proba(X_L)[:,1]"
   ]
  }
 ],
 "metadata": {
  "kernelspec": {
   "display_name": "Python 3",
   "language": "python",
   "name": "python3"
  },
  "language_info": {
   "codemirror_mode": {
    "name": "ipython",
    "version": 3
   },
   "file_extension": ".py",
   "mimetype": "text/x-python",
   "name": "python",
   "nbconvert_exporter": "python",
   "pygments_lexer": "ipython3",
   "version": "3.8.5"
  }
 },
 "nbformat": 4,
 "nbformat_minor": 4
}
