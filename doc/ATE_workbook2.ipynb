{
 "cells": [
  {
   "cell_type": "markdown",
   "metadata": {},
   "source": [
    "# STAT5243 Project 4: Causal Inference"
   ]
  },
  {
   "cell_type": "markdown",
   "metadata": {},
   "source": [
    "***Group 2:***\n",
    "\n",
    "    Wendy Doan\n",
    "    Yibai Liu\n",
    "    Yiwen Fang\n",
    "    Shuqi Yu\n",
    "    Zhihang Xia"
   ]
  },
  {
   "cell_type": "markdown",
   "metadata": {},
   "source": [
    "!pip install imblearn"
   ]
  },
  {
   "cell_type": "code",
   "execution_count": 1,
   "metadata": {},
   "outputs": [],
   "source": [
    "import numpy as np\n",
    "import pandas as pd\n",
    "import matplotlib.pyplot as plt\n",
    "import os\n",
    "import time\n",
    "from collections import Counter\n",
    "import warnings\n",
    "warnings.filterwarnings('ignore')\n",
    "\n",
    "# Set a random seed for reproduction.\n",
    "RANDOM_STATE = np.random.seed(2021)\n",
    "\n",
    "# train-test split for propensity score\n",
    "from sklearn.model_selection import train_test_split\n",
    "\n",
    "# baseline propensity score\n",
    "from sklearn.linear_model import LogisticRegression\n",
    "from sklearn.linear_model import LogisticRegressionCV\n",
    "\n",
    "# grid search\n",
    "from sklearn.model_selection import GridSearchCV\n",
    "\n",
    "# propensity score from tree models\n",
    "import xgboost as xgb\n",
    "from xgboost import XGBClassifier\n",
    "\n",
    "# GBM\n",
    "from sklearn.ensemble import GradientBoostingClassifier\n",
    "\n",
    "# Stratification and Regression Adjustment\n",
    "from sklearn.model_selection import StratifiedKFold\n",
    "from sklearn.linear_model import LinearRegression\n",
    "\n",
    "# Imbalance techniques\n",
    "from imblearn.over_sampling import RandomOverSampler\n",
    "from imblearn.combine import SMOTETomek\n",
    "from imblearn.under_sampling import RandomUnderSampler\n",
    "from imblearn.under_sampling import NearMiss"
   ]
  },
  {
   "cell_type": "markdown",
   "metadata": {},
   "source": [
    "## Introduction"
   ]
  },
  {
   "cell_type": "markdown",
   "metadata": {},
   "source": [
    "In this project, we used two datasets, one high-dimensional and another low-dimensional, and implemented, evaluated and compared three **Causal Inference** algorithms. \n",
    "\n",
    "The three models include: \n",
    "\n",
    "    1) Regression Adjustment\n",
    "    2) Stratification\n",
    "    3) A combination of regression adjustment + stratification\n",
    "\n",
    "We computed **Propensity Scores (PS)** using **boosting stumps** for both datasets and applied these algorithms to estimate **Average Treatment Effects (ATE)**, which were compared with true ATEs to calculate estimation accuracy. The performance and computational efficiency were evaluated for selecting the best algorithm for each dataset. "
   ]
  },
  {
   "cell_type": "markdown",
   "metadata": {},
   "source": [
    "## Import and explore data"
   ]
  },
  {
   "cell_type": "code",
   "execution_count": 2,
   "metadata": {},
   "outputs": [],
   "source": [
    "# Directory for the datasets\n",
    "directory = '/Users/Chloe/Downloads/'"
   ]
  },
  {
   "cell_type": "code",
   "execution_count": 3,
   "metadata": {},
   "outputs": [],
   "source": [
    "highDim_dataset = pd.read_csv(directory + 'data/highDim_dataset.csv')\n",
    "lowDim_dataset = pd.read_csv(directory + 'data/lowDim_dataset.csv')"
   ]
  },
  {
   "cell_type": "markdown",
   "metadata": {},
   "source": [
    "The goal of this project is estimating the ATE of two dataset: high and low dimensional. "
   ]
  },
  {
   "cell_type": "code",
   "execution_count": 86,
   "metadata": {},
   "outputs": [],
   "source": [
    "high_true_ATE = -54.8558\n",
    "low_true_ATE = 2.0901"
   ]
  },
  {
   "cell_type": "markdown",
   "metadata": {},
   "source": [
    "To increase the usability of the notebook, we use generic variable names instead of associating with the datasets used in for the project. To use the notebook with other datasets, simply import with variable name `dataset`"
   ]
  },
  {
   "cell_type": "code",
   "execution_count": 263,
   "metadata": {},
   "outputs": [
    {
     "name": "stdout",
     "output_type": "stream",
     "text": [
      "Shape of the low-dimensional dataset: (500, 24)\n"
     ]
    }
   ],
   "source": [
    "def copy_dataset(dataset, label=None):\n",
    "    if label != None:\n",
    "        print(\"Shape of the {}-dimensional dataset: {}\".format(label,dataset.shape))\n",
    "    return dataset.copy()\n",
    "\n",
    "\n",
    "# To use high-dim dataset:\n",
    "#dataset = copy_dataset(highDim_dataset, label='high')\n",
    "\n",
    "# To use low-dim, replace the dataset input\n",
    "dataset = copy_dataset(lowDim_dataset, label='low')"
   ]
  },
  {
   "cell_type": "code",
   "execution_count": 13,
   "metadata": {
    "scrolled": true
   },
   "outputs": [
    {
     "data": {
      "text/html": [
       "<div>\n",
       "<style scoped>\n",
       "    .dataframe tbody tr th:only-of-type {\n",
       "        vertical-align: middle;\n",
       "    }\n",
       "\n",
       "    .dataframe tbody tr th {\n",
       "        vertical-align: top;\n",
       "    }\n",
       "\n",
       "    .dataframe thead th {\n",
       "        text-align: right;\n",
       "    }\n",
       "</style>\n",
       "<table border=\"1\" class=\"dataframe\">\n",
       "  <thead>\n",
       "    <tr style=\"text-align: right;\">\n",
       "      <th></th>\n",
       "      <th>Y</th>\n",
       "      <th>A</th>\n",
       "      <th>V1</th>\n",
       "      <th>V2</th>\n",
       "      <th>V3</th>\n",
       "      <th>V4</th>\n",
       "      <th>V5</th>\n",
       "      <th>V6</th>\n",
       "      <th>V7</th>\n",
       "      <th>V8</th>\n",
       "      <th>...</th>\n",
       "      <th>V176</th>\n",
       "      <th>V177</th>\n",
       "      <th>V178</th>\n",
       "      <th>V179</th>\n",
       "      <th>V180</th>\n",
       "      <th>V181</th>\n",
       "      <th>V182</th>\n",
       "      <th>V183</th>\n",
       "      <th>V184</th>\n",
       "      <th>V185</th>\n",
       "    </tr>\n",
       "  </thead>\n",
       "  <tbody>\n",
       "    <tr>\n",
       "      <th>0</th>\n",
       "      <td>41.224513</td>\n",
       "      <td>0</td>\n",
       "      <td>0</td>\n",
       "      <td>1</td>\n",
       "      <td>4</td>\n",
       "      <td>18</td>\n",
       "      <td>17</td>\n",
       "      <td>-1</td>\n",
       "      <td>1</td>\n",
       "      <td>0.75</td>\n",
       "      <td>...</td>\n",
       "      <td>8</td>\n",
       "      <td>10</td>\n",
       "      <td>8</td>\n",
       "      <td>9</td>\n",
       "      <td>8</td>\n",
       "      <td>-1</td>\n",
       "      <td>-1</td>\n",
       "      <td>-1</td>\n",
       "      <td>-1</td>\n",
       "      <td>-1</td>\n",
       "    </tr>\n",
       "    <tr>\n",
       "      <th>1</th>\n",
       "      <td>40.513875</td>\n",
       "      <td>0</td>\n",
       "      <td>0</td>\n",
       "      <td>0</td>\n",
       "      <td>1</td>\n",
       "      <td>10</td>\n",
       "      <td>6</td>\n",
       "      <td>-1</td>\n",
       "      <td>10</td>\n",
       "      <td>0.35</td>\n",
       "      <td>...</td>\n",
       "      <td>6</td>\n",
       "      <td>5</td>\n",
       "      <td>6</td>\n",
       "      <td>8</td>\n",
       "      <td>5</td>\n",
       "      <td>-1</td>\n",
       "      <td>-1</td>\n",
       "      <td>-1</td>\n",
       "      <td>-1</td>\n",
       "      <td>-1</td>\n",
       "    </tr>\n",
       "    <tr>\n",
       "      <th>2</th>\n",
       "      <td>38.495476</td>\n",
       "      <td>0</td>\n",
       "      <td>0</td>\n",
       "      <td>0</td>\n",
       "      <td>16</td>\n",
       "      <td>8</td>\n",
       "      <td>4</td>\n",
       "      <td>4</td>\n",
       "      <td>4</td>\n",
       "      <td>0.40</td>\n",
       "      <td>...</td>\n",
       "      <td>-1</td>\n",
       "      <td>-1</td>\n",
       "      <td>-1</td>\n",
       "      <td>-1</td>\n",
       "      <td>-1</td>\n",
       "      <td>-1</td>\n",
       "      <td>-1</td>\n",
       "      <td>-1</td>\n",
       "      <td>-1</td>\n",
       "      <td>-1</td>\n",
       "    </tr>\n",
       "    <tr>\n",
       "      <th>3</th>\n",
       "      <td>33.001889</td>\n",
       "      <td>0</td>\n",
       "      <td>1</td>\n",
       "      <td>0</td>\n",
       "      <td>3</td>\n",
       "      <td>10</td>\n",
       "      <td>2</td>\n",
       "      <td>-1</td>\n",
       "      <td>5</td>\n",
       "      <td>0.41</td>\n",
       "      <td>...</td>\n",
       "      <td>-1</td>\n",
       "      <td>-1</td>\n",
       "      <td>-1</td>\n",
       "      <td>-1</td>\n",
       "      <td>-1</td>\n",
       "      <td>-1</td>\n",
       "      <td>-1</td>\n",
       "      <td>-1</td>\n",
       "      <td>-1</td>\n",
       "      <td>-1</td>\n",
       "    </tr>\n",
       "    <tr>\n",
       "      <th>4</th>\n",
       "      <td>37.043603</td>\n",
       "      <td>0</td>\n",
       "      <td>1</td>\n",
       "      <td>1</td>\n",
       "      <td>11</td>\n",
       "      <td>21</td>\n",
       "      <td>10</td>\n",
       "      <td>10</td>\n",
       "      <td>20</td>\n",
       "      <td>0.43</td>\n",
       "      <td>...</td>\n",
       "      <td>6</td>\n",
       "      <td>8</td>\n",
       "      <td>7</td>\n",
       "      <td>7</td>\n",
       "      <td>7</td>\n",
       "      <td>6</td>\n",
       "      <td>7</td>\n",
       "      <td>6</td>\n",
       "      <td>6</td>\n",
       "      <td>7</td>\n",
       "    </tr>\n",
       "  </tbody>\n",
       "</table>\n",
       "<p>5 rows × 187 columns</p>\n",
       "</div>"
      ],
      "text/plain": [
       "           Y  A  V1  V2  V3  V4  V5  V6  V7    V8  ...  V176  V177  V178  \\\n",
       "0  41.224513  0   0   1   4  18  17  -1   1  0.75  ...     8    10     8   \n",
       "1  40.513875  0   0   0   1  10   6  -1  10  0.35  ...     6     5     6   \n",
       "2  38.495476  0   0   0  16   8   4   4   4  0.40  ...    -1    -1    -1   \n",
       "3  33.001889  0   1   0   3  10   2  -1   5  0.41  ...    -1    -1    -1   \n",
       "4  37.043603  0   1   1  11  21  10  10  20  0.43  ...     6     8     7   \n",
       "\n",
       "   V179  V180  V181  V182  V183  V184  V185  \n",
       "0     9     8    -1    -1    -1    -1    -1  \n",
       "1     8     5    -1    -1    -1    -1    -1  \n",
       "2    -1    -1    -1    -1    -1    -1    -1  \n",
       "3    -1    -1    -1    -1    -1    -1    -1  \n",
       "4     7     7     6     7     6     6     7  \n",
       "\n",
       "[5 rows x 187 columns]"
      ]
     },
     "execution_count": 13,
     "metadata": {},
     "output_type": "execute_result"
    }
   ],
   "source": [
    "dataset.head()"
   ]
  },
  {
   "cell_type": "markdown",
   "metadata": {},
   "source": [
    "The high-dimensional dataset has 2000 observations of 187 dimensions, while the low-dimensional dataset has 500 observations of 24 dimensions."
   ]
  },
  {
   "cell_type": "markdown",
   "metadata": {},
   "source": [
    "It is convenient to extract only the X portion, which is columns other than Y (treatment result) and A (binary treatment/control group)"
   ]
  },
  {
   "cell_type": "code",
   "execution_count": 14,
   "metadata": {},
   "outputs": [],
   "source": [
    "data_X = dataset.drop(['Y', 'A'], axis=1).copy()"
   ]
  },
  {
   "cell_type": "code",
   "execution_count": 15,
   "metadata": {},
   "outputs": [
    {
     "data": {
      "text/html": [
       "<div>\n",
       "<style scoped>\n",
       "    .dataframe tbody tr th:only-of-type {\n",
       "        vertical-align: middle;\n",
       "    }\n",
       "\n",
       "    .dataframe tbody tr th {\n",
       "        vertical-align: top;\n",
       "    }\n",
       "\n",
       "    .dataframe thead th {\n",
       "        text-align: right;\n",
       "    }\n",
       "</style>\n",
       "<table border=\"1\" class=\"dataframe\">\n",
       "  <thead>\n",
       "    <tr style=\"text-align: right;\">\n",
       "      <th></th>\n",
       "      <th>V1</th>\n",
       "      <th>V2</th>\n",
       "      <th>V3</th>\n",
       "      <th>V4</th>\n",
       "      <th>V5</th>\n",
       "      <th>V6</th>\n",
       "      <th>V7</th>\n",
       "      <th>V8</th>\n",
       "      <th>V9</th>\n",
       "      <th>V10</th>\n",
       "      <th>...</th>\n",
       "      <th>V176</th>\n",
       "      <th>V177</th>\n",
       "      <th>V178</th>\n",
       "      <th>V179</th>\n",
       "      <th>V180</th>\n",
       "      <th>V181</th>\n",
       "      <th>V182</th>\n",
       "      <th>V183</th>\n",
       "      <th>V184</th>\n",
       "      <th>V185</th>\n",
       "    </tr>\n",
       "  </thead>\n",
       "  <tbody>\n",
       "    <tr>\n",
       "      <th>0</th>\n",
       "      <td>0</td>\n",
       "      <td>1</td>\n",
       "      <td>4</td>\n",
       "      <td>18</td>\n",
       "      <td>17</td>\n",
       "      <td>-1</td>\n",
       "      <td>1</td>\n",
       "      <td>0.75</td>\n",
       "      <td>1</td>\n",
       "      <td>28</td>\n",
       "      <td>...</td>\n",
       "      <td>8</td>\n",
       "      <td>10</td>\n",
       "      <td>8</td>\n",
       "      <td>9</td>\n",
       "      <td>8</td>\n",
       "      <td>-1</td>\n",
       "      <td>-1</td>\n",
       "      <td>-1</td>\n",
       "      <td>-1</td>\n",
       "      <td>-1</td>\n",
       "    </tr>\n",
       "    <tr>\n",
       "      <th>1</th>\n",
       "      <td>0</td>\n",
       "      <td>0</td>\n",
       "      <td>1</td>\n",
       "      <td>10</td>\n",
       "      <td>6</td>\n",
       "      <td>-1</td>\n",
       "      <td>10</td>\n",
       "      <td>0.35</td>\n",
       "      <td>1</td>\n",
       "      <td>30</td>\n",
       "      <td>...</td>\n",
       "      <td>6</td>\n",
       "      <td>5</td>\n",
       "      <td>6</td>\n",
       "      <td>8</td>\n",
       "      <td>5</td>\n",
       "      <td>-1</td>\n",
       "      <td>-1</td>\n",
       "      <td>-1</td>\n",
       "      <td>-1</td>\n",
       "      <td>-1</td>\n",
       "    </tr>\n",
       "    <tr>\n",
       "      <th>2</th>\n",
       "      <td>0</td>\n",
       "      <td>0</td>\n",
       "      <td>16</td>\n",
       "      <td>8</td>\n",
       "      <td>4</td>\n",
       "      <td>4</td>\n",
       "      <td>4</td>\n",
       "      <td>0.40</td>\n",
       "      <td>1</td>\n",
       "      <td>26</td>\n",
       "      <td>...</td>\n",
       "      <td>-1</td>\n",
       "      <td>-1</td>\n",
       "      <td>-1</td>\n",
       "      <td>-1</td>\n",
       "      <td>-1</td>\n",
       "      <td>-1</td>\n",
       "      <td>-1</td>\n",
       "      <td>-1</td>\n",
       "      <td>-1</td>\n",
       "      <td>-1</td>\n",
       "    </tr>\n",
       "    <tr>\n",
       "      <th>3</th>\n",
       "      <td>1</td>\n",
       "      <td>0</td>\n",
       "      <td>3</td>\n",
       "      <td>10</td>\n",
       "      <td>2</td>\n",
       "      <td>-1</td>\n",
       "      <td>5</td>\n",
       "      <td>0.41</td>\n",
       "      <td>0</td>\n",
       "      <td>24</td>\n",
       "      <td>...</td>\n",
       "      <td>-1</td>\n",
       "      <td>-1</td>\n",
       "      <td>-1</td>\n",
       "      <td>-1</td>\n",
       "      <td>-1</td>\n",
       "      <td>-1</td>\n",
       "      <td>-1</td>\n",
       "      <td>-1</td>\n",
       "      <td>-1</td>\n",
       "      <td>-1</td>\n",
       "    </tr>\n",
       "    <tr>\n",
       "      <th>4</th>\n",
       "      <td>1</td>\n",
       "      <td>1</td>\n",
       "      <td>11</td>\n",
       "      <td>21</td>\n",
       "      <td>10</td>\n",
       "      <td>10</td>\n",
       "      <td>20</td>\n",
       "      <td>0.43</td>\n",
       "      <td>1</td>\n",
       "      <td>28</td>\n",
       "      <td>...</td>\n",
       "      <td>6</td>\n",
       "      <td>8</td>\n",
       "      <td>7</td>\n",
       "      <td>7</td>\n",
       "      <td>7</td>\n",
       "      <td>6</td>\n",
       "      <td>7</td>\n",
       "      <td>6</td>\n",
       "      <td>6</td>\n",
       "      <td>7</td>\n",
       "    </tr>\n",
       "  </tbody>\n",
       "</table>\n",
       "<p>5 rows × 185 columns</p>\n",
       "</div>"
      ],
      "text/plain": [
       "   V1  V2  V3  V4  V5  V6  V7    V8  V9  V10  ...  V176  V177  V178  V179  \\\n",
       "0   0   1   4  18  17  -1   1  0.75   1   28  ...     8    10     8     9   \n",
       "1   0   0   1  10   6  -1  10  0.35   1   30  ...     6     5     6     8   \n",
       "2   0   0  16   8   4   4   4  0.40   1   26  ...    -1    -1    -1    -1   \n",
       "3   1   0   3  10   2  -1   5  0.41   0   24  ...    -1    -1    -1    -1   \n",
       "4   1   1  11  21  10  10  20  0.43   1   28  ...     6     8     7     7   \n",
       "\n",
       "   V180  V181  V182  V183  V184  V185  \n",
       "0     8    -1    -1    -1    -1    -1  \n",
       "1     5    -1    -1    -1    -1    -1  \n",
       "2    -1    -1    -1    -1    -1    -1  \n",
       "3    -1    -1    -1    -1    -1    -1  \n",
       "4     7     6     7     6     6     7  \n",
       "\n",
       "[5 rows x 185 columns]"
      ]
     },
     "execution_count": 15,
     "metadata": {},
     "output_type": "execute_result"
    }
   ],
   "source": [
    "data_X.head()"
   ]
  },
  {
   "cell_type": "code",
   "execution_count": 16,
   "metadata": {},
   "outputs": [],
   "source": [
    "def plotComposition(dataset, reset_index=False):\n",
    "    plt.plot(dataset[dataset.A == 1].Y.reset_index(drop=True) if reset_index else dataset[dataset.A == 1].Y, 'o', label='Treatment')\n",
    "    plt.plot(dataset[dataset.A == 0].Y.reset_index(drop=True) if reset_index else dataset[dataset.A == 0].Y, 'ro', label='Control')\n",
    "    plt.title(\"Data Distribution\")\n",
    "    plt.ylabel(\"Y\")\n",
    "    plt.legend()\n",
    "    plt.show()"
   ]
  },
  {
   "cell_type": "code",
   "execution_count": 38,
   "metadata": {},
   "outputs": [
    {
     "data": {
      "image/png": "[encoded data removed]",
      "text/plain": [
       "<Figure size 432x288 with 1 Axes>"
      ]
     },
     "metadata": {
      "needs_background": "light"
     },
     "output_type": "display_data"
    }
   ],
   "source": [
    "# High-dimensional\n",
    "plotComposition(dataset)"
   ]
  },
  {
   "cell_type": "markdown",
   "metadata": {},
   "source": [
    "**Naive estimate of ATE**"
   ]
  },
  {
   "cell_type": "code",
   "execution_count": 40,
   "metadata": {},
   "outputs": [],
   "source": [
    "def naive_ATE(dataset):\n",
    "    return np.average(dataset[dataset.A == 1].Y) - np.average(dataset[dataset.A == 0].Y)"
   ]
  },
  {
   "cell_type": "code",
   "execution_count": 41,
   "metadata": {},
   "outputs": [
    {
     "name": "stdout",
     "output_type": "stream",
     "text": [
      "Naive ATE for high-dimensional data: -75.17133436876799\n",
      "Naive ATE for low-dimensional data: 10.602068661915688\n"
     ]
    }
   ],
   "source": [
    "print(\"Naive ATE for high-dimensional data:\",naive_ATE(copy_dataset(highDim_dataset)))\n",
    "print(\"Naive ATE for low-dimensional data:\",naive_ATE(copy_dataset(lowDim_dataset)))"
   ]
  },
  {
   "cell_type": "markdown",
   "metadata": {},
   "source": [
    "## Are the data sets balanced?"
   ]
  },
  {
   "cell_type": "code",
   "execution_count": 50,
   "metadata": {},
   "outputs": [],
   "source": [
    "def checkComposition(dataset):\n",
    "    print(\"The dataset contains:\\n\",len(dataset[dataset.A == 1]), \"cases in Treatment group\\n\", \n",
    "          len(dataset[dataset.A == 0]), \"cases in Control group.\")\n",
    "    print(\"Treatment/Control ratio: {}/100\".format(round(len(dataset[dataset.A == 1])/len(dataset[dataset.A == 0])*100)))"
   ]
  },
  {
   "cell_type": "code",
   "execution_count": 51,
   "metadata": {
    "scrolled": true
   },
   "outputs": [
    {
     "name": "stdout",
     "output_type": "stream",
     "text": [
      "High-dimensional\n",
      "The dataset contains:\n",
      " 643 cases in Treatment group\n",
      " 1357 cases in Control group.\n",
      "Treatment/Control ratio: 47/100\n",
      "--------------------\n",
      "Low-dimensional\n",
      "The dataset contains:\n",
      " 106 cases in Treatment group\n",
      " 394 cases in Control group.\n",
      "Treatment/Control ratio: 27/100\n"
     ]
    }
   ],
   "source": [
    "print(\"High-dimensional\")\n",
    "checkComposition(copy_dataset(highDim_dataset))\n",
    "print('-'*20)\n",
    "print(\"Low-dimensional\")\n",
    "checkComposition(copy_dataset(lowDim_dataset))"
   ]
  },
  {
   "cell_type": "markdown",
   "metadata": {},
   "source": [
    "Thus in this case, the high-dimensional data is slightly imbalanced, but acceptable. However, the low-dimensional data displays severer imbalance between groups. In any cases, one can use oversampling or smote to balance the data, which however may not be beneficial for some ATE estimation algorithms. "
   ]
  },
  {
   "cell_type": "code",
   "execution_count": 191,
   "metadata": {},
   "outputs": [],
   "source": [
    "def Oversample(dataset):\n",
    "    ovs = RandomOverSampler(random_state = RANDOM_STATE)\n",
    "    x,y = ovs.fit_resample(dataset.loc[:, dataset.columns != 'A'], dataset.A)\n",
    "    x.insert(1,\"A\",y)\n",
    "    return x"
   ]
  },
  {
   "cell_type": "code",
   "execution_count": 190,
   "metadata": {
    "scrolled": true
   },
   "outputs": [
    {
     "data": {
      "text/html": [
       "<div>\n",
       "<style scoped>\n",
       "    .dataframe tbody tr th:only-of-type {\n",
       "        vertical-align: middle;\n",
       "    }\n",
       "\n",
       "    .dataframe tbody tr th {\n",
       "        vertical-align: top;\n",
       "    }\n",
       "\n",
       "    .dataframe thead th {\n",
       "        text-align: right;\n",
       "    }\n",
       "</style>\n",
       "<table border=\"1\" class=\"dataframe\">\n",
       "  <thead>\n",
       "    <tr style=\"text-align: right;\">\n",
       "      <th></th>\n",
       "      <th>Y</th>\n",
       "      <th>A</th>\n",
       "      <th>V1</th>\n",
       "      <th>V2</th>\n",
       "      <th>V3</th>\n",
       "      <th>V4</th>\n",
       "      <th>V5</th>\n",
       "      <th>V6</th>\n",
       "      <th>V7</th>\n",
       "      <th>V8</th>\n",
       "      <th>...</th>\n",
       "      <th>V176</th>\n",
       "      <th>V177</th>\n",
       "      <th>V178</th>\n",
       "      <th>V179</th>\n",
       "      <th>V180</th>\n",
       "      <th>V181</th>\n",
       "      <th>V182</th>\n",
       "      <th>V183</th>\n",
       "      <th>V184</th>\n",
       "      <th>V185</th>\n",
       "    </tr>\n",
       "  </thead>\n",
       "  <tbody>\n",
       "    <tr>\n",
       "      <th>0</th>\n",
       "      <td>41.224513</td>\n",
       "      <td>0</td>\n",
       "      <td>0</td>\n",
       "      <td>1</td>\n",
       "      <td>4</td>\n",
       "      <td>18</td>\n",
       "      <td>17</td>\n",
       "      <td>-1</td>\n",
       "      <td>1</td>\n",
       "      <td>0.75</td>\n",
       "      <td>...</td>\n",
       "      <td>8</td>\n",
       "      <td>10</td>\n",
       "      <td>8</td>\n",
       "      <td>9</td>\n",
       "      <td>8</td>\n",
       "      <td>-1</td>\n",
       "      <td>-1</td>\n",
       "      <td>-1</td>\n",
       "      <td>-1</td>\n",
       "      <td>-1</td>\n",
       "    </tr>\n",
       "    <tr>\n",
       "      <th>1</th>\n",
       "      <td>40.513875</td>\n",
       "      <td>0</td>\n",
       "      <td>0</td>\n",
       "      <td>0</td>\n",
       "      <td>1</td>\n",
       "      <td>10</td>\n",
       "      <td>6</td>\n",
       "      <td>-1</td>\n",
       "      <td>10</td>\n",
       "      <td>0.35</td>\n",
       "      <td>...</td>\n",
       "      <td>6</td>\n",
       "      <td>5</td>\n",
       "      <td>6</td>\n",
       "      <td>8</td>\n",
       "      <td>5</td>\n",
       "      <td>-1</td>\n",
       "      <td>-1</td>\n",
       "      <td>-1</td>\n",
       "      <td>-1</td>\n",
       "      <td>-1</td>\n",
       "    </tr>\n",
       "    <tr>\n",
       "      <th>2</th>\n",
       "      <td>38.495476</td>\n",
       "      <td>0</td>\n",
       "      <td>0</td>\n",
       "      <td>0</td>\n",
       "      <td>16</td>\n",
       "      <td>8</td>\n",
       "      <td>4</td>\n",
       "      <td>4</td>\n",
       "      <td>4</td>\n",
       "      <td>0.40</td>\n",
       "      <td>...</td>\n",
       "      <td>-1</td>\n",
       "      <td>-1</td>\n",
       "      <td>-1</td>\n",
       "      <td>-1</td>\n",
       "      <td>-1</td>\n",
       "      <td>-1</td>\n",
       "      <td>-1</td>\n",
       "      <td>-1</td>\n",
       "      <td>-1</td>\n",
       "      <td>-1</td>\n",
       "    </tr>\n",
       "    <tr>\n",
       "      <th>3</th>\n",
       "      <td>33.001889</td>\n",
       "      <td>0</td>\n",
       "      <td>1</td>\n",
       "      <td>0</td>\n",
       "      <td>3</td>\n",
       "      <td>10</td>\n",
       "      <td>2</td>\n",
       "      <td>-1</td>\n",
       "      <td>5</td>\n",
       "      <td>0.41</td>\n",
       "      <td>...</td>\n",
       "      <td>-1</td>\n",
       "      <td>-1</td>\n",
       "      <td>-1</td>\n",
       "      <td>-1</td>\n",
       "      <td>-1</td>\n",
       "      <td>-1</td>\n",
       "      <td>-1</td>\n",
       "      <td>-1</td>\n",
       "      <td>-1</td>\n",
       "      <td>-1</td>\n",
       "    </tr>\n",
       "    <tr>\n",
       "      <th>4</th>\n",
       "      <td>37.043603</td>\n",
       "      <td>0</td>\n",
       "      <td>1</td>\n",
       "      <td>1</td>\n",
       "      <td>11</td>\n",
       "      <td>21</td>\n",
       "      <td>10</td>\n",
       "      <td>10</td>\n",
       "      <td>20</td>\n",
       "      <td>0.43</td>\n",
       "      <td>...</td>\n",
       "      <td>6</td>\n",
       "      <td>8</td>\n",
       "      <td>7</td>\n",
       "      <td>7</td>\n",
       "      <td>7</td>\n",
       "      <td>6</td>\n",
       "      <td>7</td>\n",
       "      <td>6</td>\n",
       "      <td>6</td>\n",
       "      <td>7</td>\n",
       "    </tr>\n",
       "  </tbody>\n",
       "</table>\n",
       "<p>5 rows × 187 columns</p>\n",
       "</div>"
      ],
      "text/plain": [
       "           Y  A  V1  V2  V3  V4  V5  V6  V7    V8  ...  V176  V177  V178  \\\n",
       "0  41.224513  0   0   1   4  18  17  -1   1  0.75  ...     8    10     8   \n",
       "1  40.513875  0   0   0   1  10   6  -1  10  0.35  ...     6     5     6   \n",
       "2  38.495476  0   0   0  16   8   4   4   4  0.40  ...    -1    -1    -1   \n",
       "3  33.001889  0   1   0   3  10   2  -1   5  0.41  ...    -1    -1    -1   \n",
       "4  37.043603  0   1   1  11  21  10  10  20  0.43  ...     6     8     7   \n",
       "\n",
       "   V179  V180  V181  V182  V183  V184  V185  \n",
       "0     9     8    -1    -1    -1    -1    -1  \n",
       "1     8     5    -1    -1    -1    -1    -1  \n",
       "2    -1    -1    -1    -1    -1    -1    -1  \n",
       "3    -1    -1    -1    -1    -1    -1    -1  \n",
       "4     7     7     6     7     6     6     7  \n",
       "\n",
       "[5 rows x 187 columns]"
      ]
     },
     "execution_count": 190,
     "metadata": {},
     "output_type": "execute_result"
    }
   ],
   "source": [
    "def SMOTE(dataset):\n",
    "    smk = SMOTETomek()\n",
    "    x, y = smk.fit_resample(dataset.loc[:,dataset.columns != 'A'], dataset.A)\n",
    "    x.insert(1,\"A\",y)\n",
    "    return x\n"
   ]
  },
  {
   "cell_type": "markdown",
   "metadata": {},
   "source": [
    "## Split into train and test set"
   ]
  },
  {
   "cell_type": "code",
   "execution_count": 180,
   "metadata": {},
   "outputs": [],
   "source": [
    "def split_train_test(dataset, test_size=0.2):\n",
    "    X = np.array(dataset.drop(['Y', 'A'], axis=1))\n",
    "    y = np.array(dataset.Y)\n",
    "    A = np.array(dataset.A)\n",
    "    \n",
    "    idx_train, idx_test, y_train, y_test = train_test_split(range(X.shape[0]), y, \n",
    "                                                            test_size=test_size, random_state=RANDOM_STATE)\n",
    "    X_train = X[idx_train]\n",
    "    X_test = X[idx_test]\n",
    "    A_train = A[idx_train]\n",
    "    A_test = A[idx_test]\n",
    "    return X_train, X_test, y_train, y_test, A_train, A_test"
   ]
  },
  {
   "cell_type": "markdown",
   "metadata": {},
   "source": [
    "## Propensity Score - Boosted Stumps"
   ]
  },
  {
   "cell_type": "markdown",
   "metadata": {},
   "source": [
    "### Gradient Boosting"
   ]
  },
  {
   "cell_type": "code",
   "execution_count": 286,
   "metadata": {},
   "outputs": [],
   "source": [
    "param_grid = {\n",
    "              'learning_rate': [0.1,0.05],\n",
    "              'max_depth': [1,2,5],\n",
    "              'min_samples_split': [2,3,4],\n",
    "              'n_estimators': [10,20,50],#,150],\n",
    "              'min_samples_leaf':[1,3,5]\n",
    "              }"
   ]
  },
  {
   "cell_type": "code",
   "execution_count": 153,
   "metadata": {},
   "outputs": [],
   "source": [
    "def grid_search(X:np.array, A:np.array, model, param_grid=param_grid, cv=5, print_step = True, sample_weight=None):\n",
    "    \"\"\"\n",
    "    Takes a baseline model and does grid search among parameters in the param_grid with cross validation.\n",
    "    Returns the model with best hyparameters after searching\n",
    "    \"\"\"\n",
    "    if sample_weight is None:\n",
    "        clf = GridSearchCV(model, param_grid, cv=cv, n_jobs=-1).fit(X, A)\n",
    "    else:\n",
    "        clf = GridSearchCV(model, param_grid, cv=cv, n_jobs=-1).fit(X, A, sample_weight = sample_weight)\n",
    "    print(\"Best accuracy: %0.3f\" % (clf.best_score_))\n",
    "    print()\n",
    "    print(\"Best parameters: %r\" % clf.best_params_)\n",
    "    print('-'*30)\n",
    "    if print_step:\n",
    "        means = clf.cv_results_['mean_test_score']\n",
    "        stds = clf.cv_results_['std_test_score']\n",
    "        for mean, std, params in zip(means, stds, clf.cv_results_['params']):\n",
    "        \t\tprint(\"%0.3f (+/-%0.03f) for %r\" % (mean, std * 2, params))\n",
    "        print('-'*30)\n",
    "\n",
    "    return(model.set_params(**clf.best_params_))"
   ]
  },
  {
   "cell_type": "markdown",
   "metadata": {},
   "source": [
    "gbm = grid_search(X_train, A_train, model=GradientBoostingClassifier(random_state=RANDOM_STATE), print_step=False)"
   ]
  },
  {
   "cell_type": "markdown",
   "metadata": {},
   "source": [
    "A copy of the best hyperparameters from grid search:"
   ]
  },
  {
   "cell_type": "markdown",
   "metadata": {},
   "source": [
    "best_params = {'learning_rate': 0.05, 'max_depth': 5, 'min_samples_leaf': 5, 'min_samples_split': 4, 'n_estimators': 100}"
   ]
  },
  {
   "cell_type": "markdown",
   "metadata": {},
   "source": [
    "gbm = GradientBoostingClassifier(random_state=RANDOM_STATE).set_params(**best_params).fit(X_train, A_train,\n",
    "                                                                                         sample_weight=sample_weights)"
   ]
  },
  {
   "cell_type": "markdown",
   "metadata": {},
   "source": [
    "### Weighted XGBoost"
   ]
  },
  {
   "cell_type": "code",
   "execution_count": 208,
   "metadata": {},
   "outputs": [],
   "source": [
    "param_grid_xgb = {\n",
    "    'objective':['binary:logistic', 'reg:squarederror'],\n",
    "    'n_estimators':[10, 50, 100],\n",
    "    'min_child_weight': [1, 5, 10],\n",
    "    'gamma': [0.5, 1.0, 1.5],\n",
    "    'subsample': [0.3, 0.6, 0.8, 1.0],\n",
    "    'colsample_bytree': [0.6, 0.8],\n",
    "    'max_depth': [3, 4]\n",
    "    #'scale_pos_weight':[1, 2, 4]\n",
    "}"
   ]
  },
  {
   "cell_type": "code",
   "execution_count": 209,
   "metadata": {},
   "outputs": [
    {
     "name": "stdout",
     "output_type": "stream",
     "text": [
      "[04:29:03] WARNING: ..\\src\\learner.cc:1061: Starting in XGBoost 1.3.0, the default evaluation metric used with the objective 'binary:logistic' was changed from 'error' to 'logloss'. Explicitly set eval_metric if you'd like to restore the old behavior.\n",
      "Best accuracy: 0.713\n",
      "\n",
      "Best parameters: {'colsample_bytree': 0.6, 'gamma': 1.0, 'max_depth': 3, 'min_child_weight': 1, 'n_estimators': 10, 'objective': 'binary:logistic', 'subsample': 0.8}\n",
      "------------------------------\n"
     ]
    },
    {
     "data": {
      "text/plain": [
       "XGBClassifier(base_score=None, booster=None, colsample_bylevel=None,\n",
       "              colsample_bynode=None, colsample_bytree=0.6, gamma=1.0,\n",
       "              gpu_id=None, importance_type='gain', interaction_constraints=None,\n",
       "              learning_rate=None, max_delta_step=None, max_depth=3,\n",
       "              min_child_weight=1, missing=nan, monotone_constraints=None,\n",
       "              n_estimators=10, n_jobs=-1, num_parallel_tree=None,\n",
       "              random_state=None, reg_alpha=None, reg_lambda=None,\n",
       "              scale_pos_weight=None, subsample=0.8, tree_method=None,\n",
       "              validate_parameters=None, verbosity=None)"
      ]
     },
     "execution_count": 209,
     "metadata": {},
     "output_type": "execute_result"
    }
   ],
   "source": [
    "grid_search(X_train, A_train, param_grid = param_grid_xgb, print_step=False, cv=5,\n",
    "                        model=XGBClassifier(n_jobs=-1,random_state=RANDOM_STATE))"
   ]
  },
  {
   "cell_type": "markdown",
   "metadata": {},
   "source": [
    "A copy of best hyperparameters from grid search"
   ]
  },
  {
   "cell_type": "code",
   "execution_count": 28,
   "metadata": {},
   "outputs": [],
   "source": [
    "best_params_xgb = {'colsample_bytree': 0.8, 'gamma': 1.0, 'max_depth': 3, 'min_child_weight': 1, 'n_estimators': 10, \n",
    "                        'objective': 'reg:squarederror', 'subsample': 0.8}\n",
    "\n",
    "xgb = XGBClassifier(n_jobs=-1,random_state=RANDOM_STATE).set_params(**best_params_xgb).fit(X_train, A_train)"
   ]
  },
  {
   "cell_type": "code",
   "execution_count": 29,
   "metadata": {},
   "outputs": [
    {
     "name": "stdout",
     "output_type": "stream",
     "text": [
      "0.76625\n",
      "0.6725\n"
     ]
    }
   ],
   "source": [
    "print(xgb.score(X_train, A_train))\n",
    "print(xgb.score(X_test, A_test))"
   ]
  },
  {
   "cell_type": "code",
   "execution_count": 41,
   "metadata": {},
   "outputs": [],
   "source": [
    "propensity_score_xgb = xgb.predict(np.array(dataset.iloc[:, 2:]))"
   ]
  },
  {
   "cell_type": "code",
   "execution_count": null,
   "metadata": {},
   "outputs": [],
   "source": []
  },
  {
   "cell_type": "code",
   "execution_count": null,
   "metadata": {},
   "outputs": [],
   "source": []
  },
  {
   "cell_type": "markdown",
   "metadata": {},
   "source": [
    "## Preparing data for ATE estimation"
   ]
  },
  {
   "cell_type": "code",
   "execution_count": 89,
   "metadata": {},
   "outputs": [],
   "source": [
    "def combine_data(ps, A, y):\n",
    "    \"\"\"\n",
    "    Combines propensity scores with A and y\n",
    "    \n",
    "    Returns a data frame with three columns\n",
    "    \"\"\"\n",
    "    data_combined = pd.DataFrame(\n",
    "        np.array([ps, A, y]).T,\n",
    "        columns=['e', 'A', 'Y']\n",
    "    )\n",
    "    return data_combined"
   ]
  },
  {
   "cell_type": "code",
   "execution_count": 294,
   "metadata": {},
   "outputs": [],
   "source": [
    "def data_preparation_pipeline(dataset, resample=None):\n",
    "    \"\"\"\n",
    "    Each sampling method results in a different data size, a set of best \n",
    "    hyperparameters from grid search, and an array of sample weights. \n",
    "    This pipeline prepares a dataset, with the specified resampling method, \n",
    "    for the later ATE estimation.\n",
    "    \"\"\"\n",
    "    test_scores = []\n",
    "    params = []\n",
    "    weights =[]\n",
    "\n",
    "    if resample == None:\n",
    "        data = dataset\n",
    "    elif resample == 'over':\n",
    "        data = Oversample(dataset)\n",
    "    elif resample == 'smote':\n",
    "        data = SMOTE(dataset)\n",
    "    else:\n",
    "        print(\"Error: Invalid resampling method! Possible \")\n",
    "        \n",
    "    # A copy of the best hyperparameter candidates from grid search:\n",
    "    best_params0 = {'learning_rate': 0.1, 'max_depth': 5, 'min_samples_leaf': 3, 'min_samples_split': 2, 'n_estimators': 100}\n",
    "    best_params1 =  {'learning_rate': 0.05, 'max_depth': 2, 'min_samples_leaf': 3, 'min_samples_split': 2, 'n_estimators': 100}\n",
    "    best_params2 = {'learning_rate': 0.1, 'max_depth': 5, 'min_samples_leaf': 1, 'min_samples_split': 4, 'n_estimators': 100}\n",
    "    best_params3 = {'learning_rate': 0.01, 'max_depth': 3, 'min_samples_leaf': 5, 'min_samples_split': 2, 'n_estimators': 100}\n",
    "    best_params4 = {'learning_rate': 0.01, 'max_depth': 3, 'min_samples_leaf': 1, 'min_samples_split': 2, 'n_estimators': 100}\n",
    "    params_list = [best_params0, best_params1, best_params2, best_params3, best_params4]\n",
    "    \n",
    "    X_train, X_test, y_train, y_test, A_train, A_test = split_train_test(data)\n",
    "    \n",
    "    for i in range(15,22):\n",
    "        # high-dimensional weights (the best weights after multiple trials)\n",
    "        sample_weights = np.zeros(len(A_train))\n",
    "        sample_weights[A_train == 0] = i\n",
    "        sample_weights[A_train == 1] = 20\n",
    "        \n",
    "        for p in params_list:\n",
    "            gbm = GradientBoostingClassifier().set_params(**p).fit(X_train, A_train,sample_weight=sample_weights)\n",
    "            #print(gbm.score(X_train, A_train), gbm.score(X_test, A_test))\n",
    "            test_scores.append(gbm.score(X_test, A_test))\n",
    "            params.append(p)\n",
    "            weights.append(sample_weights)\n",
    "        \n",
    "    best_ = params[test_scores.index(max(test_scores))]\n",
    "    gbm = GradientBoostingClassifier().set_params(**best_).fit(X_train, A_train,\n",
    "                                                               sample_weight=weights[test_scores.index(max(test_scores))])\n",
    "    print(\"Train accuracy: \",gbm.score(X_train, A_train))\n",
    "    print(\"Test accuracy: \", gbm.score(X_test, A_test))\n",
    "    propensity_score_gbm = np.exp(gbm.predict_log_proba(data.iloc[:, 2:]))[:, 1]\n",
    "    \n",
    "    data_for_ATE = combine_data(propensity_score_gbm, data.A, data.Y)\n",
    "    X_data = data.drop(['Y', 'A'], axis=1)\n",
    "    return data_for_ATE, X_data\n"
   ]
  },
  {
   "cell_type": "markdown",
   "metadata": {},
   "source": [
    "plt.plot(data_for_ATE[data_for_ATE.A==0].e, \n",
    "         data_for_ATE[data_for_ATE.A==0].Y, 'o')\n",
    "plt.plot(data_for_ATE[data_for_ATE.A==1].e, \n",
    "         data_for_ATE[data_for_ATE.A==1].Y, 'ro')\n",
    "plt.xlabel(\"Propensity score\")\n",
    "plt.ylabel(\"Y\")\n",
    "plt.title(\"Outcome variable vs. Propensity score between groups\")\n",
    "plt.show()"
   ]
  },
  {
   "cell_type": "markdown",
   "metadata": {},
   "source": [
    "## Calculating ATE"
   ]
  },
  {
   "cell_type": "markdown",
   "metadata": {},
   "source": [
    "### ATE Estimate - Stratification"
   ]
  },
  {
   "cell_type": "code",
   "execution_count": 96,
   "metadata": {},
   "outputs": [],
   "source": [
    "def Stratify(data:pd.DataFrame, k:int):\n",
    "    \n",
    "    data_copy = data.copy()\n",
    "    \n",
    "    # rank to resolve duplicate edge cases\n",
    "    data_copy['bin'] = pd.qcut(\n",
    "        data_copy.e.rank(method='first'), k, labels=False\n",
    "    )\n",
    "    \n",
    "    return data_copy"
   ]
  },
  {
   "cell_type": "markdown",
   "metadata": {},
   "source": [
    "Stratify(data_for_ATE, 5)"
   ]
  },
  {
   "cell_type": "code",
   "execution_count": 98,
   "metadata": {},
   "outputs": [],
   "source": [
    "def Calculate_ATE_Strat(data:pd.DataFrame, k:int):\n",
    "    \n",
    "    n = data.shape[0]\n",
    "    \n",
    "    data_copy = Stratify(data, k)\n",
    "    \n",
    "    # calculate ATE score\n",
    "    ATE = 0\n",
    "    for k_idx in range(k):\n",
    "        \n",
    "        # temporary data frame\n",
    "        Qj = data_copy[data_copy.bin == k_idx]\n",
    "        nj = Qj.shape[0]\n",
    "\n",
    "        ATE += (nj/n) * ( np.average(Qj[Qj.A==1].Y) - np.average(Qj[Qj.A==0].Y) )\n",
    "    \n",
    "    return ATE"
   ]
  },
  {
   "cell_type": "markdown",
   "metadata": {},
   "source": [
    "### ATE Estimate - Stratification and Regression Adjustment"
   ]
  },
  {
   "cell_type": "code",
   "execution_count": 199,
   "metadata": {},
   "outputs": [],
   "source": [
    "def Calculate_ATE_StratRegrAdjusted_with_X(data:pd.DataFrame, X_data:pd.DataFrame, k:int):\n",
    "    \n",
    "    n = data.shape[0]\n",
    "    \n",
    "    data_adjusted = pd.concat(\n",
    "        [Stratify(data, k), X_data.reset_index(drop=True)], axis=1)\n",
    "    \n",
    "    # calculate ATE score\n",
    "    ATE = 0\n",
    "    for k_idx in range(k):\n",
    "        \n",
    "        # temporary data frame\n",
    "        Qj = data_adjusted[data_adjusted.bin == k_idx]\n",
    "        nj = Qj.shape[0]\n",
    " \n",
    "        # Regression Adjusted Linearly, then Delta_j = alpha^Z_j\n",
    "        X = Qj.drop(['e', 'Y', 'bin'], axis=1)\n",
    "        y = Qj.Y\n",
    "        reg = LinearRegression().fit(X, y)\n",
    "        \n",
    "        ATE += reg.coef_[0]\n",
    "        \n",
    "    return ATE / k"
   ]
  },
  {
   "cell_type": "markdown",
   "metadata": {},
   "source": [
    "### ATE Estimate - Regression Adjustment\n",
    "\n",
    "Adapting the last function with stratification and regression adjustment, we can simply obtain this by setting k = 1, which means one stratum, or no stratification."
   ]
  },
  {
   "cell_type": "markdown",
   "metadata": {},
   "source": [
    "## Result Summary"
   ]
  },
  {
   "cell_type": "code",
   "execution_count": 276,
   "metadata": {},
   "outputs": [],
   "source": [
    "def estimation_summary(data:pd.DataFrame, data_X:pd.DataFrame, k:int, true_ATE=high_true_ATE, title=\"high\"):\n",
    "    \"\"\"\"\"\"\n",
    "    start = time.time()\n",
    "    strat = Calculate_ATE_Strat(data, k)\n",
    "    print(\"Time for calculating ATE with stratification: {}s\".format(round(time.time()-start, 4)))\n",
    "    start = time.time()\n",
    "    regadj = Calculate_ATE_StratRegrAdjusted_with_X(data, data_X, 1)\n",
    "    print(\"Time for calculating ATE with regression adjustment: {}s\".format(round(time.time()-start, 4)))\n",
    "    start = time.time()\n",
    "    combined = Calculate_ATE_StratRegrAdjusted_with_X(data, data_X, k)\n",
    "    print(\"Time for calculating ATE with stratification + regression adjustment: {}s\".format(round(time.time()-start, 4)))\n",
    "    print(\"Estimated ATE by stratification with k = {}: {}\".format(k, strat))\n",
    "    print(\"Estimated ATE by regression adjustment: {}\".format(regadj))\n",
    "    print(\"Estimated ATE by stratification + regression adjustment with k = {}: {}\".format(k, combined))\n",
    "    \n",
    "    plt.figure(figsize=(10,6))\n",
    "    plt.plot(range(1,11), [Calculate_ATE_Strat(data, i) for i in range(1, 11)], marker='o',\n",
    "                label = 'ATE estimate by stratification')\n",
    "    plt.plot(range(1,11), [Calculate_ATE_StratRegrAdjusted_with_X(data, data_X, i) for i in range(1, 11)], marker='o',\n",
    "                label = 'ATE estimate by strat + reg_adj')\n",
    "    plt.scatter(1, regadj, s=150, label='ATE estimate by regression adjustment',alpha=1, marker='o',c='green')\n",
    "\n",
    "    plt.hlines(true_ATE, 1, 10, colors='red', linestyles='dashed', label='ATE true')\n",
    "    #plt.hlines(naive_ATE(data), 1, 10, colors='grey', linestyles='dashed', label='ATE Naive')\n",
    "    plt.title(\"The {}-dimensional dataset\\nTrue ATE vs. Estimated ATE\".format(title))\n",
    "    plt.xlabel(\"Number of strata (k)\")\n",
    "    plt.ylabel(\"ATE\")\n",
    "    plt.legend()\n",
    "    plt.show()\n",
    "    return strat, regadj, combined"
   ]
  },
  {
   "cell_type": "markdown",
   "metadata": {},
   "source": [
    "#### Result plots for high-dimensional dataset"
   ]
  },
  {
   "cell_type": "code",
   "execution_count": 295,
   "metadata": {},
   "outputs": [
    {
     "name": "stdout",
     "output_type": "stream",
     "text": [
      "Shape of the low-dimensional dataset: (2000, 187)\n"
     ]
    }
   ],
   "source": [
    "dataset = copy_dataset(highDim_dataset, label='low')"
   ]
  },
  {
   "cell_type": "code",
   "execution_count": 296,
   "metadata": {},
   "outputs": [
    {
     "name": "stdout",
     "output_type": "stream",
     "text": [
      "Train accuracy:  0.735625\n",
      "Test accuracy:  0.745\n",
      "Time for calculating ATE with stratification: 0.009s\n",
      "Time for calculating ATE with regression adjustment: 0.029s\n",
      "Time for calculating ATE with stratification + regression adjustment: 0.051s\n",
      "Estimated ATE by stratification with k = 5: -55.59279960713291\n",
      "Estimated ATE by regression adjustment: -59.365443691851674\n",
      "Estimated ATE by stratification + regression adjustment with k = 5: -51.60840553378588\n"
     ]
    },
    {
     "data": {
      "image/png": "[encoded data removed]",
      "text/plain": [
       "<Figure size 720x432 with 1 Axes>"
      ]
     },
     "metadata": {
      "needs_background": "light"
     },
     "output_type": "display_data"
    }
   ],
   "source": [
    "data_for_ATE, X_data = data_preparation_pipeline(dataset, resample=None)\n",
    "strat, regadj, combined = estimation_summary(data_for_ATE, X_data, k=5, true_ATE=high_true_ATE, title=\"high\")"
   ]
  },
  {
   "cell_type": "code",
   "execution_count": 297,
   "metadata": {},
   "outputs": [
    {
     "name": "stdout",
     "output_type": "stream",
     "text": [
      "Train accuracy:  0.9557807461999078\n",
      "Test accuracy:  0.7863720073664825\n",
      "Time for calculating ATE with stratification: 0.008s\n",
      "Time for calculating ATE with regression adjustment: 0.028s\n",
      "Time for calculating ATE with stratification + regression adjustment: 0.053s\n",
      "Estimated ATE by stratification with k = 5: -48.29465022833129\n",
      "Estimated ATE by regression adjustment: -57.7743849810983\n",
      "Estimated ATE by stratification + regression adjustment with k = 5: -52.14534180794649\n"
     ]
    },
    {
     "data": {
      "image/png": "[encoded data removed]",
      "text/plain": [
       "<Figure size 720x432 with 1 Axes>"
      ]
     },
     "metadata": {
      "needs_background": "light"
     },
     "output_type": "display_data"
    }
   ],
   "source": [
    "data_for_ATE, X_data = data_preparation_pipeline(dataset, resample='over')\n",
    "strat_ovr, regadj_ovr, combined_ovr = estimation_summary(data_for_ATE, X_data, k=5, true_ATE=high_true_ATE, title=\"high\")"
   ]
  },
  {
   "cell_type": "code",
   "execution_count": 206,
   "metadata": {},
   "outputs": [
    {
     "name": "stdout",
     "output_type": "stream",
     "text": [
      "Time for calculating ATE with stratification: 0.012s\n",
      "Time for calculating ATE with regression adjustment: 0.029s\n",
      "Time for calculating ATE with stratification + regression adjustment: 0.06s\n",
      "Estimated ATE by stratification with k = 5: -50.6001162246684\n",
      "Estimated ATE by regression adjustment: -57.96179092860124\n",
      "Estimated ATE by stratification + regression adjustment with k=5: -55.569101659359646\n"
     ]
    },
    {
     "data": {
      "image/png": "[encoded data removed]",
      "text/plain": [
       "<Figure size 720x432 with 1 Axes>"
      ]
     },
     "metadata": {
      "needs_background": "light"
     },
     "output_type": "display_data"
    }
   ],
   "source": [
    "data_for_ATE, X_data = data_preparation_pipeline(dataset, resample='smote')\n",
    "strat_smt, regadj_smt, combined_smt = estimation_summary(data_for_ATE, X_data, k=5, true_ATE=high_true_ATE, title=\"high\")"
   ]
  },
  {
   "cell_type": "markdown",
   "metadata": {},
   "source": [
    "#### Result plots for low-dimensional dataset"
   ]
  },
  {
   "cell_type": "code",
   "execution_count": 298,
   "metadata": {},
   "outputs": [
    {
     "name": "stdout",
     "output_type": "stream",
     "text": [
      "Shape of the low-dimensional dataset: (500, 24)\n"
     ]
    }
   ],
   "source": [
    "dataset = copy_dataset(lowDim_dataset, label='low')"
   ]
  },
  {
   "cell_type": "code",
   "execution_count": 299,
   "metadata": {},
   "outputs": [
    {
     "name": "stdout",
     "output_type": "stream",
     "text": [
      "Train accuracy:  0.825\n",
      "Test accuracy:  0.85\n",
      "Time for calculating ATE with stratification: 0.008s\n",
      "Time for calculating ATE with regression adjustment: 0.005s\n",
      "Time for calculating ATE with stratification + regression adjustment: 0.014s\n",
      "Estimated ATE by stratification with k = 5: 0.207079123866041\n",
      "Estimated ATE by regression adjustment: 2.472655707042314\n",
      "Estimated ATE by stratification + regression adjustment with k = 5: 1.8271129168311258\n"
     ]
    },
    {
     "data": {
      "image/png": "[encoded data removed]",
      "text/plain": [
       "<Figure size 720x432 with 1 Axes>"
      ]
     },
     "metadata": {
      "needs_background": "light"
     },
     "output_type": "display_data"
    }
   ],
   "source": [
    "data_for_ATE, X_data = data_preparation_pipeline(dataset, resample=None)\n",
    "strat, regadj, combined = estimation_summary(data_for_ATE, X_data, k=5, true_ATE=low_true_ATE, title=\"low\")"
   ]
  },
  {
   "cell_type": "code",
   "execution_count": 300,
   "metadata": {},
   "outputs": [
    {
     "name": "stdout",
     "output_type": "stream",
     "text": [
      "Train accuracy:  0.9761904761904762\n",
      "Test accuracy:  0.8924050632911392\n",
      "Time for calculating ATE with stratification: 0.009s\n",
      "Time for calculating ATE with regression adjustment: 0.011s\n",
      "Time for calculating ATE with stratification + regression adjustment: 0.017s\n",
      "Estimated ATE by stratification with k = 5: nan\n",
      "Estimated ATE by regression adjustment: 2.3467971898910025\n",
      "Estimated ATE by stratification + regression adjustment with k = 5: 0.7076840600626533\n"
     ]
    },
    {
     "data": {
      "image/png": "[encoded data removed]",
      "text/plain": [
       "<Figure size 720x432 with 1 Axes>"
      ]
     },
     "metadata": {
      "needs_background": "light"
     },
     "output_type": "display_data"
    }
   ],
   "source": [
    "data_for_ATE, X_data = data_preparation_pipeline(dataset, resample='over')\n",
    "strat, regadj, combined = estimation_summary(data_for_ATE, X_data, k=5, true_ATE=low_true_ATE, title=\"low\")"
   ]
  },
  {
   "cell_type": "code",
   "execution_count": 301,
   "metadata": {},
   "outputs": [
    {
     "name": "stdout",
     "output_type": "stream",
     "text": [
      "Train accuracy:  0.9852700490998363\n",
      "Test accuracy:  0.7973856209150327\n",
      "Time for calculating ATE with stratification: 0.009s\n",
      "Time for calculating ATE with regression adjustment: 0.005s\n",
      "Time for calculating ATE with stratification + regression adjustment: 0.015s\n",
      "Estimated ATE by stratification with k = 5: nan\n",
      "Estimated ATE by regression adjustment: 2.354734965058734\n",
      "Estimated ATE by stratification + regression adjustment with k = 5: 2.0855027260709127\n"
     ]
    },
    {
     "data": {
      "image/png": "[encoded data removed]",
      "text/plain": [
       "<Figure size 720x432 with 1 Axes>"
      ]
     },
     "metadata": {
      "needs_background": "light"
     },
     "output_type": "display_data"
    }
   ],
   "source": [
    "data_for_ATE, X_data = data_preparation_pipeline(dataset, resample='smote')\n",
    "strat, regadj, combined = estimation_summary(data_for_ATE, X_data, k=5, true_ATE=low_true_ATE, title=\"low\")"
   ]
  },
  {
   "cell_type": "markdown",
   "metadata": {},
   "source": [
    "## Conclusion and recommendations\n",
    "\n",
    "Among three algorithms, **stratification** has the lowest time complexity and **stratification with regression adjustment** has the highest time complexity.\n",
    "\n",
    "Considering the estimation accuracy, for the high-dimensional dataset, **stratification** achieves the best ATE estimate closest to the true ATE by setting k = 5"
   ]
  },
  {
   "cell_type": "code",
   "execution_count": null,
   "metadata": {},
   "outputs": [],
   "source": []
  }
 ],
 "metadata": {
  "kernelspec": {
   "display_name": "Python 3",
   "language": "python",
   "name": "python3"
  },
  "language_info": {
   "codemirror_mode": {
    "name": "ipython",
    "version": 3
   },
   "file_extension": ".py",
   "mimetype": "text/x-python",
   "name": "python",
   "nbconvert_exporter": "python",
   "pygments_lexer": "ipython3",
   "version": "3.8.3"
  }
 },
 "nbformat": 4,
 "nbformat_minor": 4
}
