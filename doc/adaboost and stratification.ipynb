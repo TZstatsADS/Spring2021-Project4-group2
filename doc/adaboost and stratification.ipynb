{
 "cells": [
  {
   "cell_type": "code",
   "execution_count": 1,
   "metadata": {},
   "outputs": [],
   "source": [
    "import pandas as pd\n",
    "import numpy as np\n",
    "from sklearn.linear_model import LogisticRegression\n",
    "from sklearn.linear_model import LinearRegression\n",
    "import copy\n",
    "from sklearn.ensemble import AdaBoostClassifier\n",
    "from sklearn.model_selection import GridSearchCV\n",
    "from sklearn.model_selection import train_test_split"
   ]
  },
  {
   "cell_type": "code",
   "execution_count": 2,
   "metadata": {},
   "outputs": [],
   "source": [
    "def Stratification(data, ps):\n",
    "    data_copy = data.copy()[['A', 'Y']]\n",
    "    stratum = pd.qcut(x=ps, q=[0, .2, .4, .6, .8, 1.], labels=False)\n",
    "    data_copy['stratum'] = stratum\n",
    "\n",
    "    ATE = 0\n",
    "    N = data_copy.shape[0]\n",
    "    for j in range(5):\n",
    "        data_new = data_copy[data_copy.stratum == j]\n",
    "        Nj = data_new.shape[0]\n",
    "        \n",
    "        data_use1 = data_new[data_new['A'] == 1]\n",
    "        N1j = data_use1.shape[0]\n",
    "        s1 = sum(data_use1.A * data_use1.Y) / N1j\n",
    "        \n",
    "        data_use2 = data_new[data_new['A'] == 0]\n",
    "        N0j = data_use2.shape[0]\n",
    "        s2 = sum((1 - data_use2.A) * data_use2.Y) / N0j\n",
    "        \n",
    "        ATE = ATE + (Nj/N) * (s1 - s2)\n",
    "    return ATE"
   ]
  },
  {
   "cell_type": "code",
   "execution_count": 3,
   "metadata": {},
   "outputs": [],
   "source": [
    "highDim_data = pd.read_csv('../data/highDim_dataset.csv')\n",
    "lowDim_data = pd.read_csv('../data/lowDim_dataset.csv')\n",
    "\n",
    "X_low = lowDim_data.iloc[:,2:]\n",
    "A_low = lowDim_data['A']\n",
    "\n",
    "X_high = highDim_data.iloc[:,2:]\n",
    "A_high = highDim_data['A']"
   ]
  },
  {
   "cell_type": "code",
   "execution_count": 4,
   "metadata": {},
   "outputs": [],
   "source": [
    "X_train_low,X_test_low,A_train_low,A_test_low = train_test_split(X_low,\n",
    "                                                         A_low,\n",
    "                                                         test_size=.2,\n",
    "                                                         random_state=123)\n",
    "\n",
    "X_train_high,X_test_high,A_train_high,A_test_high = train_test_split(X_high,\n",
    "                                                         A_high,\n",
    "                                                         test_size=.2,\n",
    "                                                         random_state=123)"
   ]
  },
  {
   "cell_type": "code",
   "execution_count": 5,
   "metadata": {},
   "outputs": [],
   "source": [
    "#params_low = {'learning_rate':[0.01,0.1,0.2,0.5], 'n_estimators':[50,100,150,200]}\n",
    "#gscv_low = GridSearchCV(AdaBoostClassifier(),params_low,cv=5).fit(X_train_low,A_train_low)\n",
    "#gscv_low.best_params_"
   ]
  },
  {
   "cell_type": "code",
   "execution_count": 6,
   "metadata": {},
   "outputs": [],
   "source": [
    "# {'learning_rate': 0.01, 'n_estimators': 50}"
   ]
  },
  {
   "cell_type": "code",
   "execution_count": 7,
   "metadata": {},
   "outputs": [
    {
     "name": "stdout",
     "output_type": "stream",
     "text": [
      "0.7975\n",
      "0.85\n"
     ]
    }
   ],
   "source": [
    "ada_low = AdaBoostClassifier(learning_rate = 0.01, n_estimators = 50).fit(X_train_low,A_train_low)\n",
    "\n",
    "print(ada_low.score(X_train_low,A_train_low))\n",
    "print(ada_low.score(X_test_low,A_test_low))\n",
    "\n",
    "ps_low = ada_low.predict_proba(X_low)[:,1]\n",
    "ps_low = pd.DataFrame(ps_low).rank(method='first')\n",
    "ps_low = np.array(ps_low[0])"
   ]
  },
  {
   "cell_type": "code",
   "execution_count": 8,
   "metadata": {},
   "outputs": [
    {
     "data": {
      "text/plain": [
       "3.618898696170567"
      ]
     },
     "execution_count": 8,
     "metadata": {},
     "output_type": "execute_result"
    }
   ],
   "source": [
    "Stratification(lowDim_data, ps_low)"
   ]
  },
  {
   "cell_type": "code",
   "execution_count": 9,
   "metadata": {},
   "outputs": [
    {
     "data": {
      "text/plain": [
       "{'learning_rate': 0.01, 'n_estimators': 150}"
      ]
     },
     "execution_count": 9,
     "metadata": {},
     "output_type": "execute_result"
    }
   ],
   "source": [
    "params_high = {'learning_rate':[0.01,0.1,0.2,0.5], 'n_estimators':[100,150,200]}\n",
    "gscv_high = GridSearchCV(AdaBoostClassifier(),params_high,cv=5).fit(X_train_high,A_train_high)\n",
    "gscv_high.best_params_"
   ]
  },
  {
   "cell_type": "code",
   "execution_count": 10,
   "metadata": {},
   "outputs": [],
   "source": [
    "#{'learning_rate': 0.01, 'n_estimators': 150}"
   ]
  },
  {
   "cell_type": "code",
   "execution_count": 11,
   "metadata": {},
   "outputs": [
    {
     "name": "stdout",
     "output_type": "stream",
     "text": [
      "0.735625\n",
      "0.695\n"
     ]
    }
   ],
   "source": [
    "ada_high = AdaBoostClassifier(learning_rate = 0.01, n_estimators = 150).fit(X_train_high,A_train_high)\n",
    "\n",
    "print(ada_high.score(X_train_high,A_train_high))\n",
    "print(ada_high.score(X_test_high,A_test_high))\n",
    "\n",
    "ps_high = ada_high.predict_proba(X_high)[:,1]\n",
    "ps_high = pd.DataFrame(ps_high).rank(method='first')\n",
    "ps_high = np.array(ps_high[0])"
   ]
  },
  {
   "cell_type": "code",
   "execution_count": 12,
   "metadata": {},
   "outputs": [
    {
     "data": {
      "text/plain": [
       "-60.836963965904644"
      ]
     },
     "execution_count": 12,
     "metadata": {},
     "output_type": "execute_result"
    }
   ],
   "source": [
    "Stratification(highDim_data, ps_high)"
   ]
  },
  {
   "cell_type": "code",
   "execution_count": null,
   "metadata": {},
   "outputs": [],
   "source": []
  }
 ],
 "metadata": {
  "kernelspec": {
   "display_name": "Python 3",
   "language": "python",
   "name": "python3"
  },
  "language_info": {
   "codemirror_mode": {
    "name": "ipython",
    "version": 3
   },
   "file_extension": ".py",
   "mimetype": "text/x-python",
   "name": "python",
   "nbconvert_exporter": "python",
   "pygments_lexer": "ipython3",
   "version": "3.8.5"
  }
 },
 "nbformat": 4,
 "nbformat_minor": 4
}
