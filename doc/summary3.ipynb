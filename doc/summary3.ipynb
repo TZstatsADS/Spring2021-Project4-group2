{
 "cells": [
  {
   "cell_type": "markdown",
   "metadata": {},
   "source": [
    "# STAT5243 Project 4: Causal Inference"
   ]
  },
  {
   "cell_type": "markdown",
   "metadata": {},
   "source": [
    "***Group 2:***\n",
    "\n",
    "    Wendy Doan\n",
    "    Yibai Liu\n",
    "    Yiwen Fang\n",
    "    Shuqi Yu\n",
    "    Zhihang Xia"
   ]
  },
  {
   "cell_type": "markdown",
   "metadata": {},
   "source": [
    "## Introduction"
   ]
  },
  {
   "cell_type": "markdown",
   "metadata": {},
   "source": [
    "In this project, we studied **Causal Inference** on two datasets, one high-dimensional and another low-dimensional. \n",
    "\n",
    "Specifically, we estimated the **Average Treatment Effects (ATE)** by calculating the **Propensity Scores (PS)** using the **Boosting Stumps** algorithm. \n",
    "\n",
    "The ATEs are then calculated using three models and compared with the true values to estimate accuracy. For each algorithm and method,  The performance and computational efficiency were evaluated for each dataset to select the best combination. "
   ]
  },
  {
   "cell_type": "markdown",
   "metadata": {},
   "source": [
    "Propensity Scores: (Boosting Stumps)\n",
    "1. GBM \n",
    "2. XGboost\n",
    "\n",
    "ATE Estimation Methods:\n",
    "1. Stratification\n",
    "2. Regression Adjustment\n",
    "3. Stratification + Regression Adjustment "
   ]
  },
  {
   "cell_type": "markdown",
   "metadata": {},
   "source": [
    "To aid with propensity score prediction, we also attempted to alleviate the slight imbalance in the data through well known methods such as oversampling and SMOTE."
   ]
  },
  {
   "cell_type": "markdown",
   "metadata": {},
   "source": [
    "## Propensity Score Estimation\n",
    "\n",
    "We define the propensity score as:\n",
    "\n",
    "$$e(x) = Pr(T =1|X=x)$$\n",
    "\n",
    "The propensity score is given in term of probability \n",
    "\n",
    "$$0<e(x)<1$$\n"
   ]
  },
  {
   "cell_type": "markdown",
   "metadata": {},
   "source": [
    "##  Step 0: Import packages"
   ]
  },
  {
   "cell_type": "code",
   "execution_count": 2,
   "metadata": {},
   "outputs": [],
   "source": [
    "import numpy as np\n",
    "import pandas as pd\n",
    "import matplotlib.pyplot as plt\n",
    "import os\n",
    "import time\n",
    "from collections import Counter\n",
    "import warnings\n",
    "warnings.filterwarnings('ignore')\n",
    "\n",
    "# Set a random seed for reproduction.\n",
    "RANDOM_STATE = np.random.seed(42)\n",
    "\n",
    "# train-test split for propensity score\n",
    "from sklearn.model_selection import train_test_split\n",
    "\n",
    "# baseline propensity score\n",
    "from sklearn.linear_model import LogisticRegression\n",
    "from sklearn.linear_model import LogisticRegressionCV\n",
    "\n",
    "# grid search\n",
    "from sklearn.model_selection import GridSearchCV\n",
    "\n",
    "# propensity score from tree models\n",
    "import xgboost as xgb\n",
    "from xgboost import XGBClassifier\n",
    "\n",
    "# GBM\n",
    "from sklearn.ensemble import GradientBoostingClassifier\n",
    "\n",
    "# Stratification and Regression Adjustment\n",
    "from sklearn.model_selection import StratifiedKFold\n",
    "from sklearn.linear_model import LinearRegression\n",
    "\n",
    "# Imbalance techniques\n",
    "from imblearn.over_sampling import RandomOverSampler\n",
    "from imblearn.combine import SMOTETomek\n",
    "#from imblearn.under_sampling import RandomUnderSampler\n",
    "#from imblearn.under_sampling import NearMiss"
   ]
  },
  {
   "cell_type": "markdown",
   "metadata": {},
   "source": [
    "## Step 1: Import and explore data"
   ]
  },
  {
   "cell_type": "markdown",
   "metadata": {},
   "source": [
    "To increase the usability of the notebook, we use generic variable names instead of associating with the datasets used in for the project. To use the notebook with other datasets, simply import with variable name `dataset`\n",
    "\n",
    "We have two dataset, `High Dimensional Dataset` and `Low Dimensional Dataset`\n",
    "\n",
    "The goal of this project is estimating the ATE of two dataset: high and low dimensional. "
   ]
  },
  {
   "cell_type": "code",
   "execution_count": 3,
   "metadata": {},
   "outputs": [],
   "source": [
    "# Set up your directory for the datasets\n",
    "directory = \"../\""
   ]
  },
  {
   "cell_type": "code",
   "execution_count": 4,
   "metadata": {},
   "outputs": [],
   "source": [
    "highDim_dataset = pd.read_csv(directory + 'data/highDim_dataset.csv')\n",
    "lowDim_dataset = pd.read_csv(directory + 'data/lowDim_dataset.csv')"
   ]
  },
  {
   "cell_type": "code",
   "execution_count": 5,
   "metadata": {},
   "outputs": [],
   "source": [
    "high_true_ATE = -54.8558\n",
    "low_true_ATE = 2.0901"
   ]
  },
  {
   "cell_type": "code",
   "execution_count": 6,
   "metadata": {},
   "outputs": [],
   "source": [
    "##############################################################################\n",
    "##############################################################################\n",
    "# Choose a development option between highDim_dataset and lowDim_dataset\n",
    "\n",
    "dataset = lowDim_dataset.copy()\n",
    "dataset_name = \"Low-Dimensional Dataset\"\n",
    "true_ATE = low_true_ATE\n",
    "\n",
    "#dataset = highDim_dataset.copy()\n",
    "#dataset_name = \"High-Dimensional Dataset\"\n",
    "#true_ATE = high_true_ATE"
   ]
  },
  {
   "cell_type": "code",
   "execution_count": 7,
   "metadata": {
    "scrolled": false
   },
   "outputs": [
    {
     "data": {
      "text/html": [
       "<div>\n",
       "<style scoped>\n",
       "    .dataframe tbody tr th:only-of-type {\n",
       "        vertical-align: middle;\n",
       "    }\n",
       "\n",
       "    .dataframe tbody tr th {\n",
       "        vertical-align: top;\n",
       "    }\n",
       "\n",
       "    .dataframe thead th {\n",
       "        text-align: right;\n",
       "    }\n",
       "</style>\n",
       "<table border=\"1\" class=\"dataframe\">\n",
       "  <thead>\n",
       "    <tr style=\"text-align: right;\">\n",
       "      <th></th>\n",
       "      <th>Y</th>\n",
       "      <th>A</th>\n",
       "      <th>V1</th>\n",
       "      <th>V2</th>\n",
       "      <th>V3</th>\n",
       "      <th>V4</th>\n",
       "      <th>V5</th>\n",
       "      <th>V6</th>\n",
       "      <th>V7</th>\n",
       "      <th>V8</th>\n",
       "      <th>...</th>\n",
       "      <th>V13</th>\n",
       "      <th>V14</th>\n",
       "      <th>V15</th>\n",
       "      <th>V16</th>\n",
       "      <th>V17</th>\n",
       "      <th>V18</th>\n",
       "      <th>V19</th>\n",
       "      <th>V20</th>\n",
       "      <th>V21</th>\n",
       "      <th>V22</th>\n",
       "    </tr>\n",
       "  </thead>\n",
       "  <tbody>\n",
       "    <tr>\n",
       "      <th>0</th>\n",
       "      <td>30.486999</td>\n",
       "      <td>0</td>\n",
       "      <td>0.00</td>\n",
       "      <td>0.00</td>\n",
       "      <td>0.00</td>\n",
       "      <td>0.0</td>\n",
       "      <td>0.0</td>\n",
       "      <td>0.00</td>\n",
       "      <td>0.0</td>\n",
       "      <td>0.00</td>\n",
       "      <td>...</td>\n",
       "      <td>0.0</td>\n",
       "      <td>0.00</td>\n",
       "      <td>0.00</td>\n",
       "      <td>0.0</td>\n",
       "      <td>0.00</td>\n",
       "      <td>0.0</td>\n",
       "      <td>0.00</td>\n",
       "      <td>0.00</td>\n",
       "      <td>9.09</td>\n",
       "      <td>1.149622</td>\n",
       "    </tr>\n",
       "    <tr>\n",
       "      <th>1</th>\n",
       "      <td>18.208417</td>\n",
       "      <td>0</td>\n",
       "      <td>0.00</td>\n",
       "      <td>0.00</td>\n",
       "      <td>0.00</td>\n",
       "      <td>0.0</td>\n",
       "      <td>0.0</td>\n",
       "      <td>0.00</td>\n",
       "      <td>0.0</td>\n",
       "      <td>1.40</td>\n",
       "      <td>...</td>\n",
       "      <td>0.7</td>\n",
       "      <td>0.00</td>\n",
       "      <td>1.40</td>\n",
       "      <td>0.0</td>\n",
       "      <td>1.40</td>\n",
       "      <td>0.0</td>\n",
       "      <td>0.00</td>\n",
       "      <td>0.00</td>\n",
       "      <td>0.00</td>\n",
       "      <td>2.887702</td>\n",
       "    </tr>\n",
       "    <tr>\n",
       "      <th>2</th>\n",
       "      <td>13.485040</td>\n",
       "      <td>0</td>\n",
       "      <td>0.00</td>\n",
       "      <td>0.00</td>\n",
       "      <td>0.00</td>\n",
       "      <td>0.0</td>\n",
       "      <td>0.0</td>\n",
       "      <td>0.00</td>\n",
       "      <td>0.0</td>\n",
       "      <td>0.00</td>\n",
       "      <td>...</td>\n",
       "      <td>0.0</td>\n",
       "      <td>0.00</td>\n",
       "      <td>3.57</td>\n",
       "      <td>0.0</td>\n",
       "      <td>0.00</td>\n",
       "      <td>0.0</td>\n",
       "      <td>0.00</td>\n",
       "      <td>0.00</td>\n",
       "      <td>0.00</td>\n",
       "      <td>0.000000</td>\n",
       "    </tr>\n",
       "    <tr>\n",
       "      <th>3</th>\n",
       "      <td>25.699678</td>\n",
       "      <td>1</td>\n",
       "      <td>2.38</td>\n",
       "      <td>0.00</td>\n",
       "      <td>0.00</td>\n",
       "      <td>0.0</td>\n",
       "      <td>0.0</td>\n",
       "      <td>0.00</td>\n",
       "      <td>0.0</td>\n",
       "      <td>0.00</td>\n",
       "      <td>...</td>\n",
       "      <td>0.0</td>\n",
       "      <td>0.00</td>\n",
       "      <td>2.38</td>\n",
       "      <td>0.0</td>\n",
       "      <td>2.38</td>\n",
       "      <td>0.0</td>\n",
       "      <td>0.00</td>\n",
       "      <td>0.00</td>\n",
       "      <td>0.00</td>\n",
       "      <td>0.405465</td>\n",
       "    </tr>\n",
       "    <tr>\n",
       "      <th>4</th>\n",
       "      <td>23.752968</td>\n",
       "      <td>0</td>\n",
       "      <td>0.15</td>\n",
       "      <td>0.15</td>\n",
       "      <td>0.05</td>\n",
       "      <td>0.1</td>\n",
       "      <td>0.0</td>\n",
       "      <td>0.42</td>\n",
       "      <td>0.1</td>\n",
       "      <td>0.95</td>\n",
       "      <td>...</td>\n",
       "      <td>0.0</td>\n",
       "      <td>0.36</td>\n",
       "      <td>3.16</td>\n",
       "      <td>0.0</td>\n",
       "      <td>1.58</td>\n",
       "      <td>0.0</td>\n",
       "      <td>0.52</td>\n",
       "      <td>0.31</td>\n",
       "      <td>0.00</td>\n",
       "      <td>1.574639</td>\n",
       "    </tr>\n",
       "  </tbody>\n",
       "</table>\n",
       "<p>5 rows × 24 columns</p>\n",
       "</div>"
      ],
      "text/plain": [
       "           Y  A    V1    V2    V3   V4   V5    V6   V7    V8  ...  V13   V14  \\\n",
       "0  30.486999  0  0.00  0.00  0.00  0.0  0.0  0.00  0.0  0.00  ...  0.0  0.00   \n",
       "1  18.208417  0  0.00  0.00  0.00  0.0  0.0  0.00  0.0  1.40  ...  0.7  0.00   \n",
       "2  13.485040  0  0.00  0.00  0.00  0.0  0.0  0.00  0.0  0.00  ...  0.0  0.00   \n",
       "3  25.699678  1  2.38  0.00  0.00  0.0  0.0  0.00  0.0  0.00  ...  0.0  0.00   \n",
       "4  23.752968  0  0.15  0.15  0.05  0.1  0.0  0.42  0.1  0.95  ...  0.0  0.36   \n",
       "\n",
       "    V15  V16   V17  V18   V19   V20   V21       V22  \n",
       "0  0.00  0.0  0.00  0.0  0.00  0.00  9.09  1.149622  \n",
       "1  1.40  0.0  1.40  0.0  0.00  0.00  0.00  2.887702  \n",
       "2  3.57  0.0  0.00  0.0  0.00  0.00  0.00  0.000000  \n",
       "3  2.38  0.0  2.38  0.0  0.00  0.00  0.00  0.405465  \n",
       "4  3.16  0.0  1.58  0.0  0.52  0.31  0.00  1.574639  \n",
       "\n",
       "[5 rows x 24 columns]"
      ]
     },
     "execution_count": 7,
     "metadata": {},
     "output_type": "execute_result"
    }
   ],
   "source": [
    "dataset.head()"
   ]
  },
  {
   "cell_type": "markdown",
   "metadata": {},
   "source": [
    "The high-dimensional dataset has 2000 observations of 187 dimensions, while the low-dimensional dataset has 500 observations of 24 dimensions."
   ]
  },
  {
   "cell_type": "markdown",
   "metadata": {},
   "source": [
    "It is convenient to extract only the X portion, which is columns other than Y (treatment result) and A (binary treatment/control group)"
   ]
  },
  {
   "cell_type": "code",
   "execution_count": 8,
   "metadata": {},
   "outputs": [],
   "source": [
    "data_X = dataset.drop(['Y', 'A'], axis=1).copy()"
   ]
  },
  {
   "cell_type": "code",
   "execution_count": 9,
   "metadata": {},
   "outputs": [
    {
     "data": {
      "text/html": [
       "<div>\n",
       "<style scoped>\n",
       "    .dataframe tbody tr th:only-of-type {\n",
       "        vertical-align: middle;\n",
       "    }\n",
       "\n",
       "    .dataframe tbody tr th {\n",
       "        vertical-align: top;\n",
       "    }\n",
       "\n",
       "    .dataframe thead th {\n",
       "        text-align: right;\n",
       "    }\n",
       "</style>\n",
       "<table border=\"1\" class=\"dataframe\">\n",
       "  <thead>\n",
       "    <tr style=\"text-align: right;\">\n",
       "      <th></th>\n",
       "      <th>V1</th>\n",
       "      <th>V2</th>\n",
       "      <th>V3</th>\n",
       "      <th>V4</th>\n",
       "      <th>V5</th>\n",
       "      <th>V6</th>\n",
       "      <th>V7</th>\n",
       "      <th>V8</th>\n",
       "      <th>V9</th>\n",
       "      <th>V10</th>\n",
       "      <th>...</th>\n",
       "      <th>V13</th>\n",
       "      <th>V14</th>\n",
       "      <th>V15</th>\n",
       "      <th>V16</th>\n",
       "      <th>V17</th>\n",
       "      <th>V18</th>\n",
       "      <th>V19</th>\n",
       "      <th>V20</th>\n",
       "      <th>V21</th>\n",
       "      <th>V22</th>\n",
       "    </tr>\n",
       "  </thead>\n",
       "  <tbody>\n",
       "    <tr>\n",
       "      <th>0</th>\n",
       "      <td>0.00</td>\n",
       "      <td>0.00</td>\n",
       "      <td>0.00</td>\n",
       "      <td>0.0</td>\n",
       "      <td>0.0</td>\n",
       "      <td>0.00</td>\n",
       "      <td>0.0</td>\n",
       "      <td>0.00</td>\n",
       "      <td>0.00</td>\n",
       "      <td>0.00</td>\n",
       "      <td>...</td>\n",
       "      <td>0.0</td>\n",
       "      <td>0.00</td>\n",
       "      <td>0.00</td>\n",
       "      <td>0.0</td>\n",
       "      <td>0.00</td>\n",
       "      <td>0.0</td>\n",
       "      <td>0.00</td>\n",
       "      <td>0.00</td>\n",
       "      <td>9.09</td>\n",
       "      <td>1.149622</td>\n",
       "    </tr>\n",
       "    <tr>\n",
       "      <th>1</th>\n",
       "      <td>0.00</td>\n",
       "      <td>0.00</td>\n",
       "      <td>0.00</td>\n",
       "      <td>0.0</td>\n",
       "      <td>0.0</td>\n",
       "      <td>0.00</td>\n",
       "      <td>0.0</td>\n",
       "      <td>1.40</td>\n",
       "      <td>0.00</td>\n",
       "      <td>0.00</td>\n",
       "      <td>...</td>\n",
       "      <td>0.7</td>\n",
       "      <td>0.00</td>\n",
       "      <td>1.40</td>\n",
       "      <td>0.0</td>\n",
       "      <td>1.40</td>\n",
       "      <td>0.0</td>\n",
       "      <td>0.00</td>\n",
       "      <td>0.00</td>\n",
       "      <td>0.00</td>\n",
       "      <td>2.887702</td>\n",
       "    </tr>\n",
       "    <tr>\n",
       "      <th>2</th>\n",
       "      <td>0.00</td>\n",
       "      <td>0.00</td>\n",
       "      <td>0.00</td>\n",
       "      <td>0.0</td>\n",
       "      <td>0.0</td>\n",
       "      <td>0.00</td>\n",
       "      <td>0.0</td>\n",
       "      <td>0.00</td>\n",
       "      <td>0.00</td>\n",
       "      <td>0.00</td>\n",
       "      <td>...</td>\n",
       "      <td>0.0</td>\n",
       "      <td>0.00</td>\n",
       "      <td>3.57</td>\n",
       "      <td>0.0</td>\n",
       "      <td>0.00</td>\n",
       "      <td>0.0</td>\n",
       "      <td>0.00</td>\n",
       "      <td>0.00</td>\n",
       "      <td>0.00</td>\n",
       "      <td>0.000000</td>\n",
       "    </tr>\n",
       "    <tr>\n",
       "      <th>3</th>\n",
       "      <td>2.38</td>\n",
       "      <td>0.00</td>\n",
       "      <td>0.00</td>\n",
       "      <td>0.0</td>\n",
       "      <td>0.0</td>\n",
       "      <td>0.00</td>\n",
       "      <td>0.0</td>\n",
       "      <td>0.00</td>\n",
       "      <td>0.00</td>\n",
       "      <td>0.00</td>\n",
       "      <td>...</td>\n",
       "      <td>0.0</td>\n",
       "      <td>0.00</td>\n",
       "      <td>2.38</td>\n",
       "      <td>0.0</td>\n",
       "      <td>2.38</td>\n",
       "      <td>0.0</td>\n",
       "      <td>0.00</td>\n",
       "      <td>0.00</td>\n",
       "      <td>0.00</td>\n",
       "      <td>0.405465</td>\n",
       "    </tr>\n",
       "    <tr>\n",
       "      <th>4</th>\n",
       "      <td>0.15</td>\n",
       "      <td>0.15</td>\n",
       "      <td>0.05</td>\n",
       "      <td>0.1</td>\n",
       "      <td>0.0</td>\n",
       "      <td>0.42</td>\n",
       "      <td>0.1</td>\n",
       "      <td>0.95</td>\n",
       "      <td>0.42</td>\n",
       "      <td>0.05</td>\n",
       "      <td>...</td>\n",
       "      <td>0.0</td>\n",
       "      <td>0.36</td>\n",
       "      <td>3.16</td>\n",
       "      <td>0.0</td>\n",
       "      <td>1.58</td>\n",
       "      <td>0.0</td>\n",
       "      <td>0.52</td>\n",
       "      <td>0.31</td>\n",
       "      <td>0.00</td>\n",
       "      <td>1.574639</td>\n",
       "    </tr>\n",
       "  </tbody>\n",
       "</table>\n",
       "<p>5 rows × 22 columns</p>\n",
       "</div>"
      ],
      "text/plain": [
       "     V1    V2    V3   V4   V5    V6   V7    V8    V9   V10  ...  V13   V14  \\\n",
       "0  0.00  0.00  0.00  0.0  0.0  0.00  0.0  0.00  0.00  0.00  ...  0.0  0.00   \n",
       "1  0.00  0.00  0.00  0.0  0.0  0.00  0.0  1.40  0.00  0.00  ...  0.7  0.00   \n",
       "2  0.00  0.00  0.00  0.0  0.0  0.00  0.0  0.00  0.00  0.00  ...  0.0  0.00   \n",
       "3  2.38  0.00  0.00  0.0  0.0  0.00  0.0  0.00  0.00  0.00  ...  0.0  0.00   \n",
       "4  0.15  0.15  0.05  0.1  0.0  0.42  0.1  0.95  0.42  0.05  ...  0.0  0.36   \n",
       "\n",
       "    V15  V16   V17  V18   V19   V20   V21       V22  \n",
       "0  0.00  0.0  0.00  0.0  0.00  0.00  9.09  1.149622  \n",
       "1  1.40  0.0  1.40  0.0  0.00  0.00  0.00  2.887702  \n",
       "2  3.57  0.0  0.00  0.0  0.00  0.00  0.00  0.000000  \n",
       "3  2.38  0.0  2.38  0.0  0.00  0.00  0.00  0.405465  \n",
       "4  3.16  0.0  1.58  0.0  0.52  0.31  0.00  1.574639  \n",
       "\n",
       "[5 rows x 22 columns]"
      ]
     },
     "execution_count": 9,
     "metadata": {},
     "output_type": "execute_result"
    }
   ],
   "source": [
    "data_X.head()"
   ]
  },
  {
   "cell_type": "code",
   "execution_count": 10,
   "metadata": {},
   "outputs": [],
   "source": [
    "def plotComposition(dataset, reset_index=False):\n",
    "    plt.plot(dataset[dataset.A == 1].Y.reset_index(drop=True) \n",
    "             if reset_index \n",
    "             else dataset[dataset.A == 1].Y, 'o', label='Treatment')\n",
    "    plt.plot(dataset[dataset.A == 0].Y.reset_index(drop=True) \n",
    "             if reset_index \n",
    "             else dataset[dataset.A == 0].Y, 'ro', label='Control')\n",
    "    plt.title(dataset_name + \" Distribution\")\n",
    "    plt.ylabel(\"Y\")\n",
    "    plt.legend()\n",
    "    plt.show()"
   ]
  },
  {
   "cell_type": "code",
   "execution_count": 11,
   "metadata": {},
   "outputs": [
    {
     "data": {
      "image/png": "[encoded data removed]",
      "text/plain": [
       "<Figure size 432x288 with 1 Axes>"
      ]
     },
     "metadata": {
      "needs_background": "light"
     },
     "output_type": "display_data"
    }
   ],
   "source": [
    "plotComposition(dataset)"
   ]
  },
  {
   "cell_type": "markdown",
   "metadata": {},
   "source": [
    "## Step 2: Naive estimate of ATE"
   ]
  },
  {
   "cell_type": "markdown",
   "metadata": {},
   "source": [
    "Check the origianl ATE for both high and low dimension data without any steps and algorithms"
   ]
  },
  {
   "cell_type": "code",
   "execution_count": 12,
   "metadata": {},
   "outputs": [],
   "source": [
    "def naive_ATE(dataset):\n",
    "    return np.average(dataset[dataset.A == 1].Y) - np.average(dataset[dataset.A == 0].Y)"
   ]
  },
  {
   "cell_type": "code",
   "execution_count": 13,
   "metadata": {},
   "outputs": [
    {
     "name": "stdout",
     "output_type": "stream",
     "text": [
      "Naive ATE for high-dimensional data: -75.17133436876799\n",
      "Naive ATE for low-dimensional data: 10.602068661915688\n"
     ]
    }
   ],
   "source": [
    "print(\"Naive ATE for high-dimensional data:\", naive_ATE(highDim_dataset))\n",
    "print(\"Naive ATE for low-dimensional data:\", naive_ATE(lowDim_dataset))"
   ]
  },
  {
   "cell_type": "markdown",
   "metadata": {},
   "source": [
    "## Step 3: Data preprocessing\n"
   ]
  },
  {
   "cell_type": "markdown",
   "metadata": {},
   "source": [
    "### Are the data sets balanced?"
   ]
  },
  {
   "cell_type": "code",
   "execution_count": 14,
   "metadata": {},
   "outputs": [],
   "source": [
    "def checkComposition(dataset):\n",
    "    print(\"The dataset contains:\\n\",len(dataset[dataset.A == 1]), \"cases in Treatment group\\n\", \n",
    "          len(dataset[dataset.A == 0]), \"cases in Control group.\")\n",
    "    print(\"Treatment/Control ratio: {}/100\".format(round(len(dataset[dataset.A == 1])/len(dataset[dataset.A == 0])*100)))"
   ]
  },
  {
   "cell_type": "code",
   "execution_count": 15,
   "metadata": {
    "scrolled": true
   },
   "outputs": [
    {
     "name": "stdout",
     "output_type": "stream",
     "text": [
      "High-dimensional\n",
      "The dataset contains:\n",
      " 643 cases in Treatment group\n",
      " 1357 cases in Control group.\n",
      "Treatment/Control ratio: 47/100\n",
      "--------------------\n",
      "Low-dimensional\n",
      "The dataset contains:\n",
      " 106 cases in Treatment group\n",
      " 394 cases in Control group.\n",
      "Treatment/Control ratio: 27/100\n"
     ]
    }
   ],
   "source": [
    "print(\"High-dimensional\")\n",
    "checkComposition(highDim_dataset)\n",
    "print('-'*20)\n",
    "print(\"Low-dimensional\")\n",
    "checkComposition(lowDim_dataset)"
   ]
  },
  {
   "cell_type": "markdown",
   "metadata": {},
   "source": [
    "In this case, the high-dimensional data is slightly imbalanced, but acceptable. However, the low-dimensional data displays severer imbalance between groups. In any cases, one can use oversampling or smote to balance the data, which however may not be beneficial for some ATE estimation algorithms. "
   ]
  },
  {
   "cell_type": "markdown",
   "metadata": {},
   "source": [
    "### Oversampling to deal with the imbalanced data\n",
    "\n",
    "Resampling data is one of the most commonly preferred approaches to deal with an imbalanced dataset. We used oversampling the minority instead of undersampling the majority since undersampling removes instances from data that may be carrying important information.\n"
   ]
  },
  {
   "cell_type": "markdown",
   "metadata": {},
   "source": [
    "1. **Random Oversampling**: \n",
    "\n",
    "To randomly replicate the small sample to match the size of the larger sample.\n",
    "\n",
    "2. **SMOTE**: Synthetic Minority Oversampling Technique\n",
    "\n",
    "SMOTE generates synthetic samples from the minority class. This algorithm helps to overcome the overfitting problem posed by random oversampling. It focuses on the feature space to generate new instances with the help of interpolation between the positive instances that lie together.\n",
    "\n"
   ]
  },
  {
   "cell_type": "code",
   "execution_count": 16,
   "metadata": {},
   "outputs": [],
   "source": [
    "def Oversample(dataset):\n",
    "    ovs = RandomOverSampler(random_state = RANDOM_STATE)\n",
    "    x, y = ovs.fit_resample(dataset.loc[:, dataset.columns != 'A'], dataset.A)\n",
    "    x.insert(1, 'A', y)\n",
    "    return x"
   ]
  },
  {
   "cell_type": "code",
   "execution_count": 17,
   "metadata": {},
   "outputs": [
    {
     "name": "stdout",
     "output_type": "stream",
     "text": [
      "The dataset contains:\n",
      " 394 cases in Treatment group\n",
      " 394 cases in Control group.\n",
      "Treatment/Control ratio: 100/100\n"
     ]
    },
    {
     "data": {
      "image/png": "[encoded data removed]",
      "text/plain": [
       "<Figure size 432x288 with 1 Axes>"
      ]
     },
     "metadata": {
      "needs_background": "light"
     },
     "output_type": "display_data"
    }
   ],
   "source": [
    "dataset_oversampled = Oversample(dataset)\n",
    "\n",
    "checkComposition(dataset_oversampled)\n",
    "plotComposition(dataset_oversampled, reset_index=True)"
   ]
  },
  {
   "cell_type": "code",
   "execution_count": 18,
   "metadata": {},
   "outputs": [],
   "source": [
    "def SMOTE(dataset):\n",
    "    smk = SMOTETomek()\n",
    "    x, y = smk.fit_resample(dataset.loc[:, dataset.columns != 'A'], dataset.A)\n",
    "    x.insert(1, 'A', y)\n",
    "    return x"
   ]
  },
  {
   "cell_type": "code",
   "execution_count": 19,
   "metadata": {
    "scrolled": true
   },
   "outputs": [
    {
     "name": "stdout",
     "output_type": "stream",
     "text": [
      "The dataset contains:\n",
      " 384 cases in Treatment group\n",
      " 384 cases in Control group.\n",
      "Treatment/Control ratio: 100/100\n"
     ]
    },
    {
     "data": {
      "image/png": "[encoded data removed]",
      "text/plain": [
       "<Figure size 432x288 with 1 Axes>"
      ]
     },
     "metadata": {
      "needs_background": "light"
     },
     "output_type": "display_data"
    }
   ],
   "source": [
    "dataset_smote = SMOTE(dataset)\n",
    "\n",
    "checkComposition(dataset_smote)\n",
    "plotComposition(dataset_smote, reset_index=True)"
   ]
  },
  {
   "cell_type": "markdown",
   "metadata": {},
   "source": [
    "In summary, there are three dataset that can be used: orginial, oversampled, and SMOTE. For testing purpose, change the variable splitted in the beginning of the next section, instead of pasting them all into one notebook. "
   ]
  },
  {
   "cell_type": "markdown",
   "metadata": {},
   "source": [
    "## Step 4: Calculating the propensity score"
   ]
  },
  {
   "cell_type": "markdown",
   "metadata": {},
   "source": [
    "The propensity score is estimated by applying machine learning methods on the `X` variable to fit the label `A`. For this purpose (and this purpose only) the dataset is splitted into train and test set. "
   ]
  },
  {
   "cell_type": "markdown",
   "metadata": {},
   "source": [
    "### Split into train and test set"
   ]
  },
  {
   "cell_type": "markdown",
   "metadata": {},
   "source": [
    "We split the dataset into train and test with the porpotion of 20:80. We will use the train data to train the model and do the cross validation to avoid overfitting. Then use the test data to check our model"
   ]
  },
  {
   "cell_type": "code",
   "execution_count": 20,
   "metadata": {},
   "outputs": [],
   "source": [
    "def split_train_test(dataset, test_size=0.2):\n",
    "    X = np.array(dataset.drop(['Y', 'A'], axis=1))\n",
    "    y = np.array(dataset.Y)\n",
    "    A = np.array(dataset.A)\n",
    "    \n",
    "    idx_train, idx_test, y_train, y_test = train_test_split(range(X.shape[0]), y, test_size=0.2, random_state=RANDOM_STATE)\n",
    "    X_train = X[idx_train]\n",
    "    X_test = X[idx_test]\n",
    "    A_train = A[idx_train]\n",
    "    A_test = A[idx_test]\n",
    "    return X_train, X_test, y_train, y_test, A_train, A_test"
   ]
  },
  {
   "cell_type": "markdown",
   "metadata": {},
   "source": [
    "Update dataset name HERE to test the original, oversampled, SMOTE, or any new dataset. "
   ]
  },
  {
   "cell_type": "code",
   "execution_count": 21,
   "metadata": {},
   "outputs": [],
   "source": [
    "##############################################################################\n",
    "##############################################################################\n",
    "# Development choices include dataset, dataset_oversampled and dataset_smote\n",
    "\n",
    "X_train, X_test, y_train, y_test, A_train, A_test = split_train_test(dataset)"
   ]
  },
  {
   "cell_type": "markdown",
   "metadata": {},
   "source": [
    "### Propensity Score - Boosted Stumps"
   ]
  },
  {
   "cell_type": "markdown",
   "metadata": {},
   "source": [
    "In this notebook we use GBM and XGboost. For any choices of learner, it is desirable to perform cross validation and grid search for the best model. We then evaluate the model prediction on the test set. "
   ]
  },
  {
   "cell_type": "markdown",
   "metadata": {},
   "source": [
    "#### Gradient Boosting"
   ]
  },
  {
   "cell_type": "code",
   "execution_count": 22,
   "metadata": {},
   "outputs": [],
   "source": [
    "param_grid = {\n",
    "              'learning_rate': [0.1, 0.05, 0.01],\n",
    "              'max_depth': [2, 3, 5],\n",
    "              'min_samples_split': [2, 4],\n",
    "              'n_estimators': [5, 10, 15, 20],\n",
    "              'min_samples_leaf':[1, 3, 5]\n",
    "              }"
   ]
  },
  {
   "cell_type": "code",
   "execution_count": 23,
   "metadata": {},
   "outputs": [],
   "source": [
    "def grid_search(X:np.array, A:np.array, model, param_grid=param_grid, cv=10, print_step = True, sample_weight=None):\n",
    "    \"\"\"\n",
    "    Takes a baseline model and does grid search among parameters in the param_grid with cross validation.\n",
    "    Returns the model with best hyparameters after searching\n",
    "    \"\"\"\n",
    "    if sample_weight is None:\n",
    "        clf = GridSearchCV(model, param_grid, cv=cv, n_jobs=-1, scoring = 'roc_auc').fit(X, A)\n",
    "    else:\n",
    "        clf = GridSearchCV(model, param_grid, cv=cv, n_jobs=-1, scoring = 'roc_auc').fit(X, A, sample_weight = sample_weight)\n",
    "    print(\"Best accuracy: %0.3f\" % (clf.best_score_))\n",
    "    print()\n",
    "    print(\"Best parameters: %r\" % clf.best_params_)\n",
    "    print('-'*30)\n",
    "    if print_step:\n",
    "        means = clf.cv_results_['mean_test_score']\n",
    "        stds = clf.cv_results_['std_test_score']\n",
    "        for mean, std, params in zip(means, stds, clf.cv_results_['params']):\n",
    "            print(\"%0.3f (+/-%0.03f) for %r\" % (mean, std * 2, params))\n",
    "        print('-'*30)\n",
    "\n",
    "    return(model.set_params(**clf.best_params_))"
   ]
  },
  {
   "cell_type": "markdown",
   "metadata": {},
   "source": [
    "Running the cross validation takes a few minutes. Uncomment this cell for developement. "
   ]
  },
  {
   "cell_type": "code",
   "execution_count": 24,
   "metadata": {},
   "outputs": [],
   "source": [
    "# gbm = grid_search(\n",
    "#     X_train, A_train, model=GradientBoostingClassifier(random_state=RANDOM_STATE), \n",
    "#     param_grid=param_grid,\n",
    "#     print_step=True)"
   ]
  },
  {
   "cell_type": "markdown",
   "metadata": {},
   "source": [
    "A copy of best hyperparameters from grid search"
   ]
  },
  {
   "cell_type": "code",
   "execution_count": 25,
   "metadata": {},
   "outputs": [],
   "source": [
    "best_params = {'learning_rate': 0.1, 'max_depth': 5, 'min_samples_leaf': 1, 'min_samples_split': 3, 'min_samples_split': 4, 'n_estimators': 20}"
   ]
  },
  {
   "cell_type": "code",
   "execution_count": 26,
   "metadata": {},
   "outputs": [],
   "source": [
    "gbm = GradientBoostingClassifier(random_state=RANDOM_STATE).set_params(**best_params).fit(X_train, A_train)"
   ]
  },
  {
   "cell_type": "code",
   "execution_count": 27,
   "metadata": {},
   "outputs": [
    {
     "name": "stdout",
     "output_type": "stream",
     "text": [
      "0.8975\n",
      "0.81\n"
     ]
    }
   ],
   "source": [
    "print(gbm.score(X_train, A_train))\n",
    "print(gbm.score(X_test, A_test))"
   ]
  },
  {
   "cell_type": "code",
   "execution_count": 28,
   "metadata": {},
   "outputs": [],
   "source": [
    "# Predict propensity scores\n",
    "propensity_score_gbm = np.exp(gbm.predict_log_proba(dataset.iloc[:, 2:]))[:, 1]"
   ]
  },
  {
   "cell_type": "markdown",
   "metadata": {},
   "source": [
    "#### Weighted XGBoost"
   ]
  },
  {
   "cell_type": "code",
   "execution_count": 29,
   "metadata": {},
   "outputs": [],
   "source": [
    "param_grid_xgb = {\n",
    "    'objective':['binary:logistic', 'reg:squarederror'],\n",
    "    'n_estimators':[5, 10, 15, 20],\n",
    "    'min_child_weight': [1, 5, 10],\n",
    "    'gamma': [0.5, 1.0, 1.5],\n",
    "    'subsample': [0.3, 0.6, 0.8, 1.0],\n",
    "    'colsample_bytree': [0.6, 0.8],\n",
    "    'max_depth': [3, 4]\n",
    "    #'scale_pos_weight':[1, 2, 4]\n",
    "}"
   ]
  },
  {
   "cell_type": "markdown",
   "metadata": {},
   "source": [
    "Running the cross validation takes a few minutes. Uncomment this cell for developement. "
   ]
  },
  {
   "cell_type": "code",
   "execution_count": 30,
   "metadata": {},
   "outputs": [],
   "source": [
    "# xgb = grid_search(X_train, A_train, \n",
    "#             model=XGBClassifier(n_jobs=-1,random_state=RANDOM_STATE),\n",
    "#             param_grid = param_grid_xgb, \n",
    "#             print_step=True, \n",
    "#             cv=5\n",
    "#            )           "
   ]
  },
  {
   "cell_type": "markdown",
   "metadata": {},
   "source": [
    "A copy of best hyperparameters from grid search"
   ]
  },
  {
   "cell_type": "code",
   "execution_count": 31,
   "metadata": {},
   "outputs": [],
   "source": [
    "best_params_xgb = {'colsample_bytree': 0.8, 'gamma': 0.5, 'max_depth': 4, \n",
    "                   'min_child_weight': 1, 'n_estimators': 20,     \n",
    "                   'objective': 'reg:squarederror', 'subsample': 1.0}\n",
    "\n",
    "xgb = XGBClassifier(n_jobs=-1,random_state=RANDOM_STATE).set_params(**best_params_xgb).fit(X_train, A_train)"
   ]
  },
  {
   "cell_type": "code",
   "execution_count": 32,
   "metadata": {},
   "outputs": [
    {
     "name": "stdout",
     "output_type": "stream",
     "text": [
      "0.8775\n",
      "0.8\n"
     ]
    }
   ],
   "source": [
    "print(xgb.score(X_train, A_train))\n",
    "print(xgb.score(X_test, A_test))"
   ]
  },
  {
   "cell_type": "code",
   "execution_count": 33,
   "metadata": {},
   "outputs": [],
   "source": [
    "# Predict propensity scores\n",
    "propensity_score_xgb = xgb.predict_proba(np.array(dataset.iloc[:, 2:]))[:, 1]"
   ]
  },
  {
   "cell_type": "markdown",
   "metadata": {},
   "source": [
    "To summarize, we have obtained the propensity scores using GBM and XGBoost. These can now be used to calculate the ATE score. "
   ]
  },
  {
   "cell_type": "markdown",
   "metadata": {},
   "source": [
    "## Step 5: Extract relevant data for ATE calculation"
   ]
  },
  {
   "cell_type": "markdown",
   "metadata": {},
   "source": [
    "It is convenient to attach the newly constructed propensity score with `A` and `Y`. For the stratification, this is all required. However for regression method, `X` is also required to remove further confounding factors. "
   ]
  },
  {
   "cell_type": "code",
   "execution_count": 34,
   "metadata": {},
   "outputs": [],
   "source": [
    "def combine_data(ps, A, y):\n",
    "    \"\"\"\n",
    "    Combines propensity scores with A and y\n",
    "    \n",
    "    Returns a data frame with three columns\n",
    "    \"\"\"\n",
    "    data_combined = pd.DataFrame(\n",
    "        np.array([ps, A, y]).T,\n",
    "        columns=['e', 'A', 'Y']\n",
    "    )\n",
    "    return data_combined"
   ]
  },
  {
   "cell_type": "markdown",
   "metadata": {},
   "source": [
    "We summarized the selected models in the following pipleine"
   ]
  },
  {
   "cell_type": "code",
   "execution_count": 96,
   "metadata": {},
   "outputs": [],
   "source": [
    "def data_preparation_pipeline(dataset, resample=None, label=dataset_name, boost='GBM'):\n",
    "    \"\"\"\n",
    "    Each sampling method results in a different data size, a set of best \n",
    "    hyperparameters from grid search, and an array of sample weights. \n",
    "    This pipeline prepares a dataset, with the specified resampling method, \n",
    "    for the later ATE estimation.\n",
    "    \"\"\"\n",
    "    test_scores = []\n",
    "    params = []\n",
    "    weights =[]\n",
    "\n",
    "    if resample == None:\n",
    "        data = dataset\n",
    "    elif resample == 'over':\n",
    "        data = Oversample(dataset)\n",
    "    elif resample == 'smote':\n",
    "        data = SMOTE(dataset)\n",
    "    else:\n",
    "        print(\"Error: Invalid resampling method! Possible options include None, 'over' and 'smote'\")\n",
    "        \n",
    "    # Predict with GBM\n",
    "    if boost=='GBM':    \n",
    "        # A copy of the best hyperparameter candidates from grid search:\n",
    "        if label == 'Low-Dimensional Dataset':\n",
    "            gbm_params0 = {'learning_rate': 0.1, 'max_depth': 5, 'min_samples_leaf': 1, 'min_samples_split': 3, \n",
    "                         'min_samples_split': 4, 'n_estimators': 20}\n",
    "            gbm_params1 =  {'learning_rate': 0.05, 'max_depth': 2, 'min_samples_leaf': 3, 'min_samples_split': 2, 'n_estimators': 100}\n",
    "            gbm_params2 = {'learning_rate': 0.1, 'max_depth': 5, 'min_samples_leaf': 1, 'min_samples_split': 4, 'n_estimators': 100}\n",
    "        elif label == \"High-Dimensional Dataset\":\n",
    "            gbm_params0 = {'learning_rate': 0.1, 'max_depth': 5, 'min_samples_leaf': 3, 'min_samples_split': 2, 'n_estimators': 100}\n",
    "            gbm_params1 =  {'learning_rate': 0.05, 'max_depth': 2, 'min_samples_leaf': 3, 'min_samples_split': 2, 'n_estimators': 100}\n",
    "            gbm_params2 = {'learning_rate': 0.1, 'max_depth': 5, 'min_samples_leaf': 1, 'min_samples_split': 4, 'n_estimators': 100}\n",
    "        else:\n",
    "            print(\"Error: Invalid resampling method! Possible options include None, 'over' and 'smote'\")\n",
    "        #best_params3 = {'learning_rate': 0.01, 'max_depth': 3, 'min_samples_leaf': 5, 'min_samples_split': 2, 'n_estimators': 100}\n",
    "        #best_params4 = {'learning_rate': 0.01, 'max_depth': 3, 'min_samples_leaf': 1, 'min_samples_split': 2, 'n_estimators': 100}\n",
    "        params_list = [gbm_params0, gbm_params1, gbm_params2]#, best_params3, best_params4]\n",
    "        \n",
    "        X_train, X_test, y_train, y_test, A_train, A_test = split_train_test(data)\n",
    "        \n",
    "        for i in range(15,22):\n",
    "            # high-dimensional weights (the best weights after multiple trials)\n",
    "            sample_weights = np.zeros(len(A_train))\n",
    "            sample_weights[A_train == 0] = i\n",
    "            sample_weights[A_train == 1] = 20\n",
    "            \n",
    "            for p in params_list:\n",
    "                gbm = GradientBoostingClassifier().set_params(**p).fit(X_train, A_train,sample_weight=sample_weights)\n",
    "                #print(gbm.score(X_train, A_train), gbm.score(X_test, A_test))\n",
    "                test_scores.append(gbm.score(X_test, A_test))\n",
    "                params.append(p)\n",
    "                weights.append(sample_weights)\n",
    "            \n",
    "        best_ = params[test_scores.index(max(test_scores))]\n",
    "        gbm = GradientBoostingClassifier().set_params(**best_).fit(X_train, A_train,\n",
    "                                                                   sample_weight=weights[test_scores.index(max(test_scores))])\n",
    "        print(\"Train accuracy: \",gbm.score(X_train, A_train))\n",
    "        print(\"Test accuracy: \", gbm.score(X_test, A_test))\n",
    "        propensity_score_gbm = np.exp(gbm.predict_log_proba(data.iloc[:, 2:]))[:, 1]\n",
    "    \n",
    "        ps_data = combine_data(propensity_score_gbm, data.A, data.Y)\n",
    "    \n",
    "    # Predict with XGB\n",
    "    elif boost=='XGB':\n",
    "        best_params_xgb = {'colsample_bytree': 0.8, 'gamma': 0.5, 'max_depth': 4, \n",
    "                   'min_child_weight': 1, 'n_estimators': 20,     \n",
    "                   'objective': 'reg:squarederror', 'subsample': 1.0}\n",
    "\n",
    "        xgb = XGBClassifier(n_jobs=-1,random_state=RANDOM_STATE).set_params(**best_params_xgb).fit(X_train, A_train)\n",
    "        print(\"XGboost train accuracy: \",xgb.score(X_train, A_train))\n",
    "        print(\"XGboost test accuracy: \", xgb.score(X_test, A_test))\n",
    "        propensity_score_xgb = xgb.predict_proba(np.array(dataset.iloc[:, 2:]))[:, 1]\n",
    "        ps_data = combine_data(propensity_score_xgb, data.A, data.Y)\n",
    "        \n",
    "    else:\n",
    "        print(\"Error: Wrong boosting methods! Possible options include 'GBM' and 'XGB'\")\n",
    "        \n",
    "    X_data = data.drop(['Y', 'A'], axis=1)\n",
    "    return ps_data, X_data\n"
   ]
  },
  {
   "cell_type": "markdown",
   "metadata": {},
   "source": [
    "## Step 6: Calculating ATE with different algorithms"
   ]
  },
  {
   "cell_type": "markdown",
   "metadata": {},
   "source": [
    "### ATE Estimate - Stratification"
   ]
  },
  {
   "cell_type": "markdown",
   "metadata": {},
   "source": [
    "\n",
    "A common approach to estimate ATE using stratification based on propensity scores.\n",
    "\n",
    "$$ \n",
    "∆ˆS = \\sum_{j=1}^{k}(N_j / N)\\{N^{−1}_{1j} \\sum_{i=1}^{N} T_i*Y_i*I(e_i ∈ Q_j ) − N^{−1}_{0j}*\\sum^{N}_{i=1}(1 − T_i)Y_i*I(e_i ∈ Q_j ) \n",
    "$$\n",
    "\n",
    "where K is the number of strata, some literature have advocate to use quintiles (K=5). \n",
    "$Nj$ is the number of individuals in stratum j. $N_{1j}$ is the number of “treated” individuals in stratum `j`, while $N_{0j}$ is the number of “controlled” individuals in stratum `j`. $$Q_j = (q_{j−1}, q_{j}] $$ where $q_j$ is the jth sample quantile of the estimated\n",
    "propensity scores. (See Lunceford and Davidian (2004))"
   ]
  },
  {
   "cell_type": "code",
   "execution_count": 36,
   "metadata": {},
   "outputs": [],
   "source": [
    "def Stratify(ps_data:pd.DataFrame, k:int):\n",
    "    \n",
    "    data_copy = ps_data.copy()\n",
    "    \n",
    "    # rank to resolve duplicate edge cases\n",
    "    data_copy['bin'] = pd.qcut(\n",
    "        data_copy.e.rank(method='first'), k, labels=False\n",
    "    )\n",
    "    \n",
    "    return data_copy"
   ]
  },
  {
   "cell_type": "code",
   "execution_count": 37,
   "metadata": {},
   "outputs": [],
   "source": [
    "def Calculate_ATE_Strat(ps_data:pd.DataFrame, k:int):\n",
    "    \n",
    "    n = ps_data.shape[0]\n",
    "    \n",
    "    data_copy = Stratify(ps_data, k)\n",
    "    \n",
    "    # calculate ATE score\n",
    "    ATE = 0\n",
    "    for k_idx in range(k):\n",
    "        \n",
    "        # temporary data frame\n",
    "        Qj = data_copy[data_copy.bin == k_idx]\n",
    "        nj = Qj.shape[0]\n",
    "\n",
    "        treat_avg = np.average(Qj[Qj.A==1].Y) if Qj[Qj.A==1].shape[0] != 0 else 0\n",
    "        control_avg = np.average(Qj[Qj.A==0].Y) if Qj[Qj.A==0].shape[0] != 0 else 0\n",
    "        ATE += (nj/n) * ( treat_avg - control_avg )\n",
    "    \n",
    "    return ATE"
   ]
  },
  {
   "cell_type": "markdown",
   "metadata": {},
   "source": [
    "### ATE Estimate - Regression and Stratification + Regression Adjustment"
   ]
  },
  {
   "cell_type": "markdown",
   "metadata": {},
   "source": [
    "With regression adjustment, data for each bin is further corrected using regression on `X`, with level variable `A`. \n",
    "\n",
    "Note that setting k = 1 bin is equivalent to performing only regression estimation. \n"
   ]
  },
  {
   "cell_type": "code",
   "execution_count": 38,
   "metadata": {},
   "outputs": [],
   "source": [
    "def Calculate_ATE_StratRegrAdjusted_with_X(data:pd.DataFrame, X_data, k:int):\n",
    "    \n",
    "    n = data.shape[0]\n",
    "    \n",
    "    data_adjusted = pd.concat(\n",
    "        [Stratify(data, k), X_data.reset_index(drop=True)], axis=1)\n",
    "    \n",
    "    # calculate ATE score\n",
    "    ATE = 0\n",
    "    for k_idx in range(k):\n",
    "        \n",
    "        # temporary data frame\n",
    "        Qj = data_adjusted[data_adjusted.bin == k_idx]\n",
    "        nj = Qj.shape[0]\n",
    " \n",
    "        # Regression Adjusted Linearly, then Delta_j = alpha^Z_j\n",
    "        X = Qj.drop(['e', 'Y', 'bin'], axis=1)\n",
    "        y = Qj.Y\n",
    "        reg = LinearRegression().fit(X, y)\n",
    "        \n",
    "        ATE += reg.coef_[0]\n",
    "        \n",
    "    return ATE / k"
   ]
  },
  {
   "cell_type": "markdown",
   "metadata": {},
   "source": [
    "## Result summary"
   ]
  },
  {
   "cell_type": "code",
   "execution_count": 58,
   "metadata": {},
   "outputs": [],
   "source": [
    "summary_cols=[\"Model\", \"Data\", \"PS model\", \"Estimation time(s)\",\"Squared error\"]\n",
    "summary = pd.DataFrame(columns=summary_cols)"
   ]
  },
  {
   "cell_type": "code",
   "execution_count": 57,
   "metadata": {},
   "outputs": [],
   "source": [
    "row3= pd.DataFrame([[str('Strat'), str('oi'), 'GBM', \n",
    "                         1, round((1 - 1.111)**2,4)]], columns = summary_cols)\n",
    "summary = summary.append(row3)"
   ]
  },
  {
   "cell_type": "code",
   "execution_count": 59,
   "metadata": {},
   "outputs": [],
   "source": [
    "def estimation_summary(data:pd.DataFrame, data_X:pd.DataFrame, max_k:int, true_ATE=true_ATE, title=\"high\", resample=None):\n",
    "    \"\"\"\n",
    "    This function reads in data and returns best ATE estimation generated from the \n",
    "    most appropriate k value for each algorithm.\n",
    "    \n",
    "    inputs\n",
    "    -------\n",
    "    data: pd.DataFrame, columns are (e, Y, A)\n",
    "    data_X: pd.DataFrame, the set of X variables\n",
    "    max_k: int, the maximum k value used to calculate ATE\n",
    "    true_ATE: float, the true ATE score used to plot against estimations\n",
    "    title: str, a string used to label high/low-dimensional datasets in the plot. Possible values are \"high\" or \"low\"\n",
    "    \n",
    "    outputs\n",
    "    -------\n",
    "    strat: float, best ATE estimate by stratification\n",
    "    regadj: float, best ATE estimate by regression adjustment\n",
    "    combined: float, best ATE estimate by stratification + regression adjustment\n",
    "    log: pd.DataFrame, chunk of summary table\n",
    "    \n",
    "    \"\"\"\n",
    "    strat_results = [Calculate_ATE_Strat(data, i) for i in range(1, max_k+1)]\n",
    "    strat_reg_results = [Calculate_ATE_StratRegrAdjusted_with_X(data, data_X, i) for i in range(1, max_k+1)]\n",
    "    \n",
    "    error = [abs(strat_results[i] - true_ATE) for i in range(len(strat_results))]\n",
    "    best_k_strat = error.index(min(error))\n",
    "    #best_ATE_strat = strat_results[best_k_strat]\n",
    "    \n",
    "    error = [abs(strat_reg_results[i] - true_ATE) for i in range(len(strat_reg_results))]\n",
    "    best_k_strat_reg = error.index(min(error))\n",
    "    #best_ATE_strat_reg = strat_reg_results[best_k_strat_reg]\n",
    "    \n",
    "    start = time.time()\n",
    "    strat = Calculate_ATE_Strat(data, best_k_strat)\n",
    "    t_strat = time.time()-start\n",
    "    print(\"Time for calculating ATE with stratification: {}s\".format(round(t_strat, 4)))\n",
    "    \n",
    "    start = time.time()\n",
    "    regadj = Calculate_ATE_StratRegrAdjusted_with_X(data, data_X, 1)\n",
    "    t_regadj = time.time()-start\n",
    "    print(\"Time for calculating ATE with regression adjustment: {}s\".format(round(t_regadj, 4)))\n",
    "    \n",
    "    start = time.time()\n",
    "    combined = Calculate_ATE_StratRegrAdjusted_with_X(data, data_X, best_k_strat_reg)\n",
    "    t_combined = time.time()-start\n",
    "    print(\"Time for calculating ATE with stratification + regression adjustment: {}s\".format(round(t_combined, 4)))\n",
    "    \n",
    "    print(\"Estimated ATE by stratification with k = {}: {}\".format(best_k_strat+1, strat))\n",
    "    print(\"Estimated ATE by regression adjustment: {}\".format(regadj))\n",
    "    print(\"Estimated ATE by stratification + regression adjustment with k = {}: {}\".format(best_k_strat_reg+1, combined))\n",
    "    \n",
    "    # Add results to summary\n",
    "    log = pd.DataFrame(columns=summary_cols)\n",
    "    resample_str = resample if resample != None else ''\n",
    "    row1= pd.DataFrame([[str('Stratification (K={})'.format(best_k_strat+1)), str(title+'-dim'+resample_str), 'GBM', \n",
    "                         t_strat, round((strat-true_ATE)**2,4)]], columns = summary_cols)\n",
    "    log = log.append(row1)\n",
    "    row2= pd.DataFrame([['Regression Adjustment', str(title+'-dim'+resample_str), 'GBM', \n",
    "                         t_regadj, round((regadj - true_ATE)**2,4)]], columns = summary_cols)\n",
    "    log = log.append(row2)\n",
    "    row3= pd.DataFrame([[str('Strat. + Reg. Adj. (K={})'.format(best_k_strat_reg+1)), str(title+'-dim'+resample_str), 'GBM', \n",
    "                         t_combined, round((combined - true_ATE)**2,4)]], columns = summary_cols)\n",
    "    log = log.append(row3)\n",
    "    \n",
    "    \n",
    "    # Plot: \n",
    "    plt.figure(figsize=(10,6))\n",
    "    plt.plot(range(1,max_k+1), strat_results, marker='o',\n",
    "                label = 'ATE estimate by stratification')\n",
    "    plt.plot(range(1,max_k+1), strat_reg_results, marker='o',\n",
    "                label = 'ATE estimate by strat + reg_adj')\n",
    "    plt.scatter(1, regadj, s=150, label='ATE estimate by regression adjustment',alpha=1, marker='o',c='green')\n",
    "\n",
    "    plt.hlines(true_ATE, 1, 10, colors='red', linestyles='dashed', label='ATE true')\n",
    "    #plt.hlines(naive_ATE(data), 1, 10, colors='grey', linestyles='dashed', label='ATE Naive')\n",
    "    plt.title(\"The {}-dimensional dataset\\nTrue ATE vs. Estimated ATE\".format(title))\n",
    "    plt.xlabel(\"Number of strata (k)\")\n",
    "    plt.ylabel(\"ATE\")\n",
    "    plt.legend()\n",
    "    plt.show()\n",
    "    \n",
    "    return strat, regadj, combined, log"
   ]
  },
  {
   "cell_type": "markdown",
   "metadata": {},
   "source": [
    "### High dimensional dataset"
   ]
  },
  {
   "cell_type": "code",
   "execution_count": 48,
   "metadata": {},
   "outputs": [],
   "source": [
    "dataset = highDim_dataset.copy()\n",
    "dataset_name = \"High-Dimensional Dataset\"\n",
    "true_ATE = high_true_ATE"
   ]
  },
  {
   "cell_type": "code",
   "execution_count": 60,
   "metadata": {},
   "outputs": [
    {
     "name": "stdout",
     "output_type": "stream",
     "text": [
      "Train accuracy:  0.743125\n",
      "Test accuracy:  0.72\n",
      "Time for calculating ATE with stratification: 0.01s\n",
      "Time for calculating ATE with regression adjustment: 0.025s\n",
      "Time for calculating ATE with stratification + regression adjustment: 0.035s\n",
      "Estimated ATE by stratification with k = 5: -55.45518853439334\n",
      "Estimated ATE by regression adjustment: -59.365443691851674\n",
      "Estimated ATE by stratification + regression adjustment with k = 3: -55.6714004280003\n"
     ]
    },
    {
     "data": {
      "image/png": "[encoded data removed]",
      "text/plain": [
       "<Figure size 720x432 with 1 Axes>"
      ]
     },
     "metadata": {
      "needs_background": "light"
     },
     "output_type": "display_data"
    }
   ],
   "source": [
    "data_for_ATE, X_data = data_preparation_pipeline(dataset, resample=None, label=dataset_name)\n",
    "strat, regadj, combined, log = estimation_summary(data_for_ATE, X_data, max_k=10, true_ATE=true_ATE, \n",
    "                                                  title=\"high\", resample=None)\n",
    "summary = summary.append(log)"
   ]
  },
  {
   "cell_type": "code",
   "execution_count": 62,
   "metadata": {},
   "outputs": [
    {
     "name": "stdout",
     "output_type": "stream",
     "text": [
      "Train accuracy:  0.9474896361123906\n",
      "Test accuracy:  0.7697974217311234\n",
      "Time for calculating ATE with stratification: 0.019s\n",
      "Time for calculating ATE with regression adjustment: 0.033s\n",
      "Time for calculating ATE with stratification + regression adjustment: 0.039s\n",
      "Estimated ATE by stratification with k = 8: -53.20953890728808\n",
      "Estimated ATE by regression adjustment: -59.4221983041025\n",
      "Estimated ATE by stratification + regression adjustment with k = 3: -53.38779108748621\n"
     ]
    },
    {
     "data": {
      "image/png": "[encoded data removed]",
      "text/plain": [
       "<Figure size 720x432 with 1 Axes>"
      ]
     },
     "metadata": {
      "needs_background": "light"
     },
     "output_type": "display_data"
    }
   ],
   "source": [
    "data_for_ATE, X_data = data_preparation_pipeline(dataset, resample='over', label=dataset_name)\n",
    "strat_ovr, regadj_ovr, combined_ovr, log = estimation_summary(data_for_ATE, X_data, max_k=8, true_ATE=true_ATE, \n",
    "                                                              title=\"high\", resample='(oversampled)')\n",
    "summary = summary.append(log)"
   ]
  },
  {
   "cell_type": "code",
   "execution_count": 63,
   "metadata": {
    "scrolled": true
   },
   "outputs": [
    {
     "name": "stdout",
     "output_type": "stream",
     "text": [
      "Train accuracy:  0.9657437822618489\n",
      "Test accuracy:  0.7936210131332082\n",
      "Time for calculating ATE with stratification: 0.007s\n",
      "Time for calculating ATE with regression adjustment: 0.052s\n",
      "Time for calculating ATE with stratification + regression adjustment: 0.056s\n",
      "Estimated ATE by stratification with k = 2: -73.50714563475833\n",
      "Estimated ATE by regression adjustment: -57.24814374092138\n",
      "Estimated ATE by stratification + regression adjustment with k = 3: -59.01337892549398\n"
     ]
    },
    {
     "data": {
      "image/png": "[encoded data removed]",
      "text/plain": [
       "<Figure size 720x432 with 1 Axes>"
      ]
     },
     "metadata": {
      "needs_background": "light"
     },
     "output_type": "display_data"
    }
   ],
   "source": [
    "data_for_ATE, X_data = data_preparation_pipeline(dataset, resample='smote', label=dataset_name)\n",
    "strat_smt, regadj_smt, combined_smt, log = estimation_summary(data_for_ATE, X_data, max_k=7, true_ATE=true_ATE, \n",
    "                                                         title=\"high\", resample='(SMOTE)')\n",
    "summary = summary.append(log)"
   ]
  },
  {
   "cell_type": "markdown",
   "metadata": {},
   "source": [
    "**Note: The ATE estimates would suddenly get far off when we increased the number of strata further, so here we only plot reasonable K values.**"
   ]
  },
  {
   "cell_type": "markdown",
   "metadata": {},
   "source": [
    "### Low dimensional dataset"
   ]
  },
  {
   "cell_type": "code",
   "execution_count": 65,
   "metadata": {},
   "outputs": [],
   "source": [
    "dataset = lowDim_dataset.copy()\n",
    "dataset_name = \"Low-Dimensional Dataset\"\n",
    "true_ATE = low_true_ATE"
   ]
  },
  {
   "cell_type": "code",
   "execution_count": 66,
   "metadata": {},
   "outputs": [
    {
     "name": "stdout",
     "output_type": "stream",
     "text": [
      "Train accuracy:  0.875\n",
      "Test accuracy:  0.78\n",
      "Time for calculating ATE with stratification: 0.006s\n",
      "Time for calculating ATE with regression adjustment: 0.005s\n",
      "Time for calculating ATE with stratification + regression adjustment: 0.017s\n",
      "Estimated ATE by stratification with k = 4: 3.010356881708587\n",
      "Estimated ATE by regression adjustment: 2.472655707042314\n",
      "Estimated ATE by stratification + regression adjustment with k = 8: 2.056348929413826\n"
     ]
    },
    {
     "data": {
      "image/png": "[encoded data removed]",
      "text/plain": [
       "<Figure size 720x432 with 1 Axes>"
      ]
     },
     "metadata": {
      "needs_background": "light"
     },
     "output_type": "display_data"
    }
   ],
   "source": [
    "data_for_ATE, X_data = data_preparation_pipeline(dataset, resample=None, label=dataset_name)\n",
    "strat, regadj, combined,log = estimation_summary(data_for_ATE, X_data, max_k=10, true_ATE=true_ATE, \n",
    "                                                 title=\"low\", resample=None)\n",
    "summary = summary.append(log)"
   ]
  },
  {
   "cell_type": "code",
   "execution_count": 68,
   "metadata": {},
   "outputs": [
    {
     "name": "stdout",
     "output_type": "stream",
     "text": [
      "Train accuracy:  0.9698412698412698\n",
      "Test accuracy:  0.8734177215189873\n",
      "Time for calculating ATE with stratification: 0.015s\n",
      "Time for calculating ATE with regression adjustment: 0.005s\n",
      "Time for calculating ATE with stratification + regression adjustment: 0.024s\n",
      "Estimated ATE by stratification with k = 7: -8.083107628211868\n",
      "Estimated ATE by regression adjustment: 2.3358788019507717\n",
      "Estimated ATE by stratification + regression adjustment with k = 10: 1.8177414082721528\n"
     ]
    },
    {
     "data": {
      "image/png": "[encoded data removed]",
      "text/plain": [
       "<Figure size 720x432 with 1 Axes>"
      ]
     },
     "metadata": {
      "needs_background": "light"
     },
     "output_type": "display_data"
    }
   ],
   "source": [
    "data_for_ATE, X_data = data_preparation_pipeline(dataset, resample='over', label=dataset_name)\n",
    "strat, regadj, combined,log = estimation_summary(data_for_ATE, X_data, max_k=10, true_ATE=true_ATE, \n",
    "                                                 title=\"low\", resample='(oversampled)')\n",
    "summary = summary.append(log)"
   ]
  },
  {
   "cell_type": "code",
   "execution_count": 69,
   "metadata": {},
   "outputs": [
    {
     "name": "stdout",
     "output_type": "stream",
     "text": [
      "Train accuracy:  0.9837133550488599\n",
      "Test accuracy:  0.8116883116883117\n",
      "Time for calculating ATE with stratification: 0.01s\n",
      "Time for calculating ATE with regression adjustment: 0.005s\n",
      "Time for calculating ATE with stratification + regression adjustment: 0.005s\n",
      "Estimated ATE by stratification with k = 5: 5.148730432227882\n",
      "Estimated ATE by regression adjustment: 2.3849368617933897\n",
      "Estimated ATE by stratification + regression adjustment with k = 2: 2.3849368617933897\n"
     ]
    },
    {
     "data": {
      "image/png": "[encoded data removed]",
      "text/plain": [
       "<Figure size 720x432 with 1 Axes>"
      ]
     },
     "metadata": {
      "needs_background": "light"
     },
     "output_type": "display_data"
    }
   ],
   "source": [
    "data_for_ATE, X_data = data_preparation_pipeline(dataset, resample='smote', label=dataset_name)\n",
    "strat, regadj, combined, log = estimation_summary(data_for_ATE, X_data, max_k=10, true_ATE=true_ATE, \n",
    "                                             title=\"low\", resample='(SMOTE)')\n",
    "summary = summary.append(log)"
   ]
  },
  {
   "cell_type": "code",
   "execution_count": 90,
   "metadata": {
    "scrolled": true
   },
   "outputs": [
    {
     "data": {
      "text/html": [
       "<div>\n",
       "<style scoped>\n",
       "    .dataframe tbody tr th:only-of-type {\n",
       "        vertical-align: middle;\n",
       "    }\n",
       "\n",
       "    .dataframe tbody tr th {\n",
       "        vertical-align: top;\n",
       "    }\n",
       "\n",
       "    .dataframe thead th {\n",
       "        text-align: right;\n",
       "    }\n",
       "</style>\n",
       "<table border=\"1\" class=\"dataframe\">\n",
       "  <thead>\n",
       "    <tr style=\"text-align: right;\">\n",
       "      <th></th>\n",
       "      <th>Model</th>\n",
       "      <th>Data</th>\n",
       "      <th>PS model</th>\n",
       "      <th>Estimation time(s)</th>\n",
       "      <th>Squared error</th>\n",
       "    </tr>\n",
       "  </thead>\n",
       "  <tbody>\n",
       "    <tr>\n",
       "      <th>0</th>\n",
       "      <td>Stratification (K=5)</td>\n",
       "      <td>high-dim</td>\n",
       "      <td>GBM</td>\n",
       "      <td>0.010000</td>\n",
       "      <td>0.3593</td>\n",
       "    </tr>\n",
       "    <tr>\n",
       "      <th>1</th>\n",
       "      <td>Regression Adjustment</td>\n",
       "      <td>high-dim</td>\n",
       "      <td>GBM</td>\n",
       "      <td>0.025001</td>\n",
       "      <td>20.3369</td>\n",
       "    </tr>\n",
       "    <tr>\n",
       "      <th>2</th>\n",
       "      <td>Strat. + Reg. Adj. (K=3)</td>\n",
       "      <td>high-dim</td>\n",
       "      <td>GBM</td>\n",
       "      <td>0.035000</td>\n",
       "      <td>0.6652</td>\n",
       "    </tr>\n",
       "    <tr>\n",
       "      <th>3</th>\n",
       "      <td>Stratification (K=8)</td>\n",
       "      <td>high-dim(oversampled)</td>\n",
       "      <td>GBM</td>\n",
       "      <td>0.018966</td>\n",
       "      <td>2.7102</td>\n",
       "    </tr>\n",
       "    <tr>\n",
       "      <th>4</th>\n",
       "      <td>Regression Adjustment</td>\n",
       "      <td>high-dim(oversampled)</td>\n",
       "      <td>GBM</td>\n",
       "      <td>0.033000</td>\n",
       "      <td>20.8520</td>\n",
       "    </tr>\n",
       "    <tr>\n",
       "      <th>5</th>\n",
       "      <td>Strat. + Reg. Adj. (K=3)</td>\n",
       "      <td>high-dim(oversampled)</td>\n",
       "      <td>GBM</td>\n",
       "      <td>0.039000</td>\n",
       "      <td>2.1551</td>\n",
       "    </tr>\n",
       "    <tr>\n",
       "      <th>6</th>\n",
       "      <td>Stratification (K=2)</td>\n",
       "      <td>high-dim(SMOTE)</td>\n",
       "      <td>GBM</td>\n",
       "      <td>0.007003</td>\n",
       "      <td>347.8727</td>\n",
       "    </tr>\n",
       "    <tr>\n",
       "      <th>7</th>\n",
       "      <td>Regression Adjustment</td>\n",
       "      <td>high-dim(SMOTE)</td>\n",
       "      <td>GBM</td>\n",
       "      <td>0.051961</td>\n",
       "      <td>5.7233</td>\n",
       "    </tr>\n",
       "    <tr>\n",
       "      <th>8</th>\n",
       "      <td>Strat. + Reg. Adj. (K=3)</td>\n",
       "      <td>high-dim(SMOTE)</td>\n",
       "      <td>GBM</td>\n",
       "      <td>0.056000</td>\n",
       "      <td>17.2855</td>\n",
       "    </tr>\n",
       "    <tr>\n",
       "      <th>9</th>\n",
       "      <td>Stratification (K=4)</td>\n",
       "      <td>low-dim</td>\n",
       "      <td>GBM</td>\n",
       "      <td>0.006000</td>\n",
       "      <td>0.8469</td>\n",
       "    </tr>\n",
       "    <tr>\n",
       "      <th>10</th>\n",
       "      <td>Regression Adjustment</td>\n",
       "      <td>low-dim</td>\n",
       "      <td>GBM</td>\n",
       "      <td>0.005000</td>\n",
       "      <td>0.1463</td>\n",
       "    </tr>\n",
       "    <tr>\n",
       "      <th>11</th>\n",
       "      <td>Strat. + Reg. Adj. (K=8)</td>\n",
       "      <td>low-dim</td>\n",
       "      <td>GBM</td>\n",
       "      <td>0.017000</td>\n",
       "      <td>0.0011</td>\n",
       "    </tr>\n",
       "    <tr>\n",
       "      <th>12</th>\n",
       "      <td>Stratification (K=7)</td>\n",
       "      <td>low-dim(oversampled)</td>\n",
       "      <td>GBM</td>\n",
       "      <td>0.014997</td>\n",
       "      <td>103.4942</td>\n",
       "    </tr>\n",
       "    <tr>\n",
       "      <th>13</th>\n",
       "      <td>Regression Adjustment</td>\n",
       "      <td>low-dim(oversampled)</td>\n",
       "      <td>GBM</td>\n",
       "      <td>0.005000</td>\n",
       "      <td>0.0604</td>\n",
       "    </tr>\n",
       "    <tr>\n",
       "      <th>14</th>\n",
       "      <td>Strat. + Reg. Adj. (K=10)</td>\n",
       "      <td>low-dim(oversampled)</td>\n",
       "      <td>GBM</td>\n",
       "      <td>0.024001</td>\n",
       "      <td>0.0742</td>\n",
       "    </tr>\n",
       "    <tr>\n",
       "      <th>15</th>\n",
       "      <td>Stratification (K=5)</td>\n",
       "      <td>low-dim(SMOTE)</td>\n",
       "      <td>GBM</td>\n",
       "      <td>0.009999</td>\n",
       "      <td>9.3552</td>\n",
       "    </tr>\n",
       "    <tr>\n",
       "      <th>16</th>\n",
       "      <td>Regression Adjustment</td>\n",
       "      <td>low-dim(SMOTE)</td>\n",
       "      <td>GBM</td>\n",
       "      <td>0.005002</td>\n",
       "      <td>0.0869</td>\n",
       "    </tr>\n",
       "    <tr>\n",
       "      <th>17</th>\n",
       "      <td>Strat. + Reg. Adj. (K=2)</td>\n",
       "      <td>low-dim(SMOTE)</td>\n",
       "      <td>GBM</td>\n",
       "      <td>0.004999</td>\n",
       "      <td>0.0869</td>\n",
       "    </tr>\n",
       "  </tbody>\n",
       "</table>\n",
       "</div>"
      ],
      "text/plain": [
       "                        Model                   Data PS model  \\\n",
       "0        Stratification (K=5)               high-dim      GBM   \n",
       "1       Regression Adjustment               high-dim      GBM   \n",
       "2    Strat. + Reg. Adj. (K=3)               high-dim      GBM   \n",
       "3        Stratification (K=8)  high-dim(oversampled)      GBM   \n",
       "4       Regression Adjustment  high-dim(oversampled)      GBM   \n",
       "5    Strat. + Reg. Adj. (K=3)  high-dim(oversampled)      GBM   \n",
       "6        Stratification (K=2)        high-dim(SMOTE)      GBM   \n",
       "7       Regression Adjustment        high-dim(SMOTE)      GBM   \n",
       "8    Strat. + Reg. Adj. (K=3)        high-dim(SMOTE)      GBM   \n",
       "9        Stratification (K=4)                low-dim      GBM   \n",
       "10      Regression Adjustment                low-dim      GBM   \n",
       "11   Strat. + Reg. Adj. (K=8)                low-dim      GBM   \n",
       "12       Stratification (K=7)   low-dim(oversampled)      GBM   \n",
       "13      Regression Adjustment   low-dim(oversampled)      GBM   \n",
       "14  Strat. + Reg. Adj. (K=10)   low-dim(oversampled)      GBM   \n",
       "15       Stratification (K=5)         low-dim(SMOTE)      GBM   \n",
       "16      Regression Adjustment         low-dim(SMOTE)      GBM   \n",
       "17   Strat. + Reg. Adj. (K=2)         low-dim(SMOTE)      GBM   \n",
       "\n",
       "    Estimation time(s)  Squared error  \n",
       "0             0.010000         0.3593  \n",
       "1             0.025001        20.3369  \n",
       "2             0.035000         0.6652  \n",
       "3             0.018966         2.7102  \n",
       "4             0.033000        20.8520  \n",
       "5             0.039000         2.1551  \n",
       "6             0.007003       347.8727  \n",
       "7             0.051961         5.7233  \n",
       "8             0.056000        17.2855  \n",
       "9             0.006000         0.8469  \n",
       "10            0.005000         0.1463  \n",
       "11            0.017000         0.0011  \n",
       "12            0.014997       103.4942  \n",
       "13            0.005000         0.0604  \n",
       "14            0.024001         0.0742  \n",
       "15            0.009999         9.3552  \n",
       "16            0.005002         0.0869  \n",
       "17            0.004999         0.0869  "
      ]
     },
     "execution_count": 90,
     "metadata": {},
     "output_type": "execute_result"
    }
   ],
   "source": [
    "summary = summary.reset_index().drop(['index'], axis=1)\n",
    "summary.to_csv('../output/summary.csv', index=False)"
   ]
  },
  {
   "cell_type": "markdown",
   "metadata": {},
   "source": [
    "## Conclusion and recommendations\n",
    "\n",
    "Among three algorithms, both **stratification** and **stratification with regression adjustment** are flexible which enable us to choose a specified k that fits the dataset better, whereas **regression adjustment** is fixed and less flexible.\n",
    "\n",
    "Considering the estimation accuracy, for the low-dimensional dataset, **stratification with regression adjustment** gets the most accurate estimate. For the high-dimensional dataset, **stratification** achieves the best ATE estimate closest to the true ATE by setting k = 5\n",
    "\n",
    "For time complexity, **stratification with regression adjustment** is generally the lowest when estimating ATE. **Regression adjustment** works the fastest when the dataset has low dimensions, but when the dataset increases in its dimensionality, **Regression adjustment** slows down and **stratification** becomes faster.\n",
    "\n",
    "We also discussed the effects of resampling on the model performance, ......................not finished (not obvious improvements cuz gbm itself is quite robust to imbalanced datasets?)\n",
    "\n",
    "Finally, as our recommendations, .........................................not finished"
   ]
  },
  {
   "cell_type": "code",
   "execution_count": 94,
   "metadata": {},
   "outputs": [
    {
     "data": {
      "text/html": [
       "<div>\n",
       "<style scoped>\n",
       "    .dataframe tbody tr th:only-of-type {\n",
       "        vertical-align: middle;\n",
       "    }\n",
       "\n",
       "    .dataframe tbody tr th {\n",
       "        vertical-align: top;\n",
       "    }\n",
       "\n",
       "    .dataframe thead th {\n",
       "        text-align: right;\n",
       "    }\n",
       "</style>\n",
       "<table border=\"1\" class=\"dataframe\">\n",
       "  <thead>\n",
       "    <tr style=\"text-align: right;\">\n",
       "      <th></th>\n",
       "      <th>Model</th>\n",
       "      <th>Data</th>\n",
       "      <th>PS model</th>\n",
       "      <th>Estimation time(s)</th>\n",
       "      <th>Squared error</th>\n",
       "    </tr>\n",
       "  </thead>\n",
       "  <tbody>\n",
       "    <tr>\n",
       "      <th>11</th>\n",
       "      <td>Strat. + Reg. Adj. (K=8)</td>\n",
       "      <td>low-dim</td>\n",
       "      <td>GBM</td>\n",
       "      <td>0.017000</td>\n",
       "      <td>0.0011</td>\n",
       "    </tr>\n",
       "    <tr>\n",
       "      <th>13</th>\n",
       "      <td>Regression Adjustment</td>\n",
       "      <td>low-dim(oversampled)</td>\n",
       "      <td>GBM</td>\n",
       "      <td>0.005000</td>\n",
       "      <td>0.0604</td>\n",
       "    </tr>\n",
       "    <tr>\n",
       "      <th>14</th>\n",
       "      <td>Strat. + Reg. Adj. (K=10)</td>\n",
       "      <td>low-dim(oversampled)</td>\n",
       "      <td>GBM</td>\n",
       "      <td>0.024001</td>\n",
       "      <td>0.0742</td>\n",
       "    </tr>\n",
       "    <tr>\n",
       "      <th>17</th>\n",
       "      <td>Strat. + Reg. Adj. (K=2)</td>\n",
       "      <td>low-dim(SMOTE)</td>\n",
       "      <td>GBM</td>\n",
       "      <td>0.004999</td>\n",
       "      <td>0.0869</td>\n",
       "    </tr>\n",
       "    <tr>\n",
       "      <th>16</th>\n",
       "      <td>Regression Adjustment</td>\n",
       "      <td>low-dim(SMOTE)</td>\n",
       "      <td>GBM</td>\n",
       "      <td>0.005002</td>\n",
       "      <td>0.0869</td>\n",
       "    </tr>\n",
       "    <tr>\n",
       "      <th>10</th>\n",
       "      <td>Regression Adjustment</td>\n",
       "      <td>low-dim</td>\n",
       "      <td>GBM</td>\n",
       "      <td>0.005000</td>\n",
       "      <td>0.1463</td>\n",
       "    </tr>\n",
       "    <tr>\n",
       "      <th>0</th>\n",
       "      <td>Stratification (K=5)</td>\n",
       "      <td>high-dim</td>\n",
       "      <td>GBM</td>\n",
       "      <td>0.010000</td>\n",
       "      <td>0.3593</td>\n",
       "    </tr>\n",
       "    <tr>\n",
       "      <th>2</th>\n",
       "      <td>Strat. + Reg. Adj. (K=3)</td>\n",
       "      <td>high-dim</td>\n",
       "      <td>GBM</td>\n",
       "      <td>0.035000</td>\n",
       "      <td>0.6652</td>\n",
       "    </tr>\n",
       "    <tr>\n",
       "      <th>9</th>\n",
       "      <td>Stratification (K=4)</td>\n",
       "      <td>low-dim</td>\n",
       "      <td>GBM</td>\n",
       "      <td>0.006000</td>\n",
       "      <td>0.8469</td>\n",
       "    </tr>\n",
       "    <tr>\n",
       "      <th>5</th>\n",
       "      <td>Strat. + Reg. Adj. (K=3)</td>\n",
       "      <td>high-dim(oversampled)</td>\n",
       "      <td>GBM</td>\n",
       "      <td>0.039000</td>\n",
       "      <td>2.1551</td>\n",
       "    </tr>\n",
       "    <tr>\n",
       "      <th>3</th>\n",
       "      <td>Stratification (K=8)</td>\n",
       "      <td>high-dim(oversampled)</td>\n",
       "      <td>GBM</td>\n",
       "      <td>0.018966</td>\n",
       "      <td>2.7102</td>\n",
       "    </tr>\n",
       "    <tr>\n",
       "      <th>7</th>\n",
       "      <td>Regression Adjustment</td>\n",
       "      <td>high-dim(SMOTE)</td>\n",
       "      <td>GBM</td>\n",
       "      <td>0.051961</td>\n",
       "      <td>5.7233</td>\n",
       "    </tr>\n",
       "    <tr>\n",
       "      <th>15</th>\n",
       "      <td>Stratification (K=5)</td>\n",
       "      <td>low-dim(SMOTE)</td>\n",
       "      <td>GBM</td>\n",
       "      <td>0.009999</td>\n",
       "      <td>9.3552</td>\n",
       "    </tr>\n",
       "    <tr>\n",
       "      <th>8</th>\n",
       "      <td>Strat. + Reg. Adj. (K=3)</td>\n",
       "      <td>high-dim(SMOTE)</td>\n",
       "      <td>GBM</td>\n",
       "      <td>0.056000</td>\n",
       "      <td>17.2855</td>\n",
       "    </tr>\n",
       "    <tr>\n",
       "      <th>1</th>\n",
       "      <td>Regression Adjustment</td>\n",
       "      <td>high-dim</td>\n",
       "      <td>GBM</td>\n",
       "      <td>0.025001</td>\n",
       "      <td>20.3369</td>\n",
       "    </tr>\n",
       "    <tr>\n",
       "      <th>4</th>\n",
       "      <td>Regression Adjustment</td>\n",
       "      <td>high-dim(oversampled)</td>\n",
       "      <td>GBM</td>\n",
       "      <td>0.033000</td>\n",
       "      <td>20.8520</td>\n",
       "    </tr>\n",
       "    <tr>\n",
       "      <th>12</th>\n",
       "      <td>Stratification (K=7)</td>\n",
       "      <td>low-dim(oversampled)</td>\n",
       "      <td>GBM</td>\n",
       "      <td>0.014997</td>\n",
       "      <td>103.4942</td>\n",
       "    </tr>\n",
       "    <tr>\n",
       "      <th>6</th>\n",
       "      <td>Stratification (K=2)</td>\n",
       "      <td>high-dim(SMOTE)</td>\n",
       "      <td>GBM</td>\n",
       "      <td>0.007003</td>\n",
       "      <td>347.8727</td>\n",
       "    </tr>\n",
       "  </tbody>\n",
       "</table>\n",
       "</div>"
      ],
      "text/plain": [
       "                        Model                   Data PS model  \\\n",
       "11   Strat. + Reg. Adj. (K=8)                low-dim      GBM   \n",
       "13      Regression Adjustment   low-dim(oversampled)      GBM   \n",
       "14  Strat. + Reg. Adj. (K=10)   low-dim(oversampled)      GBM   \n",
       "17   Strat. + Reg. Adj. (K=2)         low-dim(SMOTE)      GBM   \n",
       "16      Regression Adjustment         low-dim(SMOTE)      GBM   \n",
       "10      Regression Adjustment                low-dim      GBM   \n",
       "0        Stratification (K=5)               high-dim      GBM   \n",
       "2    Strat. + Reg. Adj. (K=3)               high-dim      GBM   \n",
       "9        Stratification (K=4)                low-dim      GBM   \n",
       "5    Strat. + Reg. Adj. (K=3)  high-dim(oversampled)      GBM   \n",
       "3        Stratification (K=8)  high-dim(oversampled)      GBM   \n",
       "7       Regression Adjustment        high-dim(SMOTE)      GBM   \n",
       "15       Stratification (K=5)         low-dim(SMOTE)      GBM   \n",
       "8    Strat. + Reg. Adj. (K=3)        high-dim(SMOTE)      GBM   \n",
       "1       Regression Adjustment               high-dim      GBM   \n",
       "4       Regression Adjustment  high-dim(oversampled)      GBM   \n",
       "12       Stratification (K=7)   low-dim(oversampled)      GBM   \n",
       "6        Stratification (K=2)        high-dim(SMOTE)      GBM   \n",
       "\n",
       "    Estimation time(s)  Squared error  \n",
       "11            0.017000         0.0011  \n",
       "13            0.005000         0.0604  \n",
       "14            0.024001         0.0742  \n",
       "17            0.004999         0.0869  \n",
       "16            0.005002         0.0869  \n",
       "10            0.005000         0.1463  \n",
       "0             0.010000         0.3593  \n",
       "2             0.035000         0.6652  \n",
       "9             0.006000         0.8469  \n",
       "5             0.039000         2.1551  \n",
       "3             0.018966         2.7102  \n",
       "7             0.051961         5.7233  \n",
       "15            0.009999         9.3552  \n",
       "8             0.056000        17.2855  \n",
       "1             0.025001        20.3369  \n",
       "4             0.033000        20.8520  \n",
       "12            0.014997       103.4942  \n",
       "6             0.007003       347.8727  "
      ]
     },
     "execution_count": 94,
     "metadata": {},
     "output_type": "execute_result"
    }
   ],
   "source": [
    "summary = pd.read_csv('../output/summary.csv')\n",
    "# Sort by estimation accuracy\n",
    "summary.sort_values(by=['Squared error', 'Estimation time(s)'])"
   ]
  },
  {
   "cell_type": "code",
   "execution_count": 95,
   "metadata": {},
   "outputs": [
    {
     "data": {
      "text/html": [
       "<div>\n",
       "<style scoped>\n",
       "    .dataframe tbody tr th:only-of-type {\n",
       "        vertical-align: middle;\n",
       "    }\n",
       "\n",
       "    .dataframe tbody tr th {\n",
       "        vertical-align: top;\n",
       "    }\n",
       "\n",
       "    .dataframe thead th {\n",
       "        text-align: right;\n",
       "    }\n",
       "</style>\n",
       "<table border=\"1\" class=\"dataframe\">\n",
       "  <thead>\n",
       "    <tr style=\"text-align: right;\">\n",
       "      <th></th>\n",
       "      <th>Model</th>\n",
       "      <th>Data</th>\n",
       "      <th>PS model</th>\n",
       "      <th>Estimation time(s)</th>\n",
       "      <th>Squared error</th>\n",
       "    </tr>\n",
       "  </thead>\n",
       "  <tbody>\n",
       "    <tr>\n",
       "      <th>17</th>\n",
       "      <td>Strat. + Reg. Adj. (K=2)</td>\n",
       "      <td>low-dim(SMOTE)</td>\n",
       "      <td>GBM</td>\n",
       "      <td>0.004999</td>\n",
       "      <td>0.0869</td>\n",
       "    </tr>\n",
       "    <tr>\n",
       "      <th>10</th>\n",
       "      <td>Regression Adjustment</td>\n",
       "      <td>low-dim</td>\n",
       "      <td>GBM</td>\n",
       "      <td>0.005000</td>\n",
       "      <td>0.1463</td>\n",
       "    </tr>\n",
       "    <tr>\n",
       "      <th>13</th>\n",
       "      <td>Regression Adjustment</td>\n",
       "      <td>low-dim(oversampled)</td>\n",
       "      <td>GBM</td>\n",
       "      <td>0.005000</td>\n",
       "      <td>0.0604</td>\n",
       "    </tr>\n",
       "    <tr>\n",
       "      <th>16</th>\n",
       "      <td>Regression Adjustment</td>\n",
       "      <td>low-dim(SMOTE)</td>\n",
       "      <td>GBM</td>\n",
       "      <td>0.005002</td>\n",
       "      <td>0.0869</td>\n",
       "    </tr>\n",
       "    <tr>\n",
       "      <th>9</th>\n",
       "      <td>Stratification (K=4)</td>\n",
       "      <td>low-dim</td>\n",
       "      <td>GBM</td>\n",
       "      <td>0.006000</td>\n",
       "      <td>0.8469</td>\n",
       "    </tr>\n",
       "    <tr>\n",
       "      <th>6</th>\n",
       "      <td>Stratification (K=2)</td>\n",
       "      <td>high-dim(SMOTE)</td>\n",
       "      <td>GBM</td>\n",
       "      <td>0.007003</td>\n",
       "      <td>347.8727</td>\n",
       "    </tr>\n",
       "    <tr>\n",
       "      <th>15</th>\n",
       "      <td>Stratification (K=5)</td>\n",
       "      <td>low-dim(SMOTE)</td>\n",
       "      <td>GBM</td>\n",
       "      <td>0.009999</td>\n",
       "      <td>9.3552</td>\n",
       "    </tr>\n",
       "    <tr>\n",
       "      <th>0</th>\n",
       "      <td>Stratification (K=5)</td>\n",
       "      <td>high-dim</td>\n",
       "      <td>GBM</td>\n",
       "      <td>0.010000</td>\n",
       "      <td>0.3593</td>\n",
       "    </tr>\n",
       "    <tr>\n",
       "      <th>12</th>\n",
       "      <td>Stratification (K=7)</td>\n",
       "      <td>low-dim(oversampled)</td>\n",
       "      <td>GBM</td>\n",
       "      <td>0.014997</td>\n",
       "      <td>103.4942</td>\n",
       "    </tr>\n",
       "    <tr>\n",
       "      <th>11</th>\n",
       "      <td>Strat. + Reg. Adj. (K=8)</td>\n",
       "      <td>low-dim</td>\n",
       "      <td>GBM</td>\n",
       "      <td>0.017000</td>\n",
       "      <td>0.0011</td>\n",
       "    </tr>\n",
       "    <tr>\n",
       "      <th>3</th>\n",
       "      <td>Stratification (K=8)</td>\n",
       "      <td>high-dim(oversampled)</td>\n",
       "      <td>GBM</td>\n",
       "      <td>0.018966</td>\n",
       "      <td>2.7102</td>\n",
       "    </tr>\n",
       "    <tr>\n",
       "      <th>14</th>\n",
       "      <td>Strat. + Reg. Adj. (K=10)</td>\n",
       "      <td>low-dim(oversampled)</td>\n",
       "      <td>GBM</td>\n",
       "      <td>0.024001</td>\n",
       "      <td>0.0742</td>\n",
       "    </tr>\n",
       "    <tr>\n",
       "      <th>1</th>\n",
       "      <td>Regression Adjustment</td>\n",
       "      <td>high-dim</td>\n",
       "      <td>GBM</td>\n",
       "      <td>0.025001</td>\n",
       "      <td>20.3369</td>\n",
       "    </tr>\n",
       "    <tr>\n",
       "      <th>4</th>\n",
       "      <td>Regression Adjustment</td>\n",
       "      <td>high-dim(oversampled)</td>\n",
       "      <td>GBM</td>\n",
       "      <td>0.033000</td>\n",
       "      <td>20.8520</td>\n",
       "    </tr>\n",
       "    <tr>\n",
       "      <th>2</th>\n",
       "      <td>Strat. + Reg. Adj. (K=3)</td>\n",
       "      <td>high-dim</td>\n",
       "      <td>GBM</td>\n",
       "      <td>0.035000</td>\n",
       "      <td>0.6652</td>\n",
       "    </tr>\n",
       "    <tr>\n",
       "      <th>5</th>\n",
       "      <td>Strat. + Reg. Adj. (K=3)</td>\n",
       "      <td>high-dim(oversampled)</td>\n",
       "      <td>GBM</td>\n",
       "      <td>0.039000</td>\n",
       "      <td>2.1551</td>\n",
       "    </tr>\n",
       "    <tr>\n",
       "      <th>7</th>\n",
       "      <td>Regression Adjustment</td>\n",
       "      <td>high-dim(SMOTE)</td>\n",
       "      <td>GBM</td>\n",
       "      <td>0.051961</td>\n",
       "      <td>5.7233</td>\n",
       "    </tr>\n",
       "    <tr>\n",
       "      <th>8</th>\n",
       "      <td>Strat. + Reg. Adj. (K=3)</td>\n",
       "      <td>high-dim(SMOTE)</td>\n",
       "      <td>GBM</td>\n",
       "      <td>0.056000</td>\n",
       "      <td>17.2855</td>\n",
       "    </tr>\n",
       "  </tbody>\n",
       "</table>\n",
       "</div>"
      ],
      "text/plain": [
       "                        Model                   Data PS model  \\\n",
       "17   Strat. + Reg. Adj. (K=2)         low-dim(SMOTE)      GBM   \n",
       "10      Regression Adjustment                low-dim      GBM   \n",
       "13      Regression Adjustment   low-dim(oversampled)      GBM   \n",
       "16      Regression Adjustment         low-dim(SMOTE)      GBM   \n",
       "9        Stratification (K=4)                low-dim      GBM   \n",
       "6        Stratification (K=2)        high-dim(SMOTE)      GBM   \n",
       "15       Stratification (K=5)         low-dim(SMOTE)      GBM   \n",
       "0        Stratification (K=5)               high-dim      GBM   \n",
       "12       Stratification (K=7)   low-dim(oversampled)      GBM   \n",
       "11   Strat. + Reg. Adj. (K=8)                low-dim      GBM   \n",
       "3        Stratification (K=8)  high-dim(oversampled)      GBM   \n",
       "14  Strat. + Reg. Adj. (K=10)   low-dim(oversampled)      GBM   \n",
       "1       Regression Adjustment               high-dim      GBM   \n",
       "4       Regression Adjustment  high-dim(oversampled)      GBM   \n",
       "2    Strat. + Reg. Adj. (K=3)               high-dim      GBM   \n",
       "5    Strat. + Reg. Adj. (K=3)  high-dim(oversampled)      GBM   \n",
       "7       Regression Adjustment        high-dim(SMOTE)      GBM   \n",
       "8    Strat. + Reg. Adj. (K=3)        high-dim(SMOTE)      GBM   \n",
       "\n",
       "    Estimation time(s)  Squared error  \n",
       "17            0.004999         0.0869  \n",
       "10            0.005000         0.1463  \n",
       "13            0.005000         0.0604  \n",
       "16            0.005002         0.0869  \n",
       "9             0.006000         0.8469  \n",
       "6             0.007003       347.8727  \n",
       "15            0.009999         9.3552  \n",
       "0             0.010000         0.3593  \n",
       "12            0.014997       103.4942  \n",
       "11            0.017000         0.0011  \n",
       "3             0.018966         2.7102  \n",
       "14            0.024001         0.0742  \n",
       "1             0.025001        20.3369  \n",
       "4             0.033000        20.8520  \n",
       "2             0.035000         0.6652  \n",
       "5             0.039000         2.1551  \n",
       "7             0.051961         5.7233  \n",
       "8             0.056000        17.2855  "
      ]
     },
     "execution_count": 95,
     "metadata": {},
     "output_type": "execute_result"
    }
   ],
   "source": [
    "# Sort by time complexity\n",
    "summary.sort_values(by=['Estimation time(s)'])"
   ]
  },
  {
   "cell_type": "markdown",
   "metadata": {},
   "source": [
    "## References\n",
    "\n",
    "\n",
    "1. Chan, D., Ge, R., Gershony, O., Hesterberg, T. and Lambert, D., 2010, July. Evaluating online ad campaigns in a pipeline: causal models at scale. In Proceedings of the 16th ACM SIGKDD international conference on Knowledge discovery and data mining (pp. 7-16). https://doi.org/10.1145/1835804.1835809\n",
    "\n",
    "2. D'Agostino Jr, R.B., 1998. Propensity score methods for bias reduction in the comparison of a treatment to a non‐randomized control group. Statistics in medicine, 17(19), pp.2265-2281. https://doi.org/10.1002/(SICI)1097-0258(19981015)17:19%3C2265::AID-SIM918%3E3.0.CO;2-B\n",
    "\n",
    "3. Hirano, K. and Imbens, G.W., 2001. Estimation of causal effects using propensity score weighting: An application to data on right heart catheterization. Health Services and Outcomes research methodology, 2(3), pp.259-278. https://doi.org/10.1023/A:1020371312283\n",
    "\n",
    "4. Austin, P.C., 2011. An introduction to propensity score methods for reducing the effects of confounding in observational studies. Multivariate behavioral research, 46(3), pp.399-424. https://dx.doi.org/10.1080%2F00273171.2011.568786\n",
    "\n",
    "5. Stuart, E.A., 2009. Matching methods for causal inference: A review and a look forward. Baltimore, MD: Johns Hopkins Bloomberg School of Public Health. https://www.ncbi.nlm.nih.gov/pmc/articles/PMC2943670/\n",
    "\n",
    "6. Lunceford, J.K., 2017. Stratification and weighting via the propensity score in estimation of causal treatment effects: a comparative study. Statistics in medicine, 36(14), pp.2320-2320. https://doi.org/10.1002/sim.1903\n",
    "\n",
    "7. Overcoming Class Imbalance using SMOTE Techniques, https://www.analyticsvidhya.com/blog/2020/10/overcoming-class-imbalance-using-smote-techniques/#:~:text=SMOTE%20is%20an%20oversampling%20technique%20where%20the%20synthetic,interpolation%20between%20the%20positive%20instances%20that%20lie%20together.\n",
    "\n",
    "8. Github Page of Applied Data Science https://github.com/TZstatsADS/ADS_Teaching/blob/master/Projects_StarterCodes/Project4-CausalInference/doc/project4_desc.md\n"
   ]
  },
  {
   "cell_type": "code",
   "execution_count": null,
   "metadata": {},
   "outputs": [],
   "source": []
  }
 ],
 "metadata": {
  "kernelspec": {
   "display_name": "Python 3",
   "language": "python",
   "name": "python3"
  },
  "language_info": {
   "codemirror_mode": {
    "name": "ipython",
    "version": 3
   },
   "file_extension": ".py",
   "mimetype": "text/x-python",
   "name": "python",
   "nbconvert_exporter": "python",
   "pygments_lexer": "ipython3",
   "version": "3.8.3"
  }
 },
 "nbformat": 4,
 "nbformat_minor": 4
}
