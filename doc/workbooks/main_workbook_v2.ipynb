{
 "cells": [
  {
   "cell_type": "markdown",
   "metadata": {},
   "source": [
    "# STAT5243 Project 4: Causal Inference"
   ]
  },
  {
   "cell_type": "markdown",
   "metadata": {},
   "source": [
    "**Group 2:**\n",
    "\n",
    "    Wendy Doan\n",
    "    Yibai Liu\n",
    "    Yiwen Fang\n",
    "    Shuqi Yu\n",
    "    Zhihang Xia"
   ]
  },
  {
   "cell_type": "markdown",
   "metadata": {},
   "source": [
    "***(To all) Things to do:***\n",
    "\n",
    "    1) try other boosting methods (e.g. adaboost) for propensity score estimation\n",
    "    2) time the models\n",
    "    3) finish regression adjustment\n",
    "    4) try reweighting & resampling  :  done"
   ]
  },
  {
   "cell_type": "code",
   "execution_count": 1,
   "metadata": {},
   "outputs": [],
   "source": [
    "import numpy as np\n",
    "import pandas as pd\n",
    "import matplotlib.pyplot as plt\n",
    "import time\n",
    "from collections import Counter\n",
    "import warnings\n",
    "warnings.filterwarnings('ignore')\n",
    "\n",
    "\n",
    "# Set a random seed for reproduction.\n",
    "RANDOM_STATE = np.random.seed(2021)\n",
    "\n",
    "# train-test split for propensity score\n",
    "from sklearn.model_selection import train_test_split\n",
    "# grid search\n",
    "from sklearn.model_selection import GridSearchCV\n",
    "# propensity score from tree models\n",
    "#import xgboost as xgb\n",
    "#from xgboost import XGBClassifier\n",
    "from sklearn.ensemble import GradientBoostingClassifier\n",
    "# Stratification and Regression Adjustment\n",
    "from sklearn.model_selection import StratifiedKFold\n",
    "from sklearn.linear_model import LinearRegression\n",
    "\n",
    "from imblearn.over_sampling import RandomOverSampler\n",
    "from imblearn.combine import SMOTETomek\n",
    "from imblearn.under_sampling import RandomUnderSampler\n",
    "from imblearn.under_sampling import NearMiss"
   ]
  },
  {
   "cell_type": "code",
   "execution_count": 2,
   "metadata": {},
   "outputs": [],
   "source": [
    "# baseline propensity score\n",
    "from sklearn.linear_model import LogisticRegression\n",
    "from sklearn.linear_model import LogisticRegressionCV\n"
   ]
  },
  {
   "cell_type": "markdown",
   "metadata": {},
   "source": [
    "## Intro"
   ]
  },
  {
   "cell_type": "code",
   "execution_count": null,
   "metadata": {},
   "outputs": [],
   "source": []
  },
  {
   "cell_type": "markdown",
   "metadata": {},
   "source": [
    "## Exploring the data"
   ]
  },
  {
   "cell_type": "code",
   "execution_count": 3,
   "metadata": {},
   "outputs": [],
   "source": [
    "#highDim_dataset = pd.read_csv('../data/highDim_dataset.csv')\n",
    "#lowDim_dataset = pd.read_csv('../data/lowDim_dataset.csv')\n",
    "highDim_dataset = pd.read_csv('/Users/yyyyushuqi/Downloads/data/highDim_dataset.csv')\n",
    "lowDim_dataset = pd.read_csv('/Users/yyyyushuqi/Downloads/data/lowDim_dataset.csv')"
   ]
  },
  {
   "cell_type": "code",
   "execution_count": 4,
   "metadata": {},
   "outputs": [],
   "source": [
    "high_true_ATE = -54.8558\n",
    "low_true_ATE = 2.0901"
   ]
  },
  {
   "cell_type": "code",
   "execution_count": 5,
   "metadata": {},
   "outputs": [
    {
     "data": {
      "text/plain": [
       "(2000, 187)"
      ]
     },
     "execution_count": 5,
     "metadata": {},
     "output_type": "execute_result"
    }
   ],
   "source": [
    "highDim_dataset.shape"
   ]
  },
  {
   "cell_type": "code",
   "execution_count": 6,
   "metadata": {},
   "outputs": [
    {
     "data": {
      "text/html": [
       "<div>\n",
       "<style scoped>\n",
       "    .dataframe tbody tr th:only-of-type {\n",
       "        vertical-align: middle;\n",
       "    }\n",
       "\n",
       "    .dataframe tbody tr th {\n",
       "        vertical-align: top;\n",
       "    }\n",
       "\n",
       "    .dataframe thead th {\n",
       "        text-align: right;\n",
       "    }\n",
       "</style>\n",
       "<table border=\"1\" class=\"dataframe\">\n",
       "  <thead>\n",
       "    <tr style=\"text-align: right;\">\n",
       "      <th></th>\n",
       "      <th>Y</th>\n",
       "      <th>A</th>\n",
       "      <th>V1</th>\n",
       "      <th>V2</th>\n",
       "      <th>V3</th>\n",
       "      <th>V4</th>\n",
       "      <th>V5</th>\n",
       "      <th>V6</th>\n",
       "      <th>V7</th>\n",
       "      <th>V8</th>\n",
       "      <th>...</th>\n",
       "      <th>V176</th>\n",
       "      <th>V177</th>\n",
       "      <th>V178</th>\n",
       "      <th>V179</th>\n",
       "      <th>V180</th>\n",
       "      <th>V181</th>\n",
       "      <th>V182</th>\n",
       "      <th>V183</th>\n",
       "      <th>V184</th>\n",
       "      <th>V185</th>\n",
       "    </tr>\n",
       "  </thead>\n",
       "  <tbody>\n",
       "    <tr>\n",
       "      <th>0</th>\n",
       "      <td>41.224513</td>\n",
       "      <td>0</td>\n",
       "      <td>0</td>\n",
       "      <td>1</td>\n",
       "      <td>4</td>\n",
       "      <td>18</td>\n",
       "      <td>17</td>\n",
       "      <td>-1</td>\n",
       "      <td>1</td>\n",
       "      <td>0.75</td>\n",
       "      <td>...</td>\n",
       "      <td>8</td>\n",
       "      <td>10</td>\n",
       "      <td>8</td>\n",
       "      <td>9</td>\n",
       "      <td>8</td>\n",
       "      <td>-1</td>\n",
       "      <td>-1</td>\n",
       "      <td>-1</td>\n",
       "      <td>-1</td>\n",
       "      <td>-1</td>\n",
       "    </tr>\n",
       "    <tr>\n",
       "      <th>1</th>\n",
       "      <td>40.513875</td>\n",
       "      <td>0</td>\n",
       "      <td>0</td>\n",
       "      <td>0</td>\n",
       "      <td>1</td>\n",
       "      <td>10</td>\n",
       "      <td>6</td>\n",
       "      <td>-1</td>\n",
       "      <td>10</td>\n",
       "      <td>0.35</td>\n",
       "      <td>...</td>\n",
       "      <td>6</td>\n",
       "      <td>5</td>\n",
       "      <td>6</td>\n",
       "      <td>8</td>\n",
       "      <td>5</td>\n",
       "      <td>-1</td>\n",
       "      <td>-1</td>\n",
       "      <td>-1</td>\n",
       "      <td>-1</td>\n",
       "      <td>-1</td>\n",
       "    </tr>\n",
       "    <tr>\n",
       "      <th>2</th>\n",
       "      <td>38.495476</td>\n",
       "      <td>0</td>\n",
       "      <td>0</td>\n",
       "      <td>0</td>\n",
       "      <td>16</td>\n",
       "      <td>8</td>\n",
       "      <td>4</td>\n",
       "      <td>4</td>\n",
       "      <td>4</td>\n",
       "      <td>0.40</td>\n",
       "      <td>...</td>\n",
       "      <td>-1</td>\n",
       "      <td>-1</td>\n",
       "      <td>-1</td>\n",
       "      <td>-1</td>\n",
       "      <td>-1</td>\n",
       "      <td>-1</td>\n",
       "      <td>-1</td>\n",
       "      <td>-1</td>\n",
       "      <td>-1</td>\n",
       "      <td>-1</td>\n",
       "    </tr>\n",
       "    <tr>\n",
       "      <th>3</th>\n",
       "      <td>33.001889</td>\n",
       "      <td>0</td>\n",
       "      <td>1</td>\n",
       "      <td>0</td>\n",
       "      <td>3</td>\n",
       "      <td>10</td>\n",
       "      <td>2</td>\n",
       "      <td>-1</td>\n",
       "      <td>5</td>\n",
       "      <td>0.41</td>\n",
       "      <td>...</td>\n",
       "      <td>-1</td>\n",
       "      <td>-1</td>\n",
       "      <td>-1</td>\n",
       "      <td>-1</td>\n",
       "      <td>-1</td>\n",
       "      <td>-1</td>\n",
       "      <td>-1</td>\n",
       "      <td>-1</td>\n",
       "      <td>-1</td>\n",
       "      <td>-1</td>\n",
       "    </tr>\n",
       "    <tr>\n",
       "      <th>4</th>\n",
       "      <td>37.043603</td>\n",
       "      <td>0</td>\n",
       "      <td>1</td>\n",
       "      <td>1</td>\n",
       "      <td>11</td>\n",
       "      <td>21</td>\n",
       "      <td>10</td>\n",
       "      <td>10</td>\n",
       "      <td>20</td>\n",
       "      <td>0.43</td>\n",
       "      <td>...</td>\n",
       "      <td>6</td>\n",
       "      <td>8</td>\n",
       "      <td>7</td>\n",
       "      <td>7</td>\n",
       "      <td>7</td>\n",
       "      <td>6</td>\n",
       "      <td>7</td>\n",
       "      <td>6</td>\n",
       "      <td>6</td>\n",
       "      <td>7</td>\n",
       "    </tr>\n",
       "  </tbody>\n",
       "</table>\n",
       "<p>5 rows × 187 columns</p>\n",
       "</div>"
      ],
      "text/plain": [
       "           Y  A  V1  V2  V3  V4  V5  V6  V7    V8  ...  V176  V177  V178  \\\n",
       "0  41.224513  0   0   1   4  18  17  -1   1  0.75  ...     8    10     8   \n",
       "1  40.513875  0   0   0   1  10   6  -1  10  0.35  ...     6     5     6   \n",
       "2  38.495476  0   0   0  16   8   4   4   4  0.40  ...    -1    -1    -1   \n",
       "3  33.001889  0   1   0   3  10   2  -1   5  0.41  ...    -1    -1    -1   \n",
       "4  37.043603  0   1   1  11  21  10  10  20  0.43  ...     6     8     7   \n",
       "\n",
       "   V179  V180  V181  V182  V183  V184  V185  \n",
       "0     9     8    -1    -1    -1    -1    -1  \n",
       "1     8     5    -1    -1    -1    -1    -1  \n",
       "2    -1    -1    -1    -1    -1    -1    -1  \n",
       "3    -1    -1    -1    -1    -1    -1    -1  \n",
       "4     7     7     6     7     6     6     7  \n",
       "\n",
       "[5 rows x 187 columns]"
      ]
     },
     "execution_count": 6,
     "metadata": {},
     "output_type": "execute_result"
    }
   ],
   "source": [
    "highDim_dataset.head()"
   ]
  },
  {
   "cell_type": "code",
   "execution_count": 7,
   "metadata": {},
   "outputs": [
    {
     "data": {
      "text/plain": [
       "(500, 24)"
      ]
     },
     "execution_count": 7,
     "metadata": {},
     "output_type": "execute_result"
    }
   ],
   "source": [
    "lowDim_dataset.shape"
   ]
  },
  {
   "cell_type": "code",
   "execution_count": 8,
   "metadata": {},
   "outputs": [
    {
     "data": {
      "text/html": [
       "<div>\n",
       "<style scoped>\n",
       "    .dataframe tbody tr th:only-of-type {\n",
       "        vertical-align: middle;\n",
       "    }\n",
       "\n",
       "    .dataframe tbody tr th {\n",
       "        vertical-align: top;\n",
       "    }\n",
       "\n",
       "    .dataframe thead th {\n",
       "        text-align: right;\n",
       "    }\n",
       "</style>\n",
       "<table border=\"1\" class=\"dataframe\">\n",
       "  <thead>\n",
       "    <tr style=\"text-align: right;\">\n",
       "      <th></th>\n",
       "      <th>Y</th>\n",
       "      <th>A</th>\n",
       "      <th>V1</th>\n",
       "      <th>V2</th>\n",
       "      <th>V3</th>\n",
       "      <th>V4</th>\n",
       "      <th>V5</th>\n",
       "      <th>V6</th>\n",
       "      <th>V7</th>\n",
       "      <th>V8</th>\n",
       "      <th>...</th>\n",
       "      <th>V13</th>\n",
       "      <th>V14</th>\n",
       "      <th>V15</th>\n",
       "      <th>V16</th>\n",
       "      <th>V17</th>\n",
       "      <th>V18</th>\n",
       "      <th>V19</th>\n",
       "      <th>V20</th>\n",
       "      <th>V21</th>\n",
       "      <th>V22</th>\n",
       "    </tr>\n",
       "  </thead>\n",
       "  <tbody>\n",
       "    <tr>\n",
       "      <th>0</th>\n",
       "      <td>30.486999</td>\n",
       "      <td>0</td>\n",
       "      <td>0.00</td>\n",
       "      <td>0.00</td>\n",
       "      <td>0.00</td>\n",
       "      <td>0.0</td>\n",
       "      <td>0.0</td>\n",
       "      <td>0.00</td>\n",
       "      <td>0.0</td>\n",
       "      <td>0.00</td>\n",
       "      <td>...</td>\n",
       "      <td>0.0</td>\n",
       "      <td>0.00</td>\n",
       "      <td>0.00</td>\n",
       "      <td>0.0</td>\n",
       "      <td>0.00</td>\n",
       "      <td>0.0</td>\n",
       "      <td>0.00</td>\n",
       "      <td>0.00</td>\n",
       "      <td>9.09</td>\n",
       "      <td>1.149622</td>\n",
       "    </tr>\n",
       "    <tr>\n",
       "      <th>1</th>\n",
       "      <td>18.208417</td>\n",
       "      <td>0</td>\n",
       "      <td>0.00</td>\n",
       "      <td>0.00</td>\n",
       "      <td>0.00</td>\n",
       "      <td>0.0</td>\n",
       "      <td>0.0</td>\n",
       "      <td>0.00</td>\n",
       "      <td>0.0</td>\n",
       "      <td>1.40</td>\n",
       "      <td>...</td>\n",
       "      <td>0.7</td>\n",
       "      <td>0.00</td>\n",
       "      <td>1.40</td>\n",
       "      <td>0.0</td>\n",
       "      <td>1.40</td>\n",
       "      <td>0.0</td>\n",
       "      <td>0.00</td>\n",
       "      <td>0.00</td>\n",
       "      <td>0.00</td>\n",
       "      <td>2.887702</td>\n",
       "    </tr>\n",
       "    <tr>\n",
       "      <th>2</th>\n",
       "      <td>13.485040</td>\n",
       "      <td>0</td>\n",
       "      <td>0.00</td>\n",
       "      <td>0.00</td>\n",
       "      <td>0.00</td>\n",
       "      <td>0.0</td>\n",
       "      <td>0.0</td>\n",
       "      <td>0.00</td>\n",
       "      <td>0.0</td>\n",
       "      <td>0.00</td>\n",
       "      <td>...</td>\n",
       "      <td>0.0</td>\n",
       "      <td>0.00</td>\n",
       "      <td>3.57</td>\n",
       "      <td>0.0</td>\n",
       "      <td>0.00</td>\n",
       "      <td>0.0</td>\n",
       "      <td>0.00</td>\n",
       "      <td>0.00</td>\n",
       "      <td>0.00</td>\n",
       "      <td>0.000000</td>\n",
       "    </tr>\n",
       "    <tr>\n",
       "      <th>3</th>\n",
       "      <td>25.699678</td>\n",
       "      <td>1</td>\n",
       "      <td>2.38</td>\n",
       "      <td>0.00</td>\n",
       "      <td>0.00</td>\n",
       "      <td>0.0</td>\n",
       "      <td>0.0</td>\n",
       "      <td>0.00</td>\n",
       "      <td>0.0</td>\n",
       "      <td>0.00</td>\n",
       "      <td>...</td>\n",
       "      <td>0.0</td>\n",
       "      <td>0.00</td>\n",
       "      <td>2.38</td>\n",
       "      <td>0.0</td>\n",
       "      <td>2.38</td>\n",
       "      <td>0.0</td>\n",
       "      <td>0.00</td>\n",
       "      <td>0.00</td>\n",
       "      <td>0.00</td>\n",
       "      <td>0.405465</td>\n",
       "    </tr>\n",
       "    <tr>\n",
       "      <th>4</th>\n",
       "      <td>23.752968</td>\n",
       "      <td>0</td>\n",
       "      <td>0.15</td>\n",
       "      <td>0.15</td>\n",
       "      <td>0.05</td>\n",
       "      <td>0.1</td>\n",
       "      <td>0.0</td>\n",
       "      <td>0.42</td>\n",
       "      <td>0.1</td>\n",
       "      <td>0.95</td>\n",
       "      <td>...</td>\n",
       "      <td>0.0</td>\n",
       "      <td>0.36</td>\n",
       "      <td>3.16</td>\n",
       "      <td>0.0</td>\n",
       "      <td>1.58</td>\n",
       "      <td>0.0</td>\n",
       "      <td>0.52</td>\n",
       "      <td>0.31</td>\n",
       "      <td>0.00</td>\n",
       "      <td>1.574639</td>\n",
       "    </tr>\n",
       "  </tbody>\n",
       "</table>\n",
       "<p>5 rows × 24 columns</p>\n",
       "</div>"
      ],
      "text/plain": [
       "           Y  A    V1    V2    V3   V4   V5    V6   V7    V8  ...  V13   V14  \\\n",
       "0  30.486999  0  0.00  0.00  0.00  0.0  0.0  0.00  0.0  0.00  ...  0.0  0.00   \n",
       "1  18.208417  0  0.00  0.00  0.00  0.0  0.0  0.00  0.0  1.40  ...  0.7  0.00   \n",
       "2  13.485040  0  0.00  0.00  0.00  0.0  0.0  0.00  0.0  0.00  ...  0.0  0.00   \n",
       "3  25.699678  1  2.38  0.00  0.00  0.0  0.0  0.00  0.0  0.00  ...  0.0  0.00   \n",
       "4  23.752968  0  0.15  0.15  0.05  0.1  0.0  0.42  0.1  0.95  ...  0.0  0.36   \n",
       "\n",
       "    V15  V16   V17  V18   V19   V20   V21       V22  \n",
       "0  0.00  0.0  0.00  0.0  0.00  0.00  9.09  1.149622  \n",
       "1  1.40  0.0  1.40  0.0  0.00  0.00  0.00  2.887702  \n",
       "2  3.57  0.0  0.00  0.0  0.00  0.00  0.00  0.000000  \n",
       "3  2.38  0.0  2.38  0.0  0.00  0.00  0.00  0.405465  \n",
       "4  3.16  0.0  1.58  0.0  0.52  0.31  0.00  1.574639  \n",
       "\n",
       "[5 rows x 24 columns]"
      ]
     },
     "execution_count": 8,
     "metadata": {},
     "output_type": "execute_result"
    }
   ],
   "source": [
    "lowDim_dataset.head()"
   ]
  },
  {
   "cell_type": "code",
   "execution_count": 9,
   "metadata": {},
   "outputs": [
    {
     "data": {
      "image/png": "[encoded data removed]",
      "text/plain": [
       "<Figure size 432x288 with 1 Axes>"
      ]
     },
     "metadata": {
      "needs_background": "light"
     },
     "output_type": "display_data"
    }
   ],
   "source": [
    "plt.plot(highDim_dataset[highDim_dataset.A == 1].Y, 'o', label=\"Treatment\")\n",
    "plt.plot(highDim_dataset[highDim_dataset.A == 0].Y, 'ro', label=\"Control\")\n",
    "plt.title(\"High-dimension data distribution\")\n",
    "plt.ylabel(\"Y\")\n",
    "plt.legend()\n",
    "plt.show()"
   ]
  },
  {
   "cell_type": "code",
   "execution_count": 10,
   "metadata": {},
   "outputs": [
    {
     "data": {
      "image/png": "[encoded data removed]",
      "text/plain": [
       "<Figure size 432x288 with 1 Axes>"
      ]
     },
     "metadata": {
      "needs_background": "light"
     },
     "output_type": "display_data"
    }
   ],
   "source": [
    "plt.plot(lowDim_dataset[lowDim_dataset.A == 1].Y, 'o', label='Treatment')\n",
    "plt.plot(lowDim_dataset[lowDim_dataset.A == 0].Y, 'ro', label = 'Control')\n",
    "plt.title(\"Low-dimension data distribution\")\n",
    "plt.ylabel(\"Y\")\n",
    "plt.legend()\n",
    "plt.show()"
   ]
  },
  {
   "cell_type": "markdown",
   "metadata": {},
   "source": [
    "#### Naive estimate of ATE"
   ]
  },
  {
   "cell_type": "code",
   "execution_count": 11,
   "metadata": {},
   "outputs": [],
   "source": [
    "def naive_ATE(dataset):\n",
    "    return np.average(dataset[dataset.A == 1].Y) - np.average(dataset[dataset.A == 0].Y)"
   ]
  },
  {
   "cell_type": "code",
   "execution_count": 12,
   "metadata": {
    "scrolled": false
   },
   "outputs": [
    {
     "data": {
      "text/plain": [
       "-75.17133436876799"
      ]
     },
     "execution_count": 12,
     "metadata": {},
     "output_type": "execute_result"
    }
   ],
   "source": [
    "# High-dimention\n",
    "naive_ATE(highDim_dataset)"
   ]
  },
  {
   "cell_type": "code",
   "execution_count": 13,
   "metadata": {
    "scrolled": true
   },
   "outputs": [
    {
     "data": {
      "text/plain": [
       "10.602068661915688"
      ]
     },
     "execution_count": 13,
     "metadata": {},
     "output_type": "execute_result"
    }
   ],
   "source": [
    "# Low-dimention\n",
    "naive_ATE(lowDim_dataset)"
   ]
  },
  {
   "cell_type": "markdown",
   "metadata": {},
   "source": [
    "### Are the data sets balanced? "
   ]
  },
  {
   "cell_type": "code",
   "execution_count": 14,
   "metadata": {},
   "outputs": [
    {
     "name": "stdout",
     "output_type": "stream",
     "text": [
      "High-dimention\n",
      "Treatment: 643 \n",
      "Control: 1357\n"
     ]
    }
   ],
   "source": [
    "print(\"High-dimention\\nTreatment:\", len(highDim_dataset[highDim_dataset.A == 1]), \"\\nControl:\", len(highDim_dataset[highDim_dataset.A == 0]))"
   ]
  },
  {
   "cell_type": "code",
   "execution_count": 15,
   "metadata": {},
   "outputs": [
    {
     "name": "stdout",
     "output_type": "stream",
     "text": [
      "Low-dimention\n",
      "Treatment: 106 \n",
      "Control: 394\n"
     ]
    }
   ],
   "source": [
    "print(\"Low-dimention\\nTreatment:\", len(lowDim_dataset[lowDim_dataset.A == 1]), \"\\nControl:\", len(lowDim_dataset[lowDim_dataset.A == 0]))"
   ]
  },
  {
   "cell_type": "markdown",
   "metadata": {},
   "source": [
    "Slightly imbalanced, but acceptable."
   ]
  },
  {
   "cell_type": "markdown",
   "metadata": {},
   "source": [
    "## rebalance the data"
   ]
  },
  {
   "cell_type": "markdown",
   "metadata": {},
   "source": [
    "###### first method: oversampling"
   ]
  },
  {
   "cell_type": "markdown",
   "metadata": {},
   "source": [
    "In oversampling, we increase the number of samples in minority class to match up to the number of samples of the majority class.\n",
    "\n",
    "In simple terms, you take the minority class and try to create new samples that could match up to the length of the majority samples."
   ]
  },
  {
   "cell_type": "code",
   "execution_count": 16,
   "metadata": {},
   "outputs": [
    {
     "name": "stdout",
     "output_type": "stream",
     "text": [
      "High-dimention_resample \n",
      "Treatment: 1357 \n",
      "Control: 1357\n"
     ]
    }
   ],
   "source": [
    "ovs = RandomOverSampler(random_state = 42)\n",
    "x,y = ovs.fit_resample(highDim_dataset.loc[:,highDim_dataset.columns != 'A'],highDim_dataset.A)\n",
    "highDim_dataset_oversampling=x\n",
    "highDim_dataset_oversampling[\"A\"]=y\n",
    "print(\"High-dimention_resample \\nTreatment:\", len(highDim_dataset_oversampling[highDim_dataset_oversampling.A == 1]),\n",
    "      \"\\nControl:\", len(highDim_dataset_oversampling[highDim_dataset_oversampling.A == 0]))"
   ]
  },
  {
   "cell_type": "code",
   "execution_count": 207,
   "metadata": {},
   "outputs": [
    {
     "data": {
      "text/html": [
       "<div>\n",
       "<style scoped>\n",
       "    .dataframe tbody tr th:only-of-type {\n",
       "        vertical-align: middle;\n",
       "    }\n",
       "\n",
       "    .dataframe tbody tr th {\n",
       "        vertical-align: top;\n",
       "    }\n",
       "\n",
       "    .dataframe thead th {\n",
       "        text-align: right;\n",
       "    }\n",
       "</style>\n",
       "<table border=\"1\" class=\"dataframe\">\n",
       "  <thead>\n",
       "    <tr style=\"text-align: right;\">\n",
       "      <th></th>\n",
       "      <th>V1</th>\n",
       "      <th>V2</th>\n",
       "      <th>V3</th>\n",
       "      <th>V4</th>\n",
       "      <th>V5</th>\n",
       "      <th>V6</th>\n",
       "      <th>V7</th>\n",
       "      <th>V8</th>\n",
       "      <th>V9</th>\n",
       "      <th>V10</th>\n",
       "      <th>...</th>\n",
       "      <th>V176</th>\n",
       "      <th>V177</th>\n",
       "      <th>V178</th>\n",
       "      <th>V179</th>\n",
       "      <th>V180</th>\n",
       "      <th>V181</th>\n",
       "      <th>V182</th>\n",
       "      <th>V183</th>\n",
       "      <th>V184</th>\n",
       "      <th>V185</th>\n",
       "    </tr>\n",
       "  </thead>\n",
       "  <tbody>\n",
       "    <tr>\n",
       "      <th>0</th>\n",
       "      <td>0</td>\n",
       "      <td>1</td>\n",
       "      <td>4</td>\n",
       "      <td>18</td>\n",
       "      <td>17</td>\n",
       "      <td>-1</td>\n",
       "      <td>1</td>\n",
       "      <td>0.75</td>\n",
       "      <td>1</td>\n",
       "      <td>28</td>\n",
       "      <td>...</td>\n",
       "      <td>8</td>\n",
       "      <td>10</td>\n",
       "      <td>8</td>\n",
       "      <td>9</td>\n",
       "      <td>8</td>\n",
       "      <td>-1</td>\n",
       "      <td>-1</td>\n",
       "      <td>-1</td>\n",
       "      <td>-1</td>\n",
       "      <td>-1</td>\n",
       "    </tr>\n",
       "    <tr>\n",
       "      <th>1</th>\n",
       "      <td>0</td>\n",
       "      <td>0</td>\n",
       "      <td>1</td>\n",
       "      <td>10</td>\n",
       "      <td>6</td>\n",
       "      <td>-1</td>\n",
       "      <td>10</td>\n",
       "      <td>0.35</td>\n",
       "      <td>1</td>\n",
       "      <td>30</td>\n",
       "      <td>...</td>\n",
       "      <td>6</td>\n",
       "      <td>5</td>\n",
       "      <td>6</td>\n",
       "      <td>8</td>\n",
       "      <td>5</td>\n",
       "      <td>-1</td>\n",
       "      <td>-1</td>\n",
       "      <td>-1</td>\n",
       "      <td>-1</td>\n",
       "      <td>-1</td>\n",
       "    </tr>\n",
       "    <tr>\n",
       "      <th>2</th>\n",
       "      <td>0</td>\n",
       "      <td>0</td>\n",
       "      <td>16</td>\n",
       "      <td>8</td>\n",
       "      <td>4</td>\n",
       "      <td>4</td>\n",
       "      <td>4</td>\n",
       "      <td>0.40</td>\n",
       "      <td>1</td>\n",
       "      <td>26</td>\n",
       "      <td>...</td>\n",
       "      <td>-1</td>\n",
       "      <td>-1</td>\n",
       "      <td>-1</td>\n",
       "      <td>-1</td>\n",
       "      <td>-1</td>\n",
       "      <td>-1</td>\n",
       "      <td>-1</td>\n",
       "      <td>-1</td>\n",
       "      <td>-1</td>\n",
       "      <td>-1</td>\n",
       "    </tr>\n",
       "    <tr>\n",
       "      <th>3</th>\n",
       "      <td>1</td>\n",
       "      <td>0</td>\n",
       "      <td>3</td>\n",
       "      <td>10</td>\n",
       "      <td>2</td>\n",
       "      <td>-1</td>\n",
       "      <td>5</td>\n",
       "      <td>0.41</td>\n",
       "      <td>0</td>\n",
       "      <td>24</td>\n",
       "      <td>...</td>\n",
       "      <td>-1</td>\n",
       "      <td>-1</td>\n",
       "      <td>-1</td>\n",
       "      <td>-1</td>\n",
       "      <td>-1</td>\n",
       "      <td>-1</td>\n",
       "      <td>-1</td>\n",
       "      <td>-1</td>\n",
       "      <td>-1</td>\n",
       "      <td>-1</td>\n",
       "    </tr>\n",
       "    <tr>\n",
       "      <th>4</th>\n",
       "      <td>1</td>\n",
       "      <td>1</td>\n",
       "      <td>11</td>\n",
       "      <td>21</td>\n",
       "      <td>10</td>\n",
       "      <td>10</td>\n",
       "      <td>20</td>\n",
       "      <td>0.43</td>\n",
       "      <td>1</td>\n",
       "      <td>28</td>\n",
       "      <td>...</td>\n",
       "      <td>6</td>\n",
       "      <td>8</td>\n",
       "      <td>7</td>\n",
       "      <td>7</td>\n",
       "      <td>7</td>\n",
       "      <td>6</td>\n",
       "      <td>7</td>\n",
       "      <td>6</td>\n",
       "      <td>6</td>\n",
       "      <td>7</td>\n",
       "    </tr>\n",
       "    <tr>\n",
       "      <th>...</th>\n",
       "      <td>...</td>\n",
       "      <td>...</td>\n",
       "      <td>...</td>\n",
       "      <td>...</td>\n",
       "      <td>...</td>\n",
       "      <td>...</td>\n",
       "      <td>...</td>\n",
       "      <td>...</td>\n",
       "      <td>...</td>\n",
       "      <td>...</td>\n",
       "      <td>...</td>\n",
       "      <td>...</td>\n",
       "      <td>...</td>\n",
       "      <td>...</td>\n",
       "      <td>...</td>\n",
       "      <td>...</td>\n",
       "      <td>...</td>\n",
       "      <td>...</td>\n",
       "      <td>...</td>\n",
       "      <td>...</td>\n",
       "      <td>...</td>\n",
       "    </tr>\n",
       "    <tr>\n",
       "      <th>2709</th>\n",
       "      <td>1</td>\n",
       "      <td>1</td>\n",
       "      <td>4</td>\n",
       "      <td>18</td>\n",
       "      <td>7</td>\n",
       "      <td>-1</td>\n",
       "      <td>10</td>\n",
       "      <td>0.73</td>\n",
       "      <td>0</td>\n",
       "      <td>22</td>\n",
       "      <td>...</td>\n",
       "      <td>-1</td>\n",
       "      <td>-1</td>\n",
       "      <td>-1</td>\n",
       "      <td>-1</td>\n",
       "      <td>-1</td>\n",
       "      <td>-1</td>\n",
       "      <td>-1</td>\n",
       "      <td>-1</td>\n",
       "      <td>-1</td>\n",
       "      <td>-1</td>\n",
       "    </tr>\n",
       "    <tr>\n",
       "      <th>2710</th>\n",
       "      <td>1</td>\n",
       "      <td>1</td>\n",
       "      <td>14</td>\n",
       "      <td>20</td>\n",
       "      <td>10</td>\n",
       "      <td>10</td>\n",
       "      <td>19</td>\n",
       "      <td>-1.00</td>\n",
       "      <td>0</td>\n",
       "      <td>-1</td>\n",
       "      <td>...</td>\n",
       "      <td>-1</td>\n",
       "      <td>-1</td>\n",
       "      <td>-1</td>\n",
       "      <td>-1</td>\n",
       "      <td>-1</td>\n",
       "      <td>-1</td>\n",
       "      <td>-1</td>\n",
       "      <td>-1</td>\n",
       "      <td>-1</td>\n",
       "      <td>-1</td>\n",
       "    </tr>\n",
       "    <tr>\n",
       "      <th>2711</th>\n",
       "      <td>0</td>\n",
       "      <td>0</td>\n",
       "      <td>5</td>\n",
       "      <td>10</td>\n",
       "      <td>9</td>\n",
       "      <td>-1</td>\n",
       "      <td>3</td>\n",
       "      <td>0.76</td>\n",
       "      <td>1</td>\n",
       "      <td>21</td>\n",
       "      <td>...</td>\n",
       "      <td>8</td>\n",
       "      <td>9</td>\n",
       "      <td>9</td>\n",
       "      <td>10</td>\n",
       "      <td>7</td>\n",
       "      <td>-1</td>\n",
       "      <td>-1</td>\n",
       "      <td>-1</td>\n",
       "      <td>-1</td>\n",
       "      <td>-1</td>\n",
       "    </tr>\n",
       "    <tr>\n",
       "      <th>2712</th>\n",
       "      <td>0</td>\n",
       "      <td>1</td>\n",
       "      <td>9</td>\n",
       "      <td>20</td>\n",
       "      <td>1</td>\n",
       "      <td>1</td>\n",
       "      <td>3</td>\n",
       "      <td>0.56</td>\n",
       "      <td>1</td>\n",
       "      <td>24</td>\n",
       "      <td>...</td>\n",
       "      <td>70</td>\n",
       "      <td>60</td>\n",
       "      <td>80</td>\n",
       "      <td>60</td>\n",
       "      <td>60</td>\n",
       "      <td>-10</td>\n",
       "      <td>-10</td>\n",
       "      <td>-10</td>\n",
       "      <td>-10</td>\n",
       "      <td>-10</td>\n",
       "    </tr>\n",
       "    <tr>\n",
       "      <th>2713</th>\n",
       "      <td>0</td>\n",
       "      <td>0</td>\n",
       "      <td>8</td>\n",
       "      <td>10</td>\n",
       "      <td>2</td>\n",
       "      <td>2</td>\n",
       "      <td>5</td>\n",
       "      <td>-0.27</td>\n",
       "      <td>0</td>\n",
       "      <td>27</td>\n",
       "      <td>...</td>\n",
       "      <td>90</td>\n",
       "      <td>70</td>\n",
       "      <td>90</td>\n",
       "      <td>90</td>\n",
       "      <td>90</td>\n",
       "      <td>-10</td>\n",
       "      <td>-10</td>\n",
       "      <td>-10</td>\n",
       "      <td>-10</td>\n",
       "      <td>-10</td>\n",
       "    </tr>\n",
       "  </tbody>\n",
       "</table>\n",
       "<p>2714 rows × 185 columns</p>\n",
       "</div>"
      ],
      "text/plain": [
       "      V1  V2  V3  V4  V5  V6  V7    V8  V9  V10  ...  V176  V177  V178  V179  \\\n",
       "0      0   1   4  18  17  -1   1  0.75   1   28  ...     8    10     8     9   \n",
       "1      0   0   1  10   6  -1  10  0.35   1   30  ...     6     5     6     8   \n",
       "2      0   0  16   8   4   4   4  0.40   1   26  ...    -1    -1    -1    -1   \n",
       "3      1   0   3  10   2  -1   5  0.41   0   24  ...    -1    -1    -1    -1   \n",
       "4      1   1  11  21  10  10  20  0.43   1   28  ...     6     8     7     7   \n",
       "...   ..  ..  ..  ..  ..  ..  ..   ...  ..  ...  ...   ...   ...   ...   ...   \n",
       "2709   1   1   4  18   7  -1  10  0.73   0   22  ...    -1    -1    -1    -1   \n",
       "2710   1   1  14  20  10  10  19 -1.00   0   -1  ...    -1    -1    -1    -1   \n",
       "2711   0   0   5  10   9  -1   3  0.76   1   21  ...     8     9     9    10   \n",
       "2712   0   1   9  20   1   1   3  0.56   1   24  ...    70    60    80    60   \n",
       "2713   0   0   8  10   2   2   5 -0.27   0   27  ...    90    70    90    90   \n",
       "\n",
       "      V180  V181  V182  V183  V184  V185  \n",
       "0        8    -1    -1    -1    -1    -1  \n",
       "1        5    -1    -1    -1    -1    -1  \n",
       "2       -1    -1    -1    -1    -1    -1  \n",
       "3       -1    -1    -1    -1    -1    -1  \n",
       "4        7     6     7     6     6     7  \n",
       "...    ...   ...   ...   ...   ...   ...  \n",
       "2709    -1    -1    -1    -1    -1    -1  \n",
       "2710    -1    -1    -1    -1    -1    -1  \n",
       "2711     7    -1    -1    -1    -1    -1  \n",
       "2712    60   -10   -10   -10   -10   -10  \n",
       "2713    90   -10   -10   -10   -10   -10  \n",
       "\n",
       "[2714 rows x 185 columns]"
      ]
     },
     "execution_count": 207,
     "metadata": {},
     "output_type": "execute_result"
    }
   ],
   "source": [
    "highDim_dataset_oversampling.head()"
   ]
  },
  {
   "cell_type": "code",
   "execution_count": 18,
   "metadata": {},
   "outputs": [
    {
     "name": "stdout",
     "output_type": "stream",
     "text": [
      "High-dimention_resample \n",
      "Treatment: 394 \n",
      "Control: 394\n"
     ]
    }
   ],
   "source": [
    "ovs = RandomOverSampler(random_state = 42)\n",
    "x1,y1 = ovs.fit_resample(lowDim_dataset.loc[:, lowDim_dataset.columns != 'A'],lowDim_dataset.A)\n",
    "lowDim_dataset_oversampling=x1\n",
    "lowDim_dataset_oversampling[\"A\"]=y1\n",
    "print(\"High-dimention_resample \\nTreatment:\", len(lowDim_dataset_oversampling[lowDim_dataset_oversampling.A == 1]),\n",
    "      \"\\nControl:\", len(lowDim_dataset_oversampling[lowDim_dataset_oversampling.A == 0]))"
   ]
  },
  {
   "cell_type": "markdown",
   "metadata": {},
   "source": [
    "###### second method: SMOTETomek\n",
    "\n",
    "Synthetic Minority Over-sampling Technique(SMOTE) is a technique that generates new observations by interposing between observations in the existing data.\n",
    "\n",
    "In Simple terms, It is a technique used to generate new data points for the minority classes based on existing data. "
   ]
  },
  {
   "cell_type": "code",
   "execution_count": 19,
   "metadata": {},
   "outputs": [
    {
     "name": "stdout",
     "output_type": "stream",
     "text": [
      "High-dimention_SMOTE \n",
      "Treatment: 1329 \n",
      "Control: 1329\n"
     ]
    }
   ],
   "source": [
    "smk = SMOTETomek()\n",
    "x_res,y_res = smk.fit_resample(highDim_dataset.loc[:,highDim_dataset.columns != 'A'],highDim_dataset.A)\n",
    "highDim_dataset_smote=x_res\n",
    "highDim_dataset_smote[\"A\"]=y_res\n",
    "print(\"High-dimention_SMOTE \\nTreatment:\", len(highDim_dataset_smote[highDim_dataset_smote.A == 1]),\n",
    "      \"\\nControl:\", len(highDim_dataset_smote[highDim_dataset_smote.A == 0]))"
   ]
  },
  {
   "cell_type": "code",
   "execution_count": 157,
   "metadata": {},
   "outputs": [
    {
     "name": "stdout",
     "output_type": "stream",
     "text": [
      "LOW-dimention_SMOTE \n",
      "Treatment: 383 \n",
      "Control: 383\n"
     ]
    }
   ],
   "source": [
    "smk1 = SMOTETomek()\n",
    "x_res1, Y_res1 = smk1.fit_resample(lowDim_dataset.loc[:,lowDim_dataset.columns != 'A'],\n",
    "                                          lowDim_dataset.A )\n",
    "lowDim_dataset_smote=x_res1\n",
    "lowDim_dataset_smote[\"A\"]=Y_res1\n",
    "print(\"LOW-dimention_SMOTE \\nTreatment:\", len(lowDim_dataset_smote[lowDim_dataset_smote.A == 1]),\n",
    "      \"\\nControl:\", len(lowDim_dataset_smote[lowDim_dataset_smote.A == 0]))"
   ]
  },
  {
   "cell_type": "markdown",
   "metadata": {},
   "source": [
    "## Split into train and test set 80:20"
   ]
  },
  {
   "cell_type": "code",
   "execution_count": 208,
   "metadata": {},
   "outputs": [],
   "source": [
    "def split_train_test(dataset):\n",
    "    X = np.array(dataset.iloc[:, 1:-1])\n",
    "    y = np.array(dataset.Y)\n",
    "    A = np.array(dataset.A)\n",
    "    \n",
    "    idx_train, idx_test, y_train, y_test = train_test_split(range(X.shape[0]), y, test_size=0.2, random_state=RANDOM_STATE)\n",
    "    X_train = X[idx_train]\n",
    "    X_test = X[idx_test]\n",
    "    A_train = A[idx_train]\n",
    "    A_test = A[idx_test]\n",
    "    return X_train, X_test, y_train, y_test, A_train, A_test\n",
    "\n",
    "# Split arrays into train and test set\n",
    "X_high_train, X_high_test, y_high_train, y_high_test, A_high_train, A_high_test= split_train_test(highDim_dataset_smote)\n",
    "X_low_train, X_low_test, y_low_train, y_low_test, A_low_train, A_low_test= split_train_test(lowDim_dataset_smote)"
   ]
  },
  {
   "cell_type": "markdown",
   "metadata": {},
   "source": [
    "## Propensity Score - Boosted Stumps"
   ]
  },
  {
   "cell_type": "markdown",
   "metadata": {},
   "source": [
    "#### Gradient Boosting"
   ]
  },
  {
   "cell_type": "code",
   "execution_count": 57,
   "metadata": {},
   "outputs": [],
   "source": [
    "param_grid = {\n",
    "              'learning_rate': [0.1,0.05,0.01],\n",
    "              'max_depth': [2,3,5],\n",
    "              'min_samples_split': [2, 4],\n",
    "              'n_estimators': [100,150],\n",
    "              'min_samples_leaf':[1,3,5]\n",
    "              }"
   ]
  },
  {
   "cell_type": "code",
   "execution_count": 58,
   "metadata": {},
   "outputs": [],
   "source": [
    "def grid_search(X:np.array, A:np.array, model, param_grid=param_grid, cv=10, print_step = True, sample_weight=None):\n",
    "    \"\"\"\n",
    "    Takes a baseline model and does grid search among parameters in the param_grid with cross validation.\n",
    "    Returns the model with best hyparameters after searching\n",
    "    \n",
    "    Inputs:\n",
    "    -------\n",
    "    X: np.array, feature set for fitting the model\n",
    "    y: np.array, target for predictions\n",
    "    model: an sklearn estimator object\n",
    "    param_grid: dict, a dictionary that contains possible search values for parameters\n",
    "    print_step: bool, whether to print detailed scores for each combination of parameters;\n",
    "                set print_step=False to only report the best combination of parameters and the best scores\n",
    "    sample_weight:np.array, instance weights, optional\n",
    "    \n",
    "    \n",
    "    Output:\n",
    "    -------\n",
    "    The sklearn estimator object with hyperparameters set to be the best parameters from search \n",
    "    \"\"\"\n",
    "    if sample_weight is None:\n",
    "        clf = GridSearchCV(model, param_grid, cv=cv, n_jobs=-1).fit(X, A)\n",
    "    else:\n",
    "        clf = GridSearchCV(model, param_grid, cv=cv, n_jobs=-1).fit(X, A, sample_weight = sample_weight)\n",
    "    print(\"Best accuracy: %0.3f\" % (clf.best_score_))\n",
    "    print()\n",
    "    print(\"Best parameters: %r\" % clf.best_params_)\n",
    "    print('-'*30)\n",
    "    if print_step:\n",
    "        means = clf.cv_results_['mean_test_score']\n",
    "        stds = clf.cv_results_['std_test_score']\n",
    "        for mean, std, params in zip(means, stds, clf.cv_results_['params']):\n",
    "        \t\tprint(\"%0.3f (+/-%0.03f) for %r\" % (mean, std * 2, params))\n",
    "        print('-'*30)\n",
    "\n",
    "    return(model.set_params(**clf.best_params_))"
   ]
  },
  {
   "cell_type": "code",
   "execution_count": 38,
   "metadata": {},
   "outputs": [
    {
     "name": "stdout",
     "output_type": "stream",
     "text": [
      "Best accuracy: 0.728\n",
      "\n",
      "Best parameters: {'learning_rate': 0.05, 'max_depth': 3, 'min_samples_leaf': 1, 'min_samples_split': 2, 'n_estimators': 100}\n",
      "------------------------------\n",
      "0.721 (+/-0.076) for {'learning_rate': 0.1, 'max_depth': 2, 'min_samples_leaf': 1, 'min_samples_split': 2, 'n_estimators': 100}\n",
      "0.712 (+/-0.060) for {'learning_rate': 0.1, 'max_depth': 2, 'min_samples_leaf': 1, 'min_samples_split': 2, 'n_estimators': 150}\n",
      "0.721 (+/-0.077) for {'learning_rate': 0.1, 'max_depth': 2, 'min_samples_leaf': 1, 'min_samples_split': 4, 'n_estimators': 100}\n",
      "0.713 (+/-0.067) for {'learning_rate': 0.1, 'max_depth': 2, 'min_samples_leaf': 1, 'min_samples_split': 4, 'n_estimators': 150}\n",
      "0.719 (+/-0.055) for {'learning_rate': 0.1, 'max_depth': 2, 'min_samples_leaf': 3, 'min_samples_split': 2, 'n_estimators': 100}\n",
      "0.711 (+/-0.062) for {'learning_rate': 0.1, 'max_depth': 2, 'min_samples_leaf': 3, 'min_samples_split': 2, 'n_estimators': 150}\n",
      "0.719 (+/-0.055) for {'learning_rate': 0.1, 'max_depth': 2, 'min_samples_leaf': 3, 'min_samples_split': 4, 'n_estimators': 100}\n",
      "0.711 (+/-0.062) for {'learning_rate': 0.1, 'max_depth': 2, 'min_samples_leaf': 3, 'min_samples_split': 4, 'n_estimators': 150}\n",
      "0.719 (+/-0.058) for {'learning_rate': 0.1, 'max_depth': 2, 'min_samples_leaf': 5, 'min_samples_split': 2, 'n_estimators': 100}\n",
      "0.718 (+/-0.052) for {'learning_rate': 0.1, 'max_depth': 2, 'min_samples_leaf': 5, 'min_samples_split': 2, 'n_estimators': 150}\n",
      "0.719 (+/-0.058) for {'learning_rate': 0.1, 'max_depth': 2, 'min_samples_leaf': 5, 'min_samples_split': 4, 'n_estimators': 100}\n",
      "0.718 (+/-0.052) for {'learning_rate': 0.1, 'max_depth': 2, 'min_samples_leaf': 5, 'min_samples_split': 4, 'n_estimators': 150}\n",
      "0.708 (+/-0.058) for {'learning_rate': 0.1, 'max_depth': 3, 'min_samples_leaf': 1, 'min_samples_split': 2, 'n_estimators': 100}\n",
      "0.699 (+/-0.082) for {'learning_rate': 0.1, 'max_depth': 3, 'min_samples_leaf': 1, 'min_samples_split': 2, 'n_estimators': 150}\n",
      "0.713 (+/-0.070) for {'learning_rate': 0.1, 'max_depth': 3, 'min_samples_leaf': 1, 'min_samples_split': 4, 'n_estimators': 100}\n",
      "0.702 (+/-0.055) for {'learning_rate': 0.1, 'max_depth': 3, 'min_samples_leaf': 1, 'min_samples_split': 4, 'n_estimators': 150}\n",
      "0.702 (+/-0.058) for {'learning_rate': 0.1, 'max_depth': 3, 'min_samples_leaf': 3, 'min_samples_split': 2, 'n_estimators': 100}\n",
      "0.694 (+/-0.073) for {'learning_rate': 0.1, 'max_depth': 3, 'min_samples_leaf': 3, 'min_samples_split': 2, 'n_estimators': 150}\n",
      "0.701 (+/-0.063) for {'learning_rate': 0.1, 'max_depth': 3, 'min_samples_leaf': 3, 'min_samples_split': 4, 'n_estimators': 100}\n",
      "0.698 (+/-0.078) for {'learning_rate': 0.1, 'max_depth': 3, 'min_samples_leaf': 3, 'min_samples_split': 4, 'n_estimators': 150}\n",
      "0.707 (+/-0.053) for {'learning_rate': 0.1, 'max_depth': 3, 'min_samples_leaf': 5, 'min_samples_split': 2, 'n_estimators': 100}\n",
      "0.698 (+/-0.057) for {'learning_rate': 0.1, 'max_depth': 3, 'min_samples_leaf': 5, 'min_samples_split': 2, 'n_estimators': 150}\n",
      "0.707 (+/-0.058) for {'learning_rate': 0.1, 'max_depth': 3, 'min_samples_leaf': 5, 'min_samples_split': 4, 'n_estimators': 100}\n",
      "0.698 (+/-0.058) for {'learning_rate': 0.1, 'max_depth': 3, 'min_samples_leaf': 5, 'min_samples_split': 4, 'n_estimators': 150}\n",
      "0.679 (+/-0.062) for {'learning_rate': 0.1, 'max_depth': 5, 'min_samples_leaf': 1, 'min_samples_split': 2, 'n_estimators': 100}\n",
      "0.671 (+/-0.071) for {'learning_rate': 0.1, 'max_depth': 5, 'min_samples_leaf': 1, 'min_samples_split': 2, 'n_estimators': 150}\n",
      "0.677 (+/-0.065) for {'learning_rate': 0.1, 'max_depth': 5, 'min_samples_leaf': 1, 'min_samples_split': 4, 'n_estimators': 100}\n",
      "0.681 (+/-0.071) for {'learning_rate': 0.1, 'max_depth': 5, 'min_samples_leaf': 1, 'min_samples_split': 4, 'n_estimators': 150}\n",
      "0.672 (+/-0.062) for {'learning_rate': 0.1, 'max_depth': 5, 'min_samples_leaf': 3, 'min_samples_split': 2, 'n_estimators': 100}\n",
      "0.672 (+/-0.061) for {'learning_rate': 0.1, 'max_depth': 5, 'min_samples_leaf': 3, 'min_samples_split': 2, 'n_estimators': 150}\n",
      "0.684 (+/-0.067) for {'learning_rate': 0.1, 'max_depth': 5, 'min_samples_leaf': 3, 'min_samples_split': 4, 'n_estimators': 100}\n",
      "0.672 (+/-0.069) for {'learning_rate': 0.1, 'max_depth': 5, 'min_samples_leaf': 3, 'min_samples_split': 4, 'n_estimators': 150}\n",
      "0.684 (+/-0.065) for {'learning_rate': 0.1, 'max_depth': 5, 'min_samples_leaf': 5, 'min_samples_split': 2, 'n_estimators': 100}\n",
      "0.688 (+/-0.066) for {'learning_rate': 0.1, 'max_depth': 5, 'min_samples_leaf': 5, 'min_samples_split': 2, 'n_estimators': 150}\n",
      "0.689 (+/-0.059) for {'learning_rate': 0.1, 'max_depth': 5, 'min_samples_leaf': 5, 'min_samples_split': 4, 'n_estimators': 100}\n",
      "0.678 (+/-0.062) for {'learning_rate': 0.1, 'max_depth': 5, 'min_samples_leaf': 5, 'min_samples_split': 4, 'n_estimators': 150}\n",
      "0.724 (+/-0.061) for {'learning_rate': 0.05, 'max_depth': 2, 'min_samples_leaf': 1, 'min_samples_split': 2, 'n_estimators': 100}\n",
      "0.721 (+/-0.062) for {'learning_rate': 0.05, 'max_depth': 2, 'min_samples_leaf': 1, 'min_samples_split': 2, 'n_estimators': 150}\n",
      "0.724 (+/-0.061) for {'learning_rate': 0.05, 'max_depth': 2, 'min_samples_leaf': 1, 'min_samples_split': 4, 'n_estimators': 100}\n",
      "0.721 (+/-0.060) for {'learning_rate': 0.05, 'max_depth': 2, 'min_samples_leaf': 1, 'min_samples_split': 4, 'n_estimators': 150}\n",
      "0.726 (+/-0.060) for {'learning_rate': 0.05, 'max_depth': 2, 'min_samples_leaf': 3, 'min_samples_split': 2, 'n_estimators': 100}\n",
      "0.724 (+/-0.062) for {'learning_rate': 0.05, 'max_depth': 2, 'min_samples_leaf': 3, 'min_samples_split': 2, 'n_estimators': 150}\n",
      "0.726 (+/-0.060) for {'learning_rate': 0.05, 'max_depth': 2, 'min_samples_leaf': 3, 'min_samples_split': 4, 'n_estimators': 100}\n",
      "0.724 (+/-0.062) for {'learning_rate': 0.05, 'max_depth': 2, 'min_samples_leaf': 3, 'min_samples_split': 4, 'n_estimators': 150}\n",
      "0.724 (+/-0.056) for {'learning_rate': 0.05, 'max_depth': 2, 'min_samples_leaf': 5, 'min_samples_split': 2, 'n_estimators': 100}\n",
      "0.725 (+/-0.069) for {'learning_rate': 0.05, 'max_depth': 2, 'min_samples_leaf': 5, 'min_samples_split': 2, 'n_estimators': 150}\n",
      "0.724 (+/-0.056) for {'learning_rate': 0.05, 'max_depth': 2, 'min_samples_leaf': 5, 'min_samples_split': 4, 'n_estimators': 100}\n",
      "0.725 (+/-0.069) for {'learning_rate': 0.05, 'max_depth': 2, 'min_samples_leaf': 5, 'min_samples_split': 4, 'n_estimators': 150}\n",
      "0.728 (+/-0.055) for {'learning_rate': 0.05, 'max_depth': 3, 'min_samples_leaf': 1, 'min_samples_split': 2, 'n_estimators': 100}\n",
      "0.720 (+/-0.061) for {'learning_rate': 0.05, 'max_depth': 3, 'min_samples_leaf': 1, 'min_samples_split': 2, 'n_estimators': 150}\n",
      "0.725 (+/-0.060) for {'learning_rate': 0.05, 'max_depth': 3, 'min_samples_leaf': 1, 'min_samples_split': 4, 'n_estimators': 100}\n",
      "0.719 (+/-0.067) for {'learning_rate': 0.05, 'max_depth': 3, 'min_samples_leaf': 1, 'min_samples_split': 4, 'n_estimators': 150}\n",
      "0.723 (+/-0.055) for {'learning_rate': 0.05, 'max_depth': 3, 'min_samples_leaf': 3, 'min_samples_split': 2, 'n_estimators': 100}\n",
      "0.712 (+/-0.069) for {'learning_rate': 0.05, 'max_depth': 3, 'min_samples_leaf': 3, 'min_samples_split': 2, 'n_estimators': 150}\n",
      "0.722 (+/-0.053) for {'learning_rate': 0.05, 'max_depth': 3, 'min_samples_leaf': 3, 'min_samples_split': 4, 'n_estimators': 100}\n",
      "0.713 (+/-0.067) for {'learning_rate': 0.05, 'max_depth': 3, 'min_samples_leaf': 3, 'min_samples_split': 4, 'n_estimators': 150}\n",
      "0.719 (+/-0.071) for {'learning_rate': 0.05, 'max_depth': 3, 'min_samples_leaf': 5, 'min_samples_split': 2, 'n_estimators': 100}\n",
      "0.711 (+/-0.064) for {'learning_rate': 0.05, 'max_depth': 3, 'min_samples_leaf': 5, 'min_samples_split': 2, 'n_estimators': 150}\n",
      "0.717 (+/-0.068) for {'learning_rate': 0.05, 'max_depth': 3, 'min_samples_leaf': 5, 'min_samples_split': 4, 'n_estimators': 100}\n",
      "0.711 (+/-0.064) for {'learning_rate': 0.05, 'max_depth': 3, 'min_samples_leaf': 5, 'min_samples_split': 4, 'n_estimators': 150}\n",
      "0.690 (+/-0.050) for {'learning_rate': 0.05, 'max_depth': 5, 'min_samples_leaf': 1, 'min_samples_split': 2, 'n_estimators': 100}\n",
      "0.689 (+/-0.059) for {'learning_rate': 0.05, 'max_depth': 5, 'min_samples_leaf': 1, 'min_samples_split': 2, 'n_estimators': 150}\n",
      "0.695 (+/-0.049) for {'learning_rate': 0.05, 'max_depth': 5, 'min_samples_leaf': 1, 'min_samples_split': 4, 'n_estimators': 100}\n",
      "0.687 (+/-0.053) for {'learning_rate': 0.05, 'max_depth': 5, 'min_samples_leaf': 1, 'min_samples_split': 4, 'n_estimators': 150}\n",
      "0.699 (+/-0.065) for {'learning_rate': 0.05, 'max_depth': 5, 'min_samples_leaf': 3, 'min_samples_split': 2, 'n_estimators': 100}\n",
      "0.682 (+/-0.051) for {'learning_rate': 0.05, 'max_depth': 5, 'min_samples_leaf': 3, 'min_samples_split': 2, 'n_estimators': 150}\n",
      "0.697 (+/-0.066) for {'learning_rate': 0.05, 'max_depth': 5, 'min_samples_leaf': 3, 'min_samples_split': 4, 'n_estimators': 100}\n",
      "0.686 (+/-0.065) for {'learning_rate': 0.05, 'max_depth': 5, 'min_samples_leaf': 3, 'min_samples_split': 4, 'n_estimators': 150}\n",
      "0.698 (+/-0.057) for {'learning_rate': 0.05, 'max_depth': 5, 'min_samples_leaf': 5, 'min_samples_split': 2, 'n_estimators': 100}\n",
      "0.693 (+/-0.060) for {'learning_rate': 0.05, 'max_depth': 5, 'min_samples_leaf': 5, 'min_samples_split': 2, 'n_estimators': 150}\n",
      "0.696 (+/-0.058) for {'learning_rate': 0.05, 'max_depth': 5, 'min_samples_leaf': 5, 'min_samples_split': 4, 'n_estimators': 100}\n",
      "0.696 (+/-0.047) for {'learning_rate': 0.05, 'max_depth': 5, 'min_samples_leaf': 5, 'min_samples_split': 4, 'n_estimators': 150}\n",
      "0.721 (+/-0.062) for {'learning_rate': 0.01, 'max_depth': 2, 'min_samples_leaf': 1, 'min_samples_split': 2, 'n_estimators': 100}\n",
      "0.723 (+/-0.065) for {'learning_rate': 0.01, 'max_depth': 2, 'min_samples_leaf': 1, 'min_samples_split': 2, 'n_estimators': 150}\n",
      "0.721 (+/-0.062) for {'learning_rate': 0.01, 'max_depth': 2, 'min_samples_leaf': 1, 'min_samples_split': 4, 'n_estimators': 100}\n",
      "0.723 (+/-0.065) for {'learning_rate': 0.01, 'max_depth': 2, 'min_samples_leaf': 1, 'min_samples_split': 4, 'n_estimators': 150}\n",
      "0.721 (+/-0.062) for {'learning_rate': 0.01, 'max_depth': 2, 'min_samples_leaf': 3, 'min_samples_split': 2, 'n_estimators': 100}\n",
      "0.723 (+/-0.065) for {'learning_rate': 0.01, 'max_depth': 2, 'min_samples_leaf': 3, 'min_samples_split': 2, 'n_estimators': 150}\n",
      "0.721 (+/-0.062) for {'learning_rate': 0.01, 'max_depth': 2, 'min_samples_leaf': 3, 'min_samples_split': 4, 'n_estimators': 100}\n",
      "0.723 (+/-0.065) for {'learning_rate': 0.01, 'max_depth': 2, 'min_samples_leaf': 3, 'min_samples_split': 4, 'n_estimators': 150}\n",
      "0.721 (+/-0.062) for {'learning_rate': 0.01, 'max_depth': 2, 'min_samples_leaf': 5, 'min_samples_split': 2, 'n_estimators': 100}\n",
      "0.722 (+/-0.065) for {'learning_rate': 0.01, 'max_depth': 2, 'min_samples_leaf': 5, 'min_samples_split': 2, 'n_estimators': 150}\n",
      "0.721 (+/-0.062) for {'learning_rate': 0.01, 'max_depth': 2, 'min_samples_leaf': 5, 'min_samples_split': 4, 'n_estimators': 100}\n",
      "0.722 (+/-0.065) for {'learning_rate': 0.01, 'max_depth': 2, 'min_samples_leaf': 5, 'min_samples_split': 4, 'n_estimators': 150}\n",
      "0.718 (+/-0.054) for {'learning_rate': 0.01, 'max_depth': 3, 'min_samples_leaf': 1, 'min_samples_split': 2, 'n_estimators': 100}\n",
      "0.724 (+/-0.061) for {'learning_rate': 0.01, 'max_depth': 3, 'min_samples_leaf': 1, 'min_samples_split': 2, 'n_estimators': 150}\n",
      "0.717 (+/-0.054) for {'learning_rate': 0.01, 'max_depth': 3, 'min_samples_leaf': 1, 'min_samples_split': 4, 'n_estimators': 100}\n",
      "0.724 (+/-0.061) for {'learning_rate': 0.01, 'max_depth': 3, 'min_samples_leaf': 1, 'min_samples_split': 4, 'n_estimators': 150}\n",
      "0.719 (+/-0.057) for {'learning_rate': 0.01, 'max_depth': 3, 'min_samples_leaf': 3, 'min_samples_split': 2, 'n_estimators': 100}\n",
      "0.724 (+/-0.061) for {'learning_rate': 0.01, 'max_depth': 3, 'min_samples_leaf': 3, 'min_samples_split': 2, 'n_estimators': 150}\n",
      "0.719 (+/-0.057) for {'learning_rate': 0.01, 'max_depth': 3, 'min_samples_leaf': 3, 'min_samples_split': 4, 'n_estimators': 100}\n",
      "0.724 (+/-0.061) for {'learning_rate': 0.01, 'max_depth': 3, 'min_samples_leaf': 3, 'min_samples_split': 4, 'n_estimators': 150}\n",
      "0.719 (+/-0.052) for {'learning_rate': 0.01, 'max_depth': 3, 'min_samples_leaf': 5, 'min_samples_split': 2, 'n_estimators': 100}\n",
      "0.722 (+/-0.061) for {'learning_rate': 0.01, 'max_depth': 3, 'min_samples_leaf': 5, 'min_samples_split': 2, 'n_estimators': 150}\n",
      "0.719 (+/-0.052) for {'learning_rate': 0.01, 'max_depth': 3, 'min_samples_leaf': 5, 'min_samples_split': 4, 'n_estimators': 100}\n",
      "0.722 (+/-0.061) for {'learning_rate': 0.01, 'max_depth': 3, 'min_samples_leaf': 5, 'min_samples_split': 4, 'n_estimators': 150}\n",
      "0.703 (+/-0.049) for {'learning_rate': 0.01, 'max_depth': 5, 'min_samples_leaf': 1, 'min_samples_split': 2, 'n_estimators': 100}\n",
      "0.705 (+/-0.069) for {'learning_rate': 0.01, 'max_depth': 5, 'min_samples_leaf': 1, 'min_samples_split': 2, 'n_estimators': 150}\n",
      "0.704 (+/-0.048) for {'learning_rate': 0.01, 'max_depth': 5, 'min_samples_leaf': 1, 'min_samples_split': 4, 'n_estimators': 100}\n",
      "0.704 (+/-0.074) for {'learning_rate': 0.01, 'max_depth': 5, 'min_samples_leaf': 1, 'min_samples_split': 4, 'n_estimators': 150}\n",
      "0.704 (+/-0.050) for {'learning_rate': 0.01, 'max_depth': 5, 'min_samples_leaf': 3, 'min_samples_split': 2, 'n_estimators': 100}\n",
      "0.704 (+/-0.054) for {'learning_rate': 0.01, 'max_depth': 5, 'min_samples_leaf': 3, 'min_samples_split': 2, 'n_estimators': 150}\n",
      "0.701 (+/-0.047) for {'learning_rate': 0.01, 'max_depth': 5, 'min_samples_leaf': 3, 'min_samples_split': 4, 'n_estimators': 100}\n",
      "0.704 (+/-0.053) for {'learning_rate': 0.01, 'max_depth': 5, 'min_samples_leaf': 3, 'min_samples_split': 4, 'n_estimators': 150}\n",
      "0.707 (+/-0.043) for {'learning_rate': 0.01, 'max_depth': 5, 'min_samples_leaf': 5, 'min_samples_split': 2, 'n_estimators': 100}\n",
      "0.711 (+/-0.051) for {'learning_rate': 0.01, 'max_depth': 5, 'min_samples_leaf': 5, 'min_samples_split': 2, 'n_estimators': 150}\n",
      "0.708 (+/-0.042) for {'learning_rate': 0.01, 'max_depth': 5, 'min_samples_leaf': 5, 'min_samples_split': 4, 'n_estimators': 100}\n",
      "0.711 (+/-0.054) for {'learning_rate': 0.01, 'max_depth': 5, 'min_samples_leaf': 5, 'min_samples_split': 4, 'n_estimators': 150}\n",
      "------------------------------\n"
     ]
    },
    {
     "name": "stdout",
     "output_type": "stream",
     "text": [
      "Best accuracy: 0.810\n",
      "\n",
      "Best parameters: {'learning_rate': 0.05, 'max_depth': 5, 'min_samples_leaf': 5, 'min_samples_split': 4, 'n_estimators': 100}\n",
      "------------------------------\n",
      "0.802 (+/-0.072) for {'learning_rate': 0.1, 'max_depth': 2, 'min_samples_leaf': 1, 'min_samples_split': 2, 'n_estimators': 100}\n",
      "0.800 (+/-0.071) for {'learning_rate': 0.1, 'max_depth': 2, 'min_samples_leaf': 1, 'min_samples_split': 2, 'n_estimators': 150}\n",
      "0.792 (+/-0.067) for {'learning_rate': 0.1, 'max_depth': 2, 'min_samples_leaf': 1, 'min_samples_split': 4, 'n_estimators': 100}\n",
      "0.798 (+/-0.065) for {'learning_rate': 0.1, 'max_depth': 2, 'min_samples_leaf': 1, 'min_samples_split': 4, 'n_estimators': 150}\n",
      "0.800 (+/-0.071) for {'learning_rate': 0.1, 'max_depth': 2, 'min_samples_leaf': 3, 'min_samples_split': 2, 'n_estimators': 100}\n",
      "0.805 (+/-0.083) for {'learning_rate': 0.1, 'max_depth': 2, 'min_samples_leaf': 3, 'min_samples_split': 2, 'n_estimators': 150}\n",
      "0.798 (+/-0.076) for {'learning_rate': 0.1, 'max_depth': 2, 'min_samples_leaf': 3, 'min_samples_split': 4, 'n_estimators': 100}\n",
      "0.805 (+/-0.083) for {'learning_rate': 0.1, 'max_depth': 2, 'min_samples_leaf': 3, 'min_samples_split': 4, 'n_estimators': 150}\n",
      "0.795 (+/-0.077) for {'learning_rate': 0.1, 'max_depth': 2, 'min_samples_leaf': 5, 'min_samples_split': 2, 'n_estimators': 100}\n",
      "0.787 (+/-0.084) for {'learning_rate': 0.1, 'max_depth': 2, 'min_samples_leaf': 5, 'min_samples_split': 2, 'n_estimators': 150}\n",
      "0.795 (+/-0.077) for {'learning_rate': 0.1, 'max_depth': 2, 'min_samples_leaf': 5, 'min_samples_split': 4, 'n_estimators': 100}\n",
      "0.787 (+/-0.084) for {'learning_rate': 0.1, 'max_depth': 2, 'min_samples_leaf': 5, 'min_samples_split': 4, 'n_estimators': 150}\n",
      "0.795 (+/-0.094) for {'learning_rate': 0.1, 'max_depth': 3, 'min_samples_leaf': 1, 'min_samples_split': 2, 'n_estimators': 100}\n",
      "0.787 (+/-0.060) for {'learning_rate': 0.1, 'max_depth': 3, 'min_samples_leaf': 1, 'min_samples_split': 2, 'n_estimators': 150}\n",
      "0.795 (+/-0.083) for {'learning_rate': 0.1, 'max_depth': 3, 'min_samples_leaf': 1, 'min_samples_split': 4, 'n_estimators': 100}\n",
      "0.785 (+/-0.051) for {'learning_rate': 0.1, 'max_depth': 3, 'min_samples_leaf': 1, 'min_samples_split': 4, 'n_estimators': 150}\n",
      "0.798 (+/-0.085) for {'learning_rate': 0.1, 'max_depth': 3, 'min_samples_leaf': 3, 'min_samples_split': 2, 'n_estimators': 100}\n",
      "0.780 (+/-0.077) for {'learning_rate': 0.1, 'max_depth': 3, 'min_samples_leaf': 3, 'min_samples_split': 2, 'n_estimators': 150}\n",
      "0.800 (+/-0.071) for {'learning_rate': 0.1, 'max_depth': 3, 'min_samples_leaf': 3, 'min_samples_split': 4, 'n_estimators': 100}\n",
      "0.785 (+/-0.075) for {'learning_rate': 0.1, 'max_depth': 3, 'min_samples_leaf': 3, 'min_samples_split': 4, 'n_estimators': 150}\n",
      "0.785 (+/-0.087) for {'learning_rate': 0.1, 'max_depth': 3, 'min_samples_leaf': 5, 'min_samples_split': 2, 'n_estimators': 100}\n",
      "0.770 (+/-0.097) for {'learning_rate': 0.1, 'max_depth': 3, 'min_samples_leaf': 5, 'min_samples_split': 2, 'n_estimators': 150}\n",
      "0.785 (+/-0.081) for {'learning_rate': 0.1, 'max_depth': 3, 'min_samples_leaf': 5, 'min_samples_split': 4, 'n_estimators': 100}\n",
      "0.767 (+/-0.090) for {'learning_rate': 0.1, 'max_depth': 3, 'min_samples_leaf': 5, 'min_samples_split': 4, 'n_estimators': 150}\n",
      "0.785 (+/-0.098) for {'learning_rate': 0.1, 'max_depth': 5, 'min_samples_leaf': 1, 'min_samples_split': 2, 'n_estimators': 100}\n",
      "0.788 (+/-0.087) for {'learning_rate': 0.1, 'max_depth': 5, 'min_samples_leaf': 1, 'min_samples_split': 2, 'n_estimators': 150}\n",
      "0.768 (+/-0.074) for {'learning_rate': 0.1, 'max_depth': 5, 'min_samples_leaf': 1, 'min_samples_split': 4, 'n_estimators': 100}\n",
      "0.787 (+/-0.098) for {'learning_rate': 0.1, 'max_depth': 5, 'min_samples_leaf': 1, 'min_samples_split': 4, 'n_estimators': 150}\n",
      "0.790 (+/-0.068) for {'learning_rate': 0.1, 'max_depth': 5, 'min_samples_leaf': 3, 'min_samples_split': 2, 'n_estimators': 100}\n",
      "0.777 (+/-0.079) for {'learning_rate': 0.1, 'max_depth': 5, 'min_samples_leaf': 3, 'min_samples_split': 2, 'n_estimators': 150}\n",
      "0.787 (+/-0.072) for {'learning_rate': 0.1, 'max_depth': 5, 'min_samples_leaf': 3, 'min_samples_split': 4, 'n_estimators': 100}\n",
      "0.785 (+/-0.064) for {'learning_rate': 0.1, 'max_depth': 5, 'min_samples_leaf': 3, 'min_samples_split': 4, 'n_estimators': 150}\n",
      "0.788 (+/-0.068) for {'learning_rate': 0.1, 'max_depth': 5, 'min_samples_leaf': 5, 'min_samples_split': 2, 'n_estimators': 100}\n",
      "0.772 (+/-0.072) for {'learning_rate': 0.1, 'max_depth': 5, 'min_samples_leaf': 5, 'min_samples_split': 2, 'n_estimators': 150}\n",
      "0.780 (+/-0.077) for {'learning_rate': 0.1, 'max_depth': 5, 'min_samples_leaf': 5, 'min_samples_split': 4, 'n_estimators': 100}\n",
      "0.768 (+/-0.078) for {'learning_rate': 0.1, 'max_depth': 5, 'min_samples_leaf': 5, 'min_samples_split': 4, 'n_estimators': 150}\n",
      "0.798 (+/-0.072) for {'learning_rate': 0.05, 'max_depth': 2, 'min_samples_leaf': 1, 'min_samples_split': 2, 'n_estimators': 100}\n",
      "0.805 (+/-0.066) for {'learning_rate': 0.05, 'max_depth': 2, 'min_samples_leaf': 1, 'min_samples_split': 2, 'n_estimators': 150}\n",
      "0.798 (+/-0.072) for {'learning_rate': 0.05, 'max_depth': 2, 'min_samples_leaf': 1, 'min_samples_split': 4, 'n_estimators': 100}\n",
      "0.795 (+/-0.080) for {'learning_rate': 0.05, 'max_depth': 2, 'min_samples_leaf': 1, 'min_samples_split': 4, 'n_estimators': 150}\n",
      "0.792 (+/-0.078) for {'learning_rate': 0.05, 'max_depth': 2, 'min_samples_leaf': 3, 'min_samples_split': 2, 'n_estimators': 100}\n",
      "0.793 (+/-0.078) for {'learning_rate': 0.05, 'max_depth': 2, 'min_samples_leaf': 3, 'min_samples_split': 2, 'n_estimators': 150}\n",
      "0.795 (+/-0.073) for {'learning_rate': 0.05, 'max_depth': 2, 'min_samples_leaf': 3, 'min_samples_split': 4, 'n_estimators': 100}\n",
      "0.793 (+/-0.078) for {'learning_rate': 0.05, 'max_depth': 2, 'min_samples_leaf': 3, 'min_samples_split': 4, 'n_estimators': 150}\n",
      "0.795 (+/-0.066) for {'learning_rate': 0.05, 'max_depth': 2, 'min_samples_leaf': 5, 'min_samples_split': 2, 'n_estimators': 100}\n",
      "0.800 (+/-0.071) for {'learning_rate': 0.05, 'max_depth': 2, 'min_samples_leaf': 5, 'min_samples_split': 2, 'n_estimators': 150}\n",
      "0.795 (+/-0.066) for {'learning_rate': 0.05, 'max_depth': 2, 'min_samples_leaf': 5, 'min_samples_split': 4, 'n_estimators': 100}\n",
      "0.800 (+/-0.071) for {'learning_rate': 0.05, 'max_depth': 2, 'min_samples_leaf': 5, 'min_samples_split': 4, 'n_estimators': 150}\n",
      "0.798 (+/-0.085) for {'learning_rate': 0.05, 'max_depth': 3, 'min_samples_leaf': 1, 'min_samples_split': 2, 'n_estimators': 100}\n",
      "0.800 (+/-0.074) for {'learning_rate': 0.05, 'max_depth': 3, 'min_samples_leaf': 1, 'min_samples_split': 2, 'n_estimators': 150}\n",
      "0.787 (+/-0.075) for {'learning_rate': 0.05, 'max_depth': 3, 'min_samples_leaf': 1, 'min_samples_split': 4, 'n_estimators': 100}\n",
      "0.800 (+/-0.067) for {'learning_rate': 0.05, 'max_depth': 3, 'min_samples_leaf': 1, 'min_samples_split': 4, 'n_estimators': 150}\n",
      "0.805 (+/-0.086) for {'learning_rate': 0.05, 'max_depth': 3, 'min_samples_leaf': 3, 'min_samples_split': 2, 'n_estimators': 100}\n",
      "0.798 (+/-0.057) for {'learning_rate': 0.05, 'max_depth': 3, 'min_samples_leaf': 3, 'min_samples_split': 2, 'n_estimators': 150}\n",
      "0.807 (+/-0.078) for {'learning_rate': 0.05, 'max_depth': 3, 'min_samples_leaf': 3, 'min_samples_split': 4, 'n_estimators': 100}\n",
      "0.798 (+/-0.057) for {'learning_rate': 0.05, 'max_depth': 3, 'min_samples_leaf': 3, 'min_samples_split': 4, 'n_estimators': 150}\n",
      "0.800 (+/-0.087) for {'learning_rate': 0.05, 'max_depth': 3, 'min_samples_leaf': 5, 'min_samples_split': 2, 'n_estimators': 100}\n",
      "0.792 (+/-0.084) for {'learning_rate': 0.05, 'max_depth': 3, 'min_samples_leaf': 5, 'min_samples_split': 2, 'n_estimators': 150}\n",
      "0.798 (+/-0.085) for {'learning_rate': 0.05, 'max_depth': 3, 'min_samples_leaf': 5, 'min_samples_split': 4, 'n_estimators': 100}\n",
      "0.792 (+/-0.084) for {'learning_rate': 0.05, 'max_depth': 3, 'min_samples_leaf': 5, 'min_samples_split': 4, 'n_estimators': 150}\n",
      "0.782 (+/-0.084) for {'learning_rate': 0.05, 'max_depth': 5, 'min_samples_leaf': 1, 'min_samples_split': 2, 'n_estimators': 100}\n",
      "0.792 (+/-0.081) for {'learning_rate': 0.05, 'max_depth': 5, 'min_samples_leaf': 1, 'min_samples_split': 2, 'n_estimators': 150}\n",
      "0.795 (+/-0.083) for {'learning_rate': 0.05, 'max_depth': 5, 'min_samples_leaf': 1, 'min_samples_split': 4, 'n_estimators': 100}\n",
      "0.787 (+/-0.087) for {'learning_rate': 0.05, 'max_depth': 5, 'min_samples_leaf': 1, 'min_samples_split': 4, 'n_estimators': 150}\n",
      "0.802 (+/-0.085) for {'learning_rate': 0.05, 'max_depth': 5, 'min_samples_leaf': 3, 'min_samples_split': 2, 'n_estimators': 100}\n",
      "0.795 (+/-0.073) for {'learning_rate': 0.05, 'max_depth': 5, 'min_samples_leaf': 3, 'min_samples_split': 2, 'n_estimators': 150}\n",
      "0.798 (+/-0.057) for {'learning_rate': 0.05, 'max_depth': 5, 'min_samples_leaf': 3, 'min_samples_split': 4, 'n_estimators': 100}\n",
      "0.795 (+/-0.073) for {'learning_rate': 0.05, 'max_depth': 5, 'min_samples_leaf': 3, 'min_samples_split': 4, 'n_estimators': 150}\n",
      "0.808 (+/-0.071) for {'learning_rate': 0.05, 'max_depth': 5, 'min_samples_leaf': 5, 'min_samples_split': 2, 'n_estimators': 100}\n",
      "0.790 (+/-0.068) for {'learning_rate': 0.05, 'max_depth': 5, 'min_samples_leaf': 5, 'min_samples_split': 2, 'n_estimators': 150}\n",
      "0.810 (+/-0.068) for {'learning_rate': 0.05, 'max_depth': 5, 'min_samples_leaf': 5, 'min_samples_split': 4, 'n_estimators': 100}\n",
      "0.795 (+/-0.073) for {'learning_rate': 0.05, 'max_depth': 5, 'min_samples_leaf': 5, 'min_samples_split': 4, 'n_estimators': 150}\n",
      "0.800 (+/-0.050) for {'learning_rate': 0.01, 'max_depth': 2, 'min_samples_leaf': 1, 'min_samples_split': 2, 'n_estimators': 100}\n",
      "0.802 (+/-0.047) for {'learning_rate': 0.01, 'max_depth': 2, 'min_samples_leaf': 1, 'min_samples_split': 2, 'n_estimators': 150}\n",
      "0.800 (+/-0.050) for {'learning_rate': 0.01, 'max_depth': 2, 'min_samples_leaf': 1, 'min_samples_split': 4, 'n_estimators': 100}\n",
      "0.802 (+/-0.047) for {'learning_rate': 0.01, 'max_depth': 2, 'min_samples_leaf': 1, 'min_samples_split': 4, 'n_estimators': 150}\n",
      "0.802 (+/-0.052) for {'learning_rate': 0.01, 'max_depth': 2, 'min_samples_leaf': 3, 'min_samples_split': 2, 'n_estimators': 100}\n",
      "0.800 (+/-0.055) for {'learning_rate': 0.01, 'max_depth': 2, 'min_samples_leaf': 3, 'min_samples_split': 2, 'n_estimators': 150}\n",
      "0.800 (+/-0.050) for {'learning_rate': 0.01, 'max_depth': 2, 'min_samples_leaf': 3, 'min_samples_split': 4, 'n_estimators': 100}\n",
      "0.802 (+/-0.061) for {'learning_rate': 0.01, 'max_depth': 2, 'min_samples_leaf': 3, 'min_samples_split': 4, 'n_estimators': 150}\n",
      "0.798 (+/-0.047) for {'learning_rate': 0.01, 'max_depth': 2, 'min_samples_leaf': 5, 'min_samples_split': 2, 'n_estimators': 100}\n",
      "0.808 (+/-0.050) for {'learning_rate': 0.01, 'max_depth': 2, 'min_samples_leaf': 5, 'min_samples_split': 2, 'n_estimators': 150}\n",
      "0.798 (+/-0.047) for {'learning_rate': 0.01, 'max_depth': 2, 'min_samples_leaf': 5, 'min_samples_split': 4, 'n_estimators': 100}\n",
      "0.808 (+/-0.050) for {'learning_rate': 0.01, 'max_depth': 2, 'min_samples_leaf': 5, 'min_samples_split': 4, 'n_estimators': 150}\n",
      "0.798 (+/-0.052) for {'learning_rate': 0.01, 'max_depth': 3, 'min_samples_leaf': 1, 'min_samples_split': 2, 'n_estimators': 100}\n",
      "0.790 (+/-0.064) for {'learning_rate': 0.01, 'max_depth': 3, 'min_samples_leaf': 1, 'min_samples_split': 2, 'n_estimators': 150}\n",
      "0.802 (+/-0.061) for {'learning_rate': 0.01, 'max_depth': 3, 'min_samples_leaf': 1, 'min_samples_split': 4, 'n_estimators': 100}\n",
      "0.790 (+/-0.064) for {'learning_rate': 0.01, 'max_depth': 3, 'min_samples_leaf': 1, 'min_samples_split': 4, 'n_estimators': 150}\n",
      "0.800 (+/-0.055) for {'learning_rate': 0.01, 'max_depth': 3, 'min_samples_leaf': 3, 'min_samples_split': 2, 'n_estimators': 100}\n",
      "0.798 (+/-0.057) for {'learning_rate': 0.01, 'max_depth': 3, 'min_samples_leaf': 3, 'min_samples_split': 2, 'n_estimators': 150}\n",
      "0.800 (+/-0.055) for {'learning_rate': 0.01, 'max_depth': 3, 'min_samples_leaf': 3, 'min_samples_split': 4, 'n_estimators': 100}\n",
      "0.798 (+/-0.057) for {'learning_rate': 0.01, 'max_depth': 3, 'min_samples_leaf': 3, 'min_samples_split': 4, 'n_estimators': 150}\n",
      "0.802 (+/-0.052) for {'learning_rate': 0.01, 'max_depth': 3, 'min_samples_leaf': 5, 'min_samples_split': 2, 'n_estimators': 100}\n",
      "0.798 (+/-0.061) for {'learning_rate': 0.01, 'max_depth': 3, 'min_samples_leaf': 5, 'min_samples_split': 2, 'n_estimators': 150}\n",
      "0.802 (+/-0.052) for {'learning_rate': 0.01, 'max_depth': 3, 'min_samples_leaf': 5, 'min_samples_split': 4, 'n_estimators': 100}\n",
      "0.798 (+/-0.061) for {'learning_rate': 0.01, 'max_depth': 3, 'min_samples_leaf': 5, 'min_samples_split': 4, 'n_estimators': 150}\n",
      "0.795 (+/-0.058) for {'learning_rate': 0.01, 'max_depth': 5, 'min_samples_leaf': 1, 'min_samples_split': 2, 'n_estimators': 100}\n",
      "0.793 (+/-0.050) for {'learning_rate': 0.01, 'max_depth': 5, 'min_samples_leaf': 1, 'min_samples_split': 2, 'n_estimators': 150}\n",
      "0.790 (+/-0.068) for {'learning_rate': 0.01, 'max_depth': 5, 'min_samples_leaf': 1, 'min_samples_split': 4, 'n_estimators': 100}\n",
      "0.795 (+/-0.062) for {'learning_rate': 0.01, 'max_depth': 5, 'min_samples_leaf': 1, 'min_samples_split': 4, 'n_estimators': 150}\n",
      "0.785 (+/-0.060) for {'learning_rate': 0.01, 'max_depth': 5, 'min_samples_leaf': 3, 'min_samples_split': 2, 'n_estimators': 100}\n",
      "0.782 (+/-0.081) for {'learning_rate': 0.01, 'max_depth': 5, 'min_samples_leaf': 3, 'min_samples_split': 2, 'n_estimators': 150}\n",
      "0.785 (+/-0.060) for {'learning_rate': 0.01, 'max_depth': 5, 'min_samples_leaf': 3, 'min_samples_split': 4, 'n_estimators': 100}\n",
      "0.780 (+/-0.073) for {'learning_rate': 0.01, 'max_depth': 5, 'min_samples_leaf': 3, 'min_samples_split': 4, 'n_estimators': 150}\n",
      "0.802 (+/-0.072) for {'learning_rate': 0.01, 'max_depth': 5, 'min_samples_leaf': 5, 'min_samples_split': 2, 'n_estimators': 100}\n",
      "0.807 (+/-0.059) for {'learning_rate': 0.01, 'max_depth': 5, 'min_samples_leaf': 5, 'min_samples_split': 2, 'n_estimators': 150}\n",
      "0.802 (+/-0.072) for {'learning_rate': 0.01, 'max_depth': 5, 'min_samples_leaf': 5, 'min_samples_split': 4, 'n_estimators': 100}\n",
      "0.807 (+/-0.059) for {'learning_rate': 0.01, 'max_depth': 5, 'min_samples_leaf': 5, 'min_samples_split': 4, 'n_estimators': 150}\n",
      "------------------------------\n"
     ]
    }
   ],
   "source": [
    "gbm_high = grid_search(X_high_train, A_high_train, model=GradientBoostingClassifier(random_state=RANDOM_STATE))\n",
    "gbm_low = grid_search(X_low_train, A_low_train, model=GradientBoostingClassifier(random_state=RANDOM_STATE))"
   ]
  },
  {
   "cell_type": "code",
   "execution_count": 209,
   "metadata": {},
   "outputs": [],
   "source": [
    "# A copy of best hyperparameters from grid search\n",
    "# Can skip the last cell because grid search takes minutes\n",
    "best_params_high = {'learning_rate': 0.05, 'max_depth': 5, 'min_samples_leaf': 5, 'min_samples_split': 4, 'n_estimators': 100}\n",
    "best_params_low = {'learning_rate': 0.05, 'max_depth': 5, 'min_samples_leaf': 5, 'min_samples_split': 4, 'n_estimators': 100}\n",
    "\n",
    "gbm_high = GradientBoostingClassifier(random_state=RANDOM_STATE).set_params(**best_params_high)\n",
    "gbm_low = GradientBoostingClassifier(random_state=RANDOM_STATE).set_params(**best_params_low)"
   ]
  },
  {
   "cell_type": "code",
   "execution_count": 210,
   "metadata": {},
   "outputs": [],
   "source": [
    "# Fit the models\n",
    "gbm_high = gbm_high.fit(X_high_train, A_high_train)\n",
    "gbm_low = gbm_low.fit(X_low_train, A_low_train)\n",
    "\n",
    "# Predict the propensity scores\n",
    "ps_high_train = gbm_high.predict_proba(X_high_train)[:, 1]\n",
    "ps_low_train = gbm_low.predict_proba(X_low_train)[:, 1]"
   ]
  },
  {
   "cell_type": "code",
   "execution_count": 211,
   "metadata": {},
   "outputs": [
    {
     "data": {
      "text/plain": [
       "0.9369708372530574"
      ]
     },
     "execution_count": 211,
     "metadata": {},
     "output_type": "execute_result"
    }
   ],
   "source": [
    "gbm_high.score(X_high_train, A_high_train)"
   ]
  },
  {
   "cell_type": "code",
   "execution_count": 212,
   "metadata": {},
   "outputs": [
    {
     "data": {
      "text/plain": [
       "0.9526143790849673"
      ]
     },
     "execution_count": 212,
     "metadata": {},
     "output_type": "execute_result"
    }
   ],
   "source": [
    "gbm_low.score(X_low_train, A_low_train)"
   ]
  },
  {
   "cell_type": "markdown",
   "metadata": {},
   "source": [
    "#### XG Boost (weighted)"
   ]
  },
  {
   "cell_type": "code",
   "execution_count": 66,
   "metadata": {},
   "outputs": [],
   "source": [
    "param_grid_xgb = {\n",
    "    'objective':['binary:logistic', 'reg:squarederror'],\n",
    "    'n_estimators':[10,50,100],\n",
    "    'min_child_weight': [1, 5, 10],\n",
    "    'gamma': [0.5, 1.0, 1.5],\n",
    "    'subsample': [0.3, 0.6, 0.8, 1.0],\n",
    "    'colsample_bytree': [0.6, 0.8],\n",
    "    'max_depth': [3, 4]#,\n",
    "    #'scale_pos_weight':[1, 2, 4]\n",
    "}"
   ]
  },
  {
   "cell_type": "code",
   "execution_count": 163,
   "metadata": {},
   "outputs": [
    {
     "ename": "NameError",
     "evalue": "name 'grid_search' is not defined",
     "output_type": "error",
     "traceback": [
      "\u001b[0;31m---------------------------------------------------------------------------\u001b[0m",
      "\u001b[0;31mNameError\u001b[0m                                 Traceback (most recent call last)",
      "\u001b[0;32m<ipython-input-163-4a2c0b61fc89>\u001b[0m in \u001b[0;36m<module>\u001b[0;34m\u001b[0m\n\u001b[1;32m      1\u001b[0m \u001b[0;31m# Caution: This chunk is sloooooooooow, so maybe you wanna skip this cell and instead use the next\u001b[0m\u001b[0;34m\u001b[0m\u001b[0;34m\u001b[0m\u001b[0;34m\u001b[0m\u001b[0m\n\u001b[1;32m      2\u001b[0m \u001b[0;31m# cell which gives the same results\u001b[0m\u001b[0;34m\u001b[0m\u001b[0;34m\u001b[0m\u001b[0;34m\u001b[0m\u001b[0m\n\u001b[0;32m----> 3\u001b[0;31m xgb_high = grid_search(X_high_train, A_high_train, param_grid = param_grid_xgb, print_step=False, cv=5,\n\u001b[0m\u001b[1;32m      4\u001b[0m                        model=XGBClassifier(n_jobs=-1,random_state=RANDOM_STATE))\n\u001b[1;32m      5\u001b[0m xgb_low = grid_search(X_low_train, A_low_train, param_grid = param_grid_xgb, print_step=False,cv=5,\n",
      "\u001b[0;31mNameError\u001b[0m: name 'grid_search' is not defined"
     ]
    }
   ],
   "source": [
    "# Caution: This chunk is sloooooooooow, so maybe you wanna skip this cell and instead use the next \n",
    "# cell which gives the same results\n",
    "xgb_high = grid_search(X_high_train, A_high_train, param_grid = param_grid_xgb, print_step=False, cv=5,\n",
    "                       model=XGBClassifier(n_jobs=-1,random_state=RANDOM_STATE))\n",
    "xgb_low = grid_search(X_low_train, A_low_train, param_grid = param_grid_xgb, print_step=False,cv=5,\n",
    "                      model=XGBClassifier(n_jobs=-1,random_state=RANDOM_STATE))"
   ]
  },
  {
   "cell_type": "code",
   "execution_count": 162,
   "metadata": {},
   "outputs": [
    {
     "ename": "NameError",
     "evalue": "name 'XGBClassifier' is not defined",
     "output_type": "error",
     "traceback": [
      "\u001b[0;31m---------------------------------------------------------------------------\u001b[0m",
      "\u001b[0;31mNameError\u001b[0m                                 Traceback (most recent call last)",
      "\u001b[0;32m<ipython-input-162-b51cda2f6618>\u001b[0m in \u001b[0;36m<module>\u001b[0;34m\u001b[0m\n\u001b[1;32m      6\u001b[0m                        'objective': 'binary:logistic', 'subsample': 0.8}\n\u001b[1;32m      7\u001b[0m \u001b[0;34m\u001b[0m\u001b[0m\n\u001b[0;32m----> 8\u001b[0;31m \u001b[0mxgb_high\u001b[0m \u001b[0;34m=\u001b[0m \u001b[0mXGBClassifier\u001b[0m\u001b[0;34m(\u001b[0m\u001b[0mn_jobs\u001b[0m\u001b[0;34m=\u001b[0m\u001b[0;34m-\u001b[0m\u001b[0;36m1\u001b[0m\u001b[0;34m,\u001b[0m\u001b[0mrandom_state\u001b[0m\u001b[0;34m=\u001b[0m\u001b[0mRANDOM_STATE\u001b[0m\u001b[0;34m)\u001b[0m\u001b[0;34m.\u001b[0m\u001b[0mset_params\u001b[0m\u001b[0;34m(\u001b[0m\u001b[0;34m**\u001b[0m\u001b[0mbest_params_xgb_high\u001b[0m\u001b[0;34m)\u001b[0m\u001b[0;34m\u001b[0m\u001b[0;34m\u001b[0m\u001b[0m\n\u001b[0m\u001b[1;32m      9\u001b[0m \u001b[0mxgb_low\u001b[0m \u001b[0;34m=\u001b[0m \u001b[0mXGBClassifier\u001b[0m\u001b[0;34m(\u001b[0m\u001b[0mn_jobs\u001b[0m\u001b[0;34m=\u001b[0m\u001b[0;34m-\u001b[0m\u001b[0;36m1\u001b[0m\u001b[0;34m,\u001b[0m\u001b[0mrandom_state\u001b[0m\u001b[0;34m=\u001b[0m\u001b[0mRANDOM_STATE\u001b[0m\u001b[0;34m)\u001b[0m\u001b[0;34m.\u001b[0m\u001b[0mset_params\u001b[0m\u001b[0;34m(\u001b[0m\u001b[0;34m**\u001b[0m\u001b[0mbest_params_xgb_low\u001b[0m\u001b[0;34m)\u001b[0m\u001b[0;34m\u001b[0m\u001b[0;34m\u001b[0m\u001b[0m\n",
      "\u001b[0;31mNameError\u001b[0m: name 'XGBClassifier' is not defined"
     ]
    }
   ],
   "source": [
    "# A copy of best hyperparameters from grid search\n",
    "# Can skip the last cell because grid search takes minutes\n",
    "best_params_xgb_high = {'colsample_bytree': 0.8, 'gamma': 1.0, 'max_depth': 3, 'min_child_weight': 1, 'n_estimators': 10, \n",
    "                        'objective': 'reg:squarederror', 'subsample': 0.8}\n",
    "best_params_xgb_low = {'colsample_bytree': 0.6, 'gamma': 1.0, 'max_depth': 3, 'min_child_weight': 10, 'n_estimators': 50, \n",
    "                       'objective': 'binary:logistic', 'subsample': 0.8}\n",
    "\n",
    "xgb_high = XGBClassifier(n_jobs=-1,random_state=RANDOM_STATE).set_params(**best_params_xgb_high)\n",
    "xgb_low = XGBClassifier(n_jobs=-1,random_state=RANDOM_STATE).set_params(**best_params_xgb_low)"
   ]
  },
  {
   "cell_type": "code",
   "execution_count": 161,
   "metadata": {},
   "outputs": [
    {
     "ename": "NameError",
     "evalue": "name 'xgb_high' is not defined",
     "output_type": "error",
     "traceback": [
      "\u001b[0;31m---------------------------------------------------------------------------\u001b[0m",
      "\u001b[0;31mNameError\u001b[0m                                 Traceback (most recent call last)",
      "\u001b[0;32m<ipython-input-161-17559d00fce2>\u001b[0m in \u001b[0;36m<module>\u001b[0;34m\u001b[0m\n\u001b[1;32m      1\u001b[0m \u001b[0;31m# Fit the models\u001b[0m\u001b[0;34m\u001b[0m\u001b[0;34m\u001b[0m\u001b[0;34m\u001b[0m\u001b[0m\n\u001b[0;32m----> 2\u001b[0;31m \u001b[0mxgb_high\u001b[0m \u001b[0;34m=\u001b[0m \u001b[0mxgb_high\u001b[0m\u001b[0;34m.\u001b[0m\u001b[0mfit\u001b[0m\u001b[0;34m(\u001b[0m\u001b[0mX_high_train\u001b[0m\u001b[0;34m,\u001b[0m \u001b[0mA_high_train\u001b[0m\u001b[0;34m)\u001b[0m\u001b[0;34m\u001b[0m\u001b[0;34m\u001b[0m\u001b[0m\n\u001b[0m\u001b[1;32m      3\u001b[0m \u001b[0mxgb_low\u001b[0m \u001b[0;34m=\u001b[0m \u001b[0mxgb_low\u001b[0m\u001b[0;34m.\u001b[0m\u001b[0mfit\u001b[0m\u001b[0;34m(\u001b[0m\u001b[0mX_low_train\u001b[0m\u001b[0;34m,\u001b[0m \u001b[0mA_low_train\u001b[0m\u001b[0;34m)\u001b[0m\u001b[0;34m\u001b[0m\u001b[0;34m\u001b[0m\u001b[0m\n\u001b[1;32m      4\u001b[0m \u001b[0;34m\u001b[0m\u001b[0m\n\u001b[1;32m      5\u001b[0m \u001b[0;31m# Predict the propensity scores\u001b[0m\u001b[0;34m\u001b[0m\u001b[0;34m\u001b[0m\u001b[0;34m\u001b[0m\u001b[0m\n",
      "\u001b[0;31mNameError\u001b[0m: name 'xgb_high' is not defined"
     ]
    }
   ],
   "source": [
    "# Fit the models\n",
    "xgb_high = xgb_high.fit(X_high_train, A_high_train)\n",
    "xgb_low = xgb_low.fit(X_low_train, A_low_train)\n",
    "\n",
    "# Predict the propensity scores\n",
    "ps_high_train_xgb = xgb_high.predict_proba(X_high_train)[:, 1]\n",
    "ps_low_train_xgb = xgb_low.predict_proba(X_low_train)[:, 1]"
   ]
  },
  {
   "cell_type": "code",
   "execution_count": 161,
   "metadata": {},
   "outputs": [
    {
     "data": {
      "text/plain": [
       "0.76375"
      ]
     },
     "execution_count": 161,
     "metadata": {},
     "output_type": "execute_result"
    }
   ],
   "source": [
    "xgb_high.score(X_high_train, A_high_train)"
   ]
  },
  {
   "cell_type": "code",
   "execution_count": 162,
   "metadata": {},
   "outputs": [
    {
     "data": {
      "text/plain": [
       "0.8275"
      ]
     },
     "execution_count": 162,
     "metadata": {},
     "output_type": "execute_result"
    }
   ],
   "source": [
    "xgb_low.score(X_low_train, A_low_train)"
   ]
  },
  {
   "cell_type": "markdown",
   "metadata": {},
   "source": [
    "XGBoost with sample weights"
   ]
  },
  {
   "cell_type": "code",
   "execution_count": 145,
   "metadata": {},
   "outputs": [
    {
     "name": "stdout",
     "output_type": "stream",
     "text": [
      "[1090  510]\n",
      "[317  83]\n"
     ]
    }
   ],
   "source": [
    "#sample_weight_high = np.array([Counter(A_high_train)[0], Counter(A_high_train)[1]])\n",
    "#print(sample_weight_high)\n",
    "\n",
    "#sample_weight_low = np.array([Counter(A_low_train)[0], Counter(A_low_train)[1]])\n",
    "#print(sample_weight_low)"
   ]
  },
  {
   "cell_type": "markdown",
   "metadata": {},
   "source": [
    "## Combine data"
   ]
  },
  {
   "cell_type": "code",
   "execution_count": 213,
   "metadata": {},
   "outputs": [],
   "source": [
    "def combine_data(ps, A, y):\n",
    "    \"\"\"\n",
    "    Combines propensity scores with A and y\n",
    "    \n",
    "    Returns a data frame with three columns\n",
    "    \"\"\"\n",
    "    data = pd.DataFrame(\n",
    "        np.array([ps, A, y]).T,\n",
    "        columns=['e', 'A', 'Y']\n",
    "    )\n",
    "    return data"
   ]
  },
  {
   "cell_type": "code",
   "execution_count": 214,
   "metadata": {},
   "outputs": [],
   "source": [
    "final_high_train = combine_data(ps_high_train, A_high_train, y_high_train)\n",
    "final_low_train = combine_data(ps_low_train, A_low_train, y_low_train)\n"
   ]
  },
  {
   "cell_type": "code",
   "execution_count": 215,
   "metadata": {},
   "outputs": [
    {
     "data": {
      "text/html": [
       "<div>\n",
       "<style scoped>\n",
       "    .dataframe tbody tr th:only-of-type {\n",
       "        vertical-align: middle;\n",
       "    }\n",
       "\n",
       "    .dataframe tbody tr th {\n",
       "        vertical-align: top;\n",
       "    }\n",
       "\n",
       "    .dataframe thead th {\n",
       "        text-align: right;\n",
       "    }\n",
       "</style>\n",
       "<table border=\"1\" class=\"dataframe\">\n",
       "  <thead>\n",
       "    <tr style=\"text-align: right;\">\n",
       "      <th></th>\n",
       "      <th>e</th>\n",
       "      <th>A</th>\n",
       "      <th>Y</th>\n",
       "    </tr>\n",
       "  </thead>\n",
       "  <tbody>\n",
       "    <tr>\n",
       "      <th>0</th>\n",
       "      <td>0.602893</td>\n",
       "      <td>1.0</td>\n",
       "      <td>-5.271429</td>\n",
       "    </tr>\n",
       "    <tr>\n",
       "      <th>1</th>\n",
       "      <td>0.796517</td>\n",
       "      <td>1.0</td>\n",
       "      <td>-17.510451</td>\n",
       "    </tr>\n",
       "    <tr>\n",
       "      <th>2</th>\n",
       "      <td>0.651248</td>\n",
       "      <td>1.0</td>\n",
       "      <td>-37.877910</td>\n",
       "    </tr>\n",
       "    <tr>\n",
       "      <th>3</th>\n",
       "      <td>0.484821</td>\n",
       "      <td>0.0</td>\n",
       "      <td>49.238130</td>\n",
       "    </tr>\n",
       "    <tr>\n",
       "      <th>4</th>\n",
       "      <td>0.713430</td>\n",
       "      <td>1.0</td>\n",
       "      <td>-22.242015</td>\n",
       "    </tr>\n",
       "    <tr>\n",
       "      <th>...</th>\n",
       "      <td>...</td>\n",
       "      <td>...</td>\n",
       "      <td>...</td>\n",
       "    </tr>\n",
       "    <tr>\n",
       "      <th>2121</th>\n",
       "      <td>0.851025</td>\n",
       "      <td>1.0</td>\n",
       "      <td>-64.571280</td>\n",
       "    </tr>\n",
       "    <tr>\n",
       "      <th>2122</th>\n",
       "      <td>0.125673</td>\n",
       "      <td>0.0</td>\n",
       "      <td>32.877021</td>\n",
       "    </tr>\n",
       "    <tr>\n",
       "      <th>2123</th>\n",
       "      <td>0.581373</td>\n",
       "      <td>0.0</td>\n",
       "      <td>19.212109</td>\n",
       "    </tr>\n",
       "    <tr>\n",
       "      <th>2124</th>\n",
       "      <td>0.133008</td>\n",
       "      <td>0.0</td>\n",
       "      <td>34.169114</td>\n",
       "    </tr>\n",
       "    <tr>\n",
       "      <th>2125</th>\n",
       "      <td>0.358487</td>\n",
       "      <td>0.0</td>\n",
       "      <td>-10.273349</td>\n",
       "    </tr>\n",
       "  </tbody>\n",
       "</table>\n",
       "<p>2126 rows × 3 columns</p>\n",
       "</div>"
      ],
      "text/plain": [
       "             e    A          Y\n",
       "0     0.602893  1.0  -5.271429\n",
       "1     0.796517  1.0 -17.510451\n",
       "2     0.651248  1.0 -37.877910\n",
       "3     0.484821  0.0  49.238130\n",
       "4     0.713430  1.0 -22.242015\n",
       "...        ...  ...        ...\n",
       "2121  0.851025  1.0 -64.571280\n",
       "2122  0.125673  0.0  32.877021\n",
       "2123  0.581373  0.0  19.212109\n",
       "2124  0.133008  0.0  34.169114\n",
       "2125  0.358487  0.0 -10.273349\n",
       "\n",
       "[2126 rows x 3 columns]"
      ]
     },
     "execution_count": 215,
     "metadata": {},
     "output_type": "execute_result"
    }
   ],
   "source": [
    "final_high_train"
   ]
  },
  {
   "cell_type": "code",
   "execution_count": 216,
   "metadata": {},
   "outputs": [
    {
     "data": {
      "text/html": [
       "<div>\n",
       "<style scoped>\n",
       "    .dataframe tbody tr th:only-of-type {\n",
       "        vertical-align: middle;\n",
       "    }\n",
       "\n",
       "    .dataframe tbody tr th {\n",
       "        vertical-align: top;\n",
       "    }\n",
       "\n",
       "    .dataframe thead th {\n",
       "        text-align: right;\n",
       "    }\n",
       "</style>\n",
       "<table border=\"1\" class=\"dataframe\">\n",
       "  <thead>\n",
       "    <tr style=\"text-align: right;\">\n",
       "      <th></th>\n",
       "      <th>e</th>\n",
       "      <th>A</th>\n",
       "      <th>Y</th>\n",
       "    </tr>\n",
       "  </thead>\n",
       "  <tbody>\n",
       "    <tr>\n",
       "      <th>0</th>\n",
       "      <td>0.081114</td>\n",
       "      <td>0.0</td>\n",
       "      <td>26.374094</td>\n",
       "    </tr>\n",
       "    <tr>\n",
       "      <th>1</th>\n",
       "      <td>0.954954</td>\n",
       "      <td>1.0</td>\n",
       "      <td>39.568773</td>\n",
       "    </tr>\n",
       "    <tr>\n",
       "      <th>2</th>\n",
       "      <td>0.900908</td>\n",
       "      <td>1.0</td>\n",
       "      <td>40.800433</td>\n",
       "    </tr>\n",
       "    <tr>\n",
       "      <th>3</th>\n",
       "      <td>0.980242</td>\n",
       "      <td>1.0</td>\n",
       "      <td>51.973541</td>\n",
       "    </tr>\n",
       "    <tr>\n",
       "      <th>4</th>\n",
       "      <td>0.332985</td>\n",
       "      <td>0.0</td>\n",
       "      <td>17.295332</td>\n",
       "    </tr>\n",
       "    <tr>\n",
       "      <th>...</th>\n",
       "      <td>...</td>\n",
       "      <td>...</td>\n",
       "      <td>...</td>\n",
       "    </tr>\n",
       "    <tr>\n",
       "      <th>607</th>\n",
       "      <td>0.219515</td>\n",
       "      <td>0.0</td>\n",
       "      <td>10.105915</td>\n",
       "    </tr>\n",
       "    <tr>\n",
       "      <th>608</th>\n",
       "      <td>0.132697</td>\n",
       "      <td>0.0</td>\n",
       "      <td>3.119319</td>\n",
       "    </tr>\n",
       "    <tr>\n",
       "      <th>609</th>\n",
       "      <td>0.834984</td>\n",
       "      <td>1.0</td>\n",
       "      <td>39.312044</td>\n",
       "    </tr>\n",
       "    <tr>\n",
       "      <th>610</th>\n",
       "      <td>0.094007</td>\n",
       "      <td>0.0</td>\n",
       "      <td>17.973056</td>\n",
       "    </tr>\n",
       "    <tr>\n",
       "      <th>611</th>\n",
       "      <td>0.774825</td>\n",
       "      <td>1.0</td>\n",
       "      <td>13.273098</td>\n",
       "    </tr>\n",
       "  </tbody>\n",
       "</table>\n",
       "<p>612 rows × 3 columns</p>\n",
       "</div>"
      ],
      "text/plain": [
       "            e    A          Y\n",
       "0    0.081114  0.0  26.374094\n",
       "1    0.954954  1.0  39.568773\n",
       "2    0.900908  1.0  40.800433\n",
       "3    0.980242  1.0  51.973541\n",
       "4    0.332985  0.0  17.295332\n",
       "..        ...  ...        ...\n",
       "607  0.219515  0.0  10.105915\n",
       "608  0.132697  0.0   3.119319\n",
       "609  0.834984  1.0  39.312044\n",
       "610  0.094007  0.0  17.973056\n",
       "611  0.774825  1.0  13.273098\n",
       "\n",
       "[612 rows x 3 columns]"
      ]
     },
     "execution_count": 216,
     "metadata": {},
     "output_type": "execute_result"
    }
   ],
   "source": [
    "final_low_train"
   ]
  },
  {
   "cell_type": "code",
   "execution_count": 217,
   "metadata": {},
   "outputs": [
    {
     "data": {
      "image/png": "[encoded data removed]",
      "text/plain": [
       "<Figure size 432x288 with 1 Axes>"
      ]
     },
     "metadata": {
      "needs_background": "light"
     },
     "output_type": "display_data"
    }
   ],
   "source": [
    "plt.plot(final_low_train[final_low_train.A==0].e, \n",
    "         final_low_train[final_low_train.A==0].Y, 'o')\n",
    "plt.plot(final_low_train[final_low_train.A==1].e, \n",
    "         final_low_train[final_low_train.A==1].Y, 'ro')\n",
    "plt.show()"
   ]
  },
  {
   "cell_type": "markdown",
   "metadata": {},
   "source": [
    "## ATE Estimate - Stratification"
   ]
  },
  {
   "cell_type": "code",
   "execution_count": 218,
   "metadata": {},
   "outputs": [],
   "source": [
    "def Stratify(data:pd.DataFrame, k:int):\n",
    "    \n",
    "    data_copy = data.copy()\n",
    "    \n",
    "    # rank to resolve duplicate edge cases\n",
    "    data_copy['bin'] = pd.qcut(\n",
    "        data_copy.e.rank(method='first'), k, labels=False\n",
    "    )\n",
    "    \n",
    "    return data_copy"
   ]
  },
  {
   "cell_type": "code",
   "execution_count": 219,
   "metadata": {},
   "outputs": [
    {
     "data": {
      "text/html": [
       "<div>\n",
       "<style scoped>\n",
       "    .dataframe tbody tr th:only-of-type {\n",
       "        vertical-align: middle;\n",
       "    }\n",
       "\n",
       "    .dataframe tbody tr th {\n",
       "        vertical-align: top;\n",
       "    }\n",
       "\n",
       "    .dataframe thead th {\n",
       "        text-align: right;\n",
       "    }\n",
       "</style>\n",
       "<table border=\"1\" class=\"dataframe\">\n",
       "  <thead>\n",
       "    <tr style=\"text-align: right;\">\n",
       "      <th></th>\n",
       "      <th>e</th>\n",
       "      <th>A</th>\n",
       "      <th>Y</th>\n",
       "      <th>bin</th>\n",
       "    </tr>\n",
       "  </thead>\n",
       "  <tbody>\n",
       "    <tr>\n",
       "      <th>0</th>\n",
       "      <td>0.081114</td>\n",
       "      <td>0.0</td>\n",
       "      <td>26.374094</td>\n",
       "      <td>0</td>\n",
       "    </tr>\n",
       "    <tr>\n",
       "      <th>1</th>\n",
       "      <td>0.954954</td>\n",
       "      <td>1.0</td>\n",
       "      <td>39.568773</td>\n",
       "      <td>6</td>\n",
       "    </tr>\n",
       "    <tr>\n",
       "      <th>2</th>\n",
       "      <td>0.900908</td>\n",
       "      <td>1.0</td>\n",
       "      <td>40.800433</td>\n",
       "      <td>5</td>\n",
       "    </tr>\n",
       "    <tr>\n",
       "      <th>3</th>\n",
       "      <td>0.980242</td>\n",
       "      <td>1.0</td>\n",
       "      <td>51.973541</td>\n",
       "      <td>6</td>\n",
       "    </tr>\n",
       "    <tr>\n",
       "      <th>4</th>\n",
       "      <td>0.332985</td>\n",
       "      <td>0.0</td>\n",
       "      <td>17.295332</td>\n",
       "      <td>3</td>\n",
       "    </tr>\n",
       "    <tr>\n",
       "      <th>...</th>\n",
       "      <td>...</td>\n",
       "      <td>...</td>\n",
       "      <td>...</td>\n",
       "      <td>...</td>\n",
       "    </tr>\n",
       "    <tr>\n",
       "      <th>607</th>\n",
       "      <td>0.219515</td>\n",
       "      <td>0.0</td>\n",
       "      <td>10.105915</td>\n",
       "      <td>2</td>\n",
       "    </tr>\n",
       "    <tr>\n",
       "      <th>608</th>\n",
       "      <td>0.132697</td>\n",
       "      <td>0.0</td>\n",
       "      <td>3.119319</td>\n",
       "      <td>1</td>\n",
       "    </tr>\n",
       "    <tr>\n",
       "      <th>609</th>\n",
       "      <td>0.834984</td>\n",
       "      <td>1.0</td>\n",
       "      <td>39.312044</td>\n",
       "      <td>4</td>\n",
       "    </tr>\n",
       "    <tr>\n",
       "      <th>610</th>\n",
       "      <td>0.094007</td>\n",
       "      <td>0.0</td>\n",
       "      <td>17.973056</td>\n",
       "      <td>0</td>\n",
       "    </tr>\n",
       "    <tr>\n",
       "      <th>611</th>\n",
       "      <td>0.774825</td>\n",
       "      <td>1.0</td>\n",
       "      <td>13.273098</td>\n",
       "      <td>4</td>\n",
       "    </tr>\n",
       "  </tbody>\n",
       "</table>\n",
       "<p>612 rows × 4 columns</p>\n",
       "</div>"
      ],
      "text/plain": [
       "            e    A          Y  bin\n",
       "0    0.081114  0.0  26.374094    0\n",
       "1    0.954954  1.0  39.568773    6\n",
       "2    0.900908  1.0  40.800433    5\n",
       "3    0.980242  1.0  51.973541    6\n",
       "4    0.332985  0.0  17.295332    3\n",
       "..        ...  ...        ...  ...\n",
       "607  0.219515  0.0  10.105915    2\n",
       "608  0.132697  0.0   3.119319    1\n",
       "609  0.834984  1.0  39.312044    4\n",
       "610  0.094007  0.0  17.973056    0\n",
       "611  0.774825  1.0  13.273098    4\n",
       "\n",
       "[612 rows x 4 columns]"
      ]
     },
     "execution_count": 219,
     "metadata": {},
     "output_type": "execute_result"
    }
   ],
   "source": [
    "Stratify(final_low_train, 7)"
   ]
  },
  {
   "cell_type": "markdown",
   "metadata": {},
   "source": [
    "## ATE Estimate - Regression Adjustment"
   ]
  },
  {
   "cell_type": "code",
   "execution_count": 11,
   "metadata": {},
   "outputs": [],
   "source": [
    "def Calculate_ATE_RegrAdjusted(data:pd.DataFrame, X_data, k:int):\n",
    "    #model here\n",
    "    y = data.Y\n"
   ]
  },
  {
   "cell_type": "code",
   "execution_count": 13,
   "metadata": {},
   "outputs": [
    {
     "data": {
      "text/plain": [
       "2.1251380749539233"
      ]
     },
     "execution_count": 13,
     "metadata": {},
     "output_type": "execute_result"
    }
   ],
   "source": [
    "low_dim_treated = lowDim_dataset[lowDim_dataset['A'] == 1]\n",
    "low_dim_treated = low_dim_treated.reset_index(drop = True)\n",
    "\n",
    "low_dim_control = lowDim_dataset[lowDim_dataset['A'] == 0]\n",
    "low_dim_control = low_dim_control.reset_index(drop = True)\n",
    "\n",
    "#for treted\n",
    "lr = LinearRegression()\n",
    "X, y = low_dim_treated.iloc[:,2:], low_dim_treated.iloc[:,0]\n",
    "lr.fit(X, y)\n",
    "LinearRegression(copy_X=True, fit_intercept=True, normalize=False)\n",
    "coef_treated_low = lr.coef_\n",
    "intercept_treated_low =lr.intercept_\n",
    "\n",
    "#for control\n",
    "lr = LinearRegression()\n",
    "X, y = low_dim_control.iloc[:,2:], low_dim_control.iloc[:,0]\n",
    "lr.fit(X, y)\n",
    "LinearRegression(copy_X=True, fit_intercept=True, normalize=False)\n",
    "coef_control_low = lr.coef_\n",
    "intercept_control_low =lr.intercept_\n",
    "\n",
    "# fitted y for each group\n",
    "\n",
    "fitted_y_treated_low = lowDim_dataset.iloc[:,2:].transpose().multiply(coef_treated_low, axis =0).sum() + intercept_treated_low\n",
    "fitted_y_control_low = lowDim_dataset.iloc[:,2:].transpose().multiply(coef_control_low, axis =0).sum() + intercept_control_low\n",
    "\n",
    "# calculating the difference for two groups\n",
    "\n",
    "(fitted_y_treated_low - fitted_y_control_low).mean()"
   ]
  },
  {
   "cell_type": "code",
   "execution_count": 18,
   "metadata": {},
   "outputs": [
    {
     "data": {
      "text/plain": [
       "-57.42658732077761"
      ]
     },
     "execution_count": 18,
     "metadata": {},
     "output_type": "execute_result"
    }
   ],
   "source": [
    "high_dim_treated = highDim_dataset[highDim_dataset['A'] == 1]\n",
    "high_dim_treated = high_dim_treated.reset_index(drop = True)\n",
    "\n",
    "high_dim_control = highDim_dataset[highDim_dataset['A'] == 0]\n",
    "high_dim_control = high_dim_control.reset_index(drop = True)\n",
    "\n",
    "#for treated\n",
    "lr = LinearRegression()\n",
    "X, y = high_dim_treated.iloc[:,2:], high_dim_treated.iloc[:,0]\n",
    "lr.fit(X, y)\n",
    "LinearRegression(copy_X=True, fit_intercept=True, normalize=False)\n",
    "coef_treated_high = lr.coef_\n",
    "intercept_treated_high =lr.intercept_\n",
    "\n",
    "#for control\n",
    "lr = LinearRegression()\n",
    "X, y = high_dim_control.iloc[:,2:], high_dim_control.iloc[:,0]\n",
    "lr.fit(X, y)\n",
    "LinearRegression(copy_X=True, fit_intercept=True, normalize=False)\n",
    "coef_control_high = lr.coef_\n",
    "intercept_control_high =lr.intercept_\n",
    "\n",
    "# calculating fitted y for each group\n",
    "\n",
    "fitted_y_treated_high = highDim_dataset.iloc[:,2:].transpose().multiply(coef_treated_high, axis =0).sum() + intercept_treated_high\n",
    "fitted_y_control_high = highDim_dataset.iloc[:,2:].transpose().multiply(coef_control_high, axis =0).sum() + intercept_control_high\n",
    "\n",
    "# calculating the difference between two groups\n",
    "\n",
    "(fitted_y_treated_high - fitted_y_control_high).mean()"
   ]
  },
  {
   "cell_type": "markdown",
   "metadata": {},
   "source": [
    "## ATE Estimate - Regression Adjustment with Stratification"
   ]
  },
  {
   "cell_type": "code",
   "execution_count": 228,
   "metadata": {},
   "outputs": [],
   "source": [
    "# Wendy to fill in"
   ]
  },
  {
   "cell_type": "code",
   "execution_count": 254,
   "metadata": {},
   "outputs": [],
   "source": [
    "#Question from Chloe: Is this Regression with stratification instead of Regression adjustment with stratification?\n",
    "def Calculate_ATE_StratRegrAdjusted(data:pd.DataFrame, X_data, k:int):\n",
    "    \n",
    "    N = data.shape[0]\n",
    "    \n",
    "    data_adjusted = pd.concat(\n",
    "        [Stratify(data, k), X_data.reset_index(drop=True)], axis=1)\n",
    "    \n",
    "    # calculate ATE score\n",
    "    ATE = 0\n",
    "    for j in range(k):\n",
    "        \n",
    "        # temporary data frame\n",
    "        Qj = data_adjusted[data_adjusted.bin == j]\n",
    "        Nj = Qj.shape[0]\n",
    " \n",
    "        # Regression Adjusted Linearly, then Delta_j = alpha^Z_j\n",
    "        X = Qj.drop(['e', 'Y', 'bin'], axis=1)\n",
    "        y = Qj.Y\n",
    "        reg = LinearRegression().fit(X, y)\n",
    "        \n",
    "        ATE += reg.coef_[0]\n",
    "    \n",
    "    return ATE / k"
   ]
  },
  {
   "cell_type": "code",
   "execution_count": 255,
   "metadata": {},
   "outputs": [
    {
     "data": {
      "text/plain": [
       "-58.07708214418723"
      ]
     },
     "execution_count": 255,
     "metadata": {},
     "output_type": "execute_result"
    }
   ],
   "source": [
    "Calculate_ATE_StratRegrAdjusted(final_high_train, pd.DataFrame(X_high_train), 1)"
   ]
  },
  {
   "cell_type": "code",
   "execution_count": 256,
   "metadata": {},
   "outputs": [
    {
     "data": {
      "text/plain": [
       "2.3871437823830894"
      ]
     },
     "execution_count": 256,
     "metadata": {},
     "output_type": "execute_result"
    }
   ],
   "source": [
    "Calculate_ATE_StratRegrAdjusted(final_low_train, pd.DataFrame(X_low_train), 1)"
   ]
  },
  {
   "cell_type": "code",
   "execution_count": 257,
   "metadata": {},
   "outputs": [
    {
     "data": {
      "text/plain": [
       "-51.00669079407497"
      ]
     },
     "execution_count": 257,
     "metadata": {},
     "output_type": "execute_result"
    }
   ],
   "source": [
    "Calculate_ATE_StratRegrAdjusted(final_high_train, pd.DataFrame(X_high_train), 2)"
   ]
  },
  {
   "cell_type": "code",
   "execution_count": 258,
   "metadata": {},
   "outputs": [
    {
     "data": {
      "text/plain": [
       "2.008671492411615"
      ]
     },
     "execution_count": 258,
     "metadata": {},
     "output_type": "execute_result"
    }
   ],
   "source": [
    "Calculate_ATE_StratRegrAdjusted(final_low_train, pd.DataFrame(X_low_train), 2)"
   ]
  },
  {
   "cell_type": "code",
   "execution_count": 259,
   "metadata": {},
   "outputs": [
    {
     "data": {
      "image/png": "[encoded data removed]",
      "text/plain": [
       "<Figure size 432x288 with 1 Axes>"
      ]
     },
     "metadata": {
      "needs_background": "light"
     },
     "output_type": "display_data"
    }
   ],
   "source": [
    "# Graph as functions of bins\n",
    "plt.plot([Calculate_ATE_StratRegrAdjusted(final_high_train, pd.DataFrame(X_high_train), k) for k in range(1, 15)], 'o')\n",
    "plt.show()"
   ]
  },
  {
   "cell_type": "code",
   "execution_count": 260,
   "metadata": {},
   "outputs": [],
   "source": [
    "# By Chloe"
   ]
  },
  {
   "cell_type": "code",
   "execution_count": 261,
   "metadata": {},
   "outputs": [],
   "source": [
    "def Calculate_ATE_StratRegrAdjusted(data:pd.DataFrame, k:int):\n",
    "    \n",
    "    N = data.shape[0]\n",
    "    \n",
    "    data_copy = Stratify(data, k)\n",
    "    \n",
    "    # calculate ATE score\n",
    "    ATE = 0\n",
    "    for j in range(k):\n",
    "        \n",
    "        # stratum j\n",
    "        Qj = data_copy[data_copy.bin == j]\n",
    "        Nj = Qj.shape[0]\n",
    " \n",
    "        X = Qj[['A','e']]\n",
    "        y = Qj.Y\n",
    "        reg = LinearRegression().fit(X, y)\n",
    "        \n",
    "        ATE += reg.coef_[0]\n",
    "    \n",
    "    return ATE / k"
   ]
  },
  {
   "cell_type": "code",
   "execution_count": 262,
   "metadata": {},
   "outputs": [
    {
     "data": {
      "image/png": "[encoded data removed]",
      "text/plain": [
       "<Figure size 432x288 with 1 Axes>"
      ]
     },
     "metadata": {
      "needs_background": "light"
     },
     "output_type": "display_data"
    }
   ],
   "source": [
    "plt.scatter(range(1,11), [Calculate_ATE_StratRegrAdjusted(final_high_train, k) for k in range(1, 11)], label = 'ATE estimate')\n",
    "plt.hlines(high_true_ATE, 1, 10, colors='red', linestyles='dashed', label='ATE true')\n",
    "plt.title(\"High-dimension dataset\\nATE True vs. ATE Estimate by Regression Adjustment with Stratification\")\n",
    "plt.xlabel(\"Number of strata (k)\")\n",
    "plt.ylabel(\"ATE\")\n",
    "plt.legend()\n",
    "plt.show()"
   ]
  },
  {
   "cell_type": "code",
   "execution_count": 263,
   "metadata": {},
   "outputs": [
    {
     "data": {
      "image/png": "[encoded data removed]",
      "text/plain": [
       "<Figure size 432x288 with 1 Axes>"
      ]
     },
     "metadata": {
      "needs_background": "light"
     },
     "output_type": "display_data"
    }
   ],
   "source": [
    "plt.scatter(range(1,11), [Calculate_ATE_StratRegrAdjusted(final_low_train, k) for k in range(1, 11)], label = 'ATE estimate')\n",
    "plt.hlines(low_true_ATE, 1, 10, colors='red', linestyles='dashed', label='ATE true')\n",
    "plt.title(\"Low-dimension dataset\\nATE True vs. ATE Estimate by Regression Adjustment with Stratification\")\n",
    "plt.xlabel(\"Number of strata (k)\")\n",
    "plt.ylabel(\"ATE\")\n",
    "plt.legend()\n",
    "plt.show()"
   ]
  },
  {
   "cell_type": "code",
   "execution_count": null,
   "metadata": {},
   "outputs": [],
   "source": []
  },
  {
   "cell_type": "code",
   "execution_count": null,
   "metadata": {},
   "outputs": [],
   "source": []
  }
 ],
 "metadata": {
  "kernelspec": {
   "display_name": "Python 3",
   "language": "python",
   "name": "python3"
  },
  "language_info": {
   "codemirror_mode": {
    "name": "ipython",
    "version": 3
   },
   "file_extension": ".py",
   "mimetype": "text/x-python",
   "name": "python",
   "nbconvert_exporter": "python",
   "pygments_lexer": "ipython3",
   "version": "3.8.5"
  }
 },
 "nbformat": 4,
 "nbformat_minor": 4
}
